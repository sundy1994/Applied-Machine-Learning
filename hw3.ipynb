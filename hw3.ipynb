{
  "nbformat": 4,
  "nbformat_minor": 0,
  "metadata": {
    "colab": {
      "name": "“skeleton.ipynb”的副本",
      "provenance": [],
      "collapsed_sections": []
    },
    "kernelspec": {
      "display_name": "Python 3",
      "name": "python3"
    },
    "language_info": {
      "name": "python"
    }
  },
  "cells": [
    {
      "cell_type": "markdown",
      "metadata": {
        "id": "qs0yamHN-dY0"
      },
      "source": [
        "# **CIS 419/519 Homework 3 - Spring 2022**\n",
        "\n",
        "**Before starting, you must click on the \"Copy To Drive\" option in the top bar. Go to File --> Save a Copy to Drive. This is the master notebook so <u>you will not be able to save your changes without copying it </u>! Once you click on that, make sure you are working on that version of the notebook so that your work is saved** "
      ]
    },
    {
      "cell_type": "code",
      "source": [
        "# Restart the runtime after running this cell everytime you open the notebook\n",
        "!pip install pandas==1.1.5"
      ],
      "metadata": {
        "id": "GCqibYyjERm_",
        "colab": {
          "base_uri": "https://localhost:8080/"
        },
        "outputId": "56f27289-cf39-41a5-9b11-a403275dd70c"
      },
      "execution_count": 1,
      "outputs": [
        {
          "output_type": "stream",
          "name": "stdout",
          "text": [
            "Collecting pandas==1.1.5\n",
            "  Downloading pandas-1.1.5-cp37-cp37m-manylinux1_x86_64.whl (9.5 MB)\n",
            "\u001b[K     |████████████████████████████████| 9.5 MB 3.2 MB/s \n",
            "\u001b[?25hRequirement already satisfied: pytz>=2017.2 in /usr/local/lib/python3.7/dist-packages (from pandas==1.1.5) (2018.9)\n",
            "Requirement already satisfied: numpy>=1.15.4 in /usr/local/lib/python3.7/dist-packages (from pandas==1.1.5) (1.21.5)\n",
            "Requirement already satisfied: python-dateutil>=2.7.3 in /usr/local/lib/python3.7/dist-packages (from pandas==1.1.5) (2.8.2)\n",
            "Requirement already satisfied: six>=1.5 in /usr/local/lib/python3.7/dist-packages (from python-dateutil>=2.7.3->pandas==1.1.5) (1.15.0)\n",
            "Installing collected packages: pandas\n",
            "  Attempting uninstall: pandas\n",
            "    Found existing installation: pandas 1.3.5\n",
            "    Uninstalling pandas-1.3.5:\n",
            "      Successfully uninstalled pandas-1.3.5\n",
            "Successfully installed pandas-1.1.5\n"
          ]
        }
      ]
    },
    {
      "cell_type": "code",
      "metadata": {
        "id": "Rb-WLp5Z-cdy"
      },
      "source": [
        "import random \n",
        "import numpy as np\n",
        "import pandas as pd\n",
        "import os\n",
        "import sys\n",
        "import matplotlib.pyplot as plt\n",
        "from numpy.linalg import *\n",
        "from sklearn.preprocessing import StandardScaler\n",
        "np.random.seed(42)  # don't change this line\n",
        "\n",
        "import dill\n",
        "import base64"
      ],
      "execution_count": 2,
      "outputs": []
    },
    {
      "cell_type": "code",
      "metadata": {
        "id": "O2VtEzsZ-loR",
        "colab": {
          "base_uri": "https://localhost:8080/"
        },
        "outputId": "e46cf002-058a-4e8d-dfa4-1131042727bc"
      },
      "source": [
        "# For autogreader only, do not modify this cell. \n",
        "# True for Google Colab, False for autograder\n",
        "NOTEBOOK = (os.getenv('IS_AUTOGRADER') is None)\n",
        "if NOTEBOOK:\n",
        "    print(\"[INFO, OK] Google Colab.\")\n",
        "else:\n",
        "    print(\"[INFO, OK] Autograder.\")"
      ],
      "execution_count": 3,
      "outputs": [
        {
          "output_type": "stream",
          "name": "stdout",
          "text": [
            "[INFO, OK] Google Colab.\n"
          ]
        }
      ]
    },
    {
      "cell_type": "markdown",
      "metadata": {
        "id": "cjjXBdEb-p8K"
      },
      "source": [
        "# **PennGrader Setup**\n",
        "First, you'll need to set up the PennGrader, an autograder we are going to use throughout the semester. The PennGrader will automatically grade your answer and provide you with an instant feedback. Unless otherwise stated, you can resubmit up to a reasonable number of attempts (e.g. 100 attemptes per day). **We will only record your latest score in our backend database**. \n",
        "\n",
        "After finishing each homework assignment, you must submit your iPython notebook to gradescope before the homework deadline. Gradescope will then retrive and display your scores from our backend database. "
      ]
    },
    {
      "cell_type": "code",
      "metadata": {
        "id": "6GCTLN4G-nK2"
      },
      "source": [
        "%%capture\n",
        "!pip3 install penngrader --upgrade"
      ],
      "execution_count": 4,
      "outputs": []
    },
    {
      "cell_type": "code",
      "metadata": {
        "id": "QLnoPRci-sTC"
      },
      "source": [
        "from penngrader.grader import *"
      ],
      "execution_count": 5,
      "outputs": []
    },
    {
      "cell_type": "code",
      "metadata": {
        "id": "qu0XYZHO-t8J"
      },
      "source": [
        "#PLEASE ENSURE YOUR PENN-ID IS ENTERED CORRECTLY. IF NOT, THE AUTOGRADER WON'T KNOW WHO \n",
        "#TO ASSIGN POINTS TO YOU IN OUR BACKEND\n",
        "STUDENT_ID = 87030462          # YOUR PENN-ID GOES HERE AS AN INTEGER#"
      ],
      "execution_count": 6,
      "outputs": []
    },
    {
      "cell_type": "markdown",
      "metadata": {
        "id": "tIDTGGbo-xkf"
      },
      "source": [
        "Run the following cell to initialize the autograder. This autograder will let you submit your code directly from this notebook and immediately get a score.\n",
        "\n",
        "**NOTE:** Remember we store your submissions and check against other student's submissions... so, not that you would, but no cheating."
      ]
    },
    {
      "cell_type": "code",
      "metadata": {
        "id": "bw_QDnZk-vvI",
        "colab": {
          "base_uri": "https://localhost:8080/"
        },
        "outputId": "6dc5a3b1-aa8c-48b5-8530-aea48d10e78d"
      },
      "source": [
        "#GRADER TODO\n",
        "grader = PennGrader(homework_id = 'CIS_519_Spring22_HW3', student_id = STUDENT_ID)"
      ],
      "execution_count": 7,
      "outputs": [
        {
          "output_type": "stream",
          "name": "stdout",
          "text": [
            "PennGrader initialized with Student ID: 87030462\n",
            "\n",
            "Make sure this correct or we will not be able to store your grade\n"
          ]
        }
      ]
    },
    {
      "cell_type": "code",
      "metadata": {
        "id": "f0_ydbgD0Kvf"
      },
      "source": [
        "# A helper function for grading utils\n",
        "def grader_serialize(obj):        # A helper function\n",
        "    '''Dill serializes Python object into a UTF-8 string'''\n",
        "    byte_serialized = dill.dumps(obj, recurse = True)\n",
        "    return base64.b64encode(byte_serialized).decode(\"utf-8\")"
      ],
      "execution_count": 8,
      "outputs": []
    },
    {
      "cell_type": "markdown",
      "metadata": {
        "id": "xfXK6ET2npr2"
      },
      "source": [
        "## Datasets\n",
        "Next, we will download the dataset from Google Drive to your local runtime. After successful download, you may verify that all datasets are present in your colab instance.\n",
        "\n",
        "- [observations.csv](https://drive.google.com/file/d/1RvNTrL147Cx90ABv4IfXcexaRyHB-U-e/view?usp=sharing)\n",
        "- [test_student.csv](https://drive.google.com/file/d/1EjQ3Jy5q25GaxeNKh4ahtsLgHEyW3tUj/view?usp=sharing)\n",
        "\n",
        "\n",
        "#### Acknowledgement\n",
        "Dataset obtained from kaggle.com [Hourly Weather Surface - Brazil (Southeast region)](https://www.kaggle.com/PROPPG-PPG/hourly-weather-surface-brazil-southeast-region/metadata )"
      ]
    },
    {
      "cell_type": "code",
      "metadata": {
        "id": "Dexqdaw4n3Yo",
        "colab": {
          "base_uri": "https://localhost:8080/"
        },
        "outputId": "c9e33d38-a0db-44f4-b4e9-a9aa083b4415"
      },
      "source": [
        "if NOTEBOOK:\n",
        "  import gdown\n",
        "  if not os.path.exists(\"observations.csv\"):\n",
        "    !gdown --id 1RvNTrL147Cx90ABv4IfXcexaRyHB-U-e\n",
        "  if not os.path.exists(\"test_student.csv\"):\n",
        "    !gdown --id 1Z0I6iylDgTk2OKuKDaQVR9I1aJvgRsn_"
      ],
      "execution_count": 9,
      "outputs": [
        {
          "output_type": "stream",
          "name": "stdout",
          "text": [
            "Downloading...\n",
            "From: https://drive.google.com/uc?id=1RvNTrL147Cx90ABv4IfXcexaRyHB-U-e\n",
            "To: /content/observations.csv\n",
            "100% 13.5M/13.5M [00:00<00:00, 96.7MB/s]\n",
            "Downloading...\n",
            "From: https://drive.google.com/uc?id=1Z0I6iylDgTk2OKuKDaQVR9I1aJvgRsn_\n",
            "To: /content/test_student.csv\n",
            "100% 277k/277k [00:00<00:00, 23.4MB/s]\n"
          ]
        }
      ]
    },
    {
      "cell_type": "markdown",
      "source": [
        "#### **NOTE 1. If you are running into a `__builtins__' error, it's likely because you're using a function call of the form numpy.ndarray.mean(), like a.mean(). This does not play nice with PennGrader unfortunately. Please use the function call numpy.mean(a) instead.**"
      ],
      "metadata": {
        "id": "4GdHHkKWlXSX"
      }
    },
    {
      "cell_type": "markdown",
      "metadata": {
        "id": "_5aRm2cWbgxD"
      },
      "source": [
        "# **1. [20 pts] Data preprocessing**\n"
      ]
    },
    {
      "cell_type": "markdown",
      "metadata": {
        "id": "OEtfpvmx-bJs"
      },
      "source": [
        "This is the data preprocessing part of the homework. We will be focusing on a dataset of Brazilian weather station observations."
      ]
    },
    {
      "cell_type": "markdown",
      "metadata": {
        "id": "iYAXZbY_Wo4o"
      },
      "source": [
        "## **1.1. Importing the dataset**\n",
        "\n"
      ]
    },
    {
      "cell_type": "code",
      "metadata": {
        "id": "H1PCOKsv_5mT",
        "colab": {
          "base_uri": "https://localhost:8080/"
        },
        "outputId": "032eb7b3-3191-4a7f-8ba7-7680793052c2"
      },
      "source": [
        "if NOTEBOOK:\n",
        "    df = pd.read_csv(\"observations.csv\")\n",
        "    df = df.drop([\"Unnamed: 0\"], axis=1)\n",
        "    print(df.head())"
      ],
      "execution_count": 10,
      "outputs": [
        {
          "output_type": "stream",
          "name": "stdout",
          "text": [
            "   wsid                 mdct  prcp    stp   smax   smin  gbrd  temp  dewp  \\\n",
            "0   178  2007-11-06 00:00:00   NaN  982.5  982.5  981.3   NaN  29.3  12.1   \n",
            "1   178  2007-11-06 01:00:00   NaN  983.2  983.2  982.5   NaN  29.0  13.5   \n",
            "2   178  2007-11-06 02:00:00   NaN  983.5  983.5  983.2   NaN  27.4  14.0   \n",
            "3   178  2007-11-06 03:00:00   NaN  983.7  983.7  983.4   NaN  25.8  16.9   \n",
            "4   178  2007-11-06 04:00:00   NaN  983.7  983.8  983.6   NaN  25.4  16.4   \n",
            "\n",
            "   tmax  dmax  tmin  dmin  hmdy  hmax  hmin  wdsp   wdct  gust  \n",
            "0  29.7  16.8  25.5  10.8  35.0  58.0  32.0   3.2  101.0   6.5  \n",
            "1  29.9  13.6  29.0  12.2  39.0  39.0  35.0   3.6   94.0   6.4  \n",
            "2  29.0  14.0  27.4  13.6  44.0  44.0  39.0   2.5   93.0   6.9  \n",
            "3  27.4  16.9  25.8  14.1  58.0  58.0  44.0   1.7   96.0   5.8  \n",
            "4  26.3  17.0  25.3  16.4  57.0  58.0  56.0   3.1  110.0   7.5  \n"
          ]
        }
      ]
    },
    {
      "cell_type": "code",
      "metadata": {
        "id": "7Oh6P-FAA1GY",
        "colab": {
          "base_uri": "https://localhost:8080/"
        },
        "outputId": "59985f2d-2e6f-4b65-9485-4fd3b557e785"
      },
      "source": [
        "#Check that this outputs the data frame with 122000 rows and 19 columns\n",
        "if NOTEBOOK:\n",
        "    print(df.shape)"
      ],
      "execution_count": 11,
      "outputs": [
        {
          "output_type": "stream",
          "name": "stdout",
          "text": [
            "(122000, 19)\n"
          ]
        }
      ]
    },
    {
      "cell_type": "markdown",
      "metadata": {
        "id": "f4f1XfY0W7YJ"
      },
      "source": [
        "## **1.2. [20 pts] Data preprocessing**\n"
      ]
    },
    {
      "cell_type": "markdown",
      "metadata": {
        "id": "uG4GdAu-I1jF"
      },
      "source": [
        "### **1.2.1. [2 pts]** \n",
        "\n",
        "First let us start by converting the \"mdct\" column from the weather dataset into a datetime. Look into to_datetime() function in pandas."
      ]
    },
    {
      "cell_type": "code",
      "metadata": {
        "id": "PfADjpbUXUdY"
      },
      "source": [
        "if NOTEBOOK:\n",
        "    # STUDENT TODO: Convert the data type of the `mcdt` column in df to datetime\n",
        "    df['mdct'] = pd.to_datetime(df['mdct'])"
      ],
      "execution_count": 12,
      "outputs": []
    },
    {
      "cell_type": "code",
      "metadata": {
        "id": "iZMAPpn1THFU",
        "colab": {
          "base_uri": "https://localhost:8080/"
        },
        "outputId": "fd0063b1-b5d6-49a4-f0a6-7d52e4154620"
      },
      "source": [
        "# PennGrader Grading Cell\n",
        "if NOTEBOOK:\n",
        "    grader.grade(test_case_id = 'test_datetime', answer = df.describe())"
      ],
      "execution_count": 13,
      "outputs": [
        {
          "output_type": "stream",
          "name": "stdout",
          "text": [
            "Correct! You earned 2/2 points. You are a star!\n",
            "\n",
            "Your submission has been successfully recorded in the gradebook.\n"
          ]
        }
      ]
    },
    {
      "cell_type": "markdown",
      "metadata": {
        "id": "dPlibce4n-S9"
      },
      "source": [
        "### **1.2.2. [4 pts]** \n",
        "\n",
        "1.   Replace the missing values in the columns `gust, gbrd, wdsp, dewp, dmin, dmax` with 0.\n",
        "\n",
        "2. Drop the rows where temp is 0.\n",
        "\n",
        "3. Drop the column `prcp`."
      ]
    },
    {
      "cell_type": "code",
      "metadata": {
        "id": "HfjA9VRkoZn8",
        "colab": {
          "base_uri": "https://localhost:8080/"
        },
        "outputId": "1b4d275f-688f-4f48-a3eb-5cbe464c1a09"
      },
      "source": [
        "if NOTEBOOK:\n",
        "    # STUDENT TODO:\n",
        "    \n",
        "    # Replace the missing values in the columns\n",
        "    df[['gust', 'gbrd', 'wdsp', 'dewp', 'dmin', 'dmax']] = df[['gust', 'gbrd', 'wdsp', 'dewp', 'dmin', 'dmax']].fillna(0)\n",
        "    # Drop the rows where temp is 0.\n",
        "    df = df[df['temp'] != 0]\n",
        "    # Drop the column prcp.\n",
        "    df.drop(columns=['prcp'], inplace=True)"
      ],
      "execution_count": 14,
      "outputs": [
        {
          "output_type": "stream",
          "name": "stderr",
          "text": [
            "/usr/local/lib/python3.7/dist-packages/pandas/core/frame.py:4174: SettingWithCopyWarning: \n",
            "A value is trying to be set on a copy of a slice from a DataFrame\n",
            "\n",
            "See the caveats in the documentation: https://pandas.pydata.org/pandas-docs/stable/user_guide/indexing.html#returning-a-view-versus-a-copy\n",
            "  errors=errors,\n"
          ]
        }
      ]
    },
    {
      "cell_type": "code",
      "metadata": {
        "id": "Sjuuge2GBqRp",
        "colab": {
          "base_uri": "https://localhost:8080/"
        },
        "outputId": "2b89e5d6-428c-4b13-e514-0916f10d2f42"
      },
      "source": [
        "# PennGrader Grading Cell\n",
        "if NOTEBOOK:\n",
        "    grader.grade(test_case_id = 'test_remove', answer = df.describe())"
      ],
      "execution_count": 15,
      "outputs": [
        {
          "output_type": "stream",
          "name": "stdout",
          "text": [
            "Correct! You earned 4/4 points. You are a star!\n",
            "\n",
            "Your submission has been successfully recorded in the gradebook.\n"
          ]
        }
      ]
    },
    {
      "cell_type": "markdown",
      "metadata": {
        "id": "BkiR5_lPpQmz"
      },
      "source": [
        "### **1.2.3. [10 pts]** \n",
        "\n",
        "We want to calculate the difference in each metric over 1 hour. So basically if the temperature goes from 19.4 at 1200 hrs to 19.1 at 1300 hrs on a certain date we want the value to be -0.3."
      ]
    },
    {
      "cell_type": "markdown",
      "source": [
        "Create two copies of the dataframe and shift the datetime by +1 hour on the right copy."
      ],
      "metadata": {
        "id": "f93mlhWWwAVB"
      }
    },
    {
      "cell_type": "code",
      "source": [
        "if NOTEBOOK:\n",
        "    import datetime\n",
        "    # STUDENT TODO:\n",
        "    left_df = df.copy()\n",
        "    right_df = df.copy()\n",
        "    right_df['mdct'] = right_df['mdct'] + datetime.timedelta(hours=1)"
      ],
      "metadata": {
        "id": "3UWYKMRswAdW"
      },
      "execution_count": 16,
      "outputs": []
    },
    {
      "cell_type": "markdown",
      "metadata": {
        "id": "jcRF416coWCX"
      },
      "source": [
        "1. Perform a left join between `left_df` and `right_df` on the `wsid` and `mcdt` columns. In the `merged_df` retain only the rows which have values from both `left_df` and `right_df`. (Clue: set `indicator` to be `True` while performing the merge and filter using the `_merge` column in the `merged_df`)\n",
        "\n",
        "Understand how `merged_df` looks like using `.head(), .describe(), .info(), etc.` before proceeding further.\n",
        "\n",
        "2. For the variables `stp, smax, smin, gbrd, dewp, tmax, dmax, tmin, dmin, hmdy, hmax, hmin, wdsp, wdct, gust, temp` (stored in the `columns` list), subtract the \"_y\" columns from their corresponding \"_x\" columns. For example, you should be subtracting `stp_y` column from the `stp_x` column in merged_df. \n",
        "\n",
        "3. Store each of these subtraction results in a new column in `merged_df`. For example, store the result of `merged_df[\"stp_x\"] - merged_df[\"stp_y\"]` in `merged_df[\"stp\"]`.\n",
        "\n",
        "```\n",
        "merged_df[\"stp\"] = merged_df[\"stp_x\"] - merged_df[\"stp_y\"]\n",
        "```\n",
        "\n",
        "> Do this for all the variables in `columns`.\n",
        "\n",
        "4. Drop the columns with \"_x\" and \"_y\" in their name from `merged_df`.\n",
        "\n",
        "5. Drop the columns `['_merge', 'mdct', 'wsid']` from `merged_df`."
      ]
    },
    {
      "cell_type": "code",
      "metadata": {
        "id": "c6y0Ne2lofbL"
      },
      "source": [
        "if NOTEBOOK:\n",
        "    columns = [\"stp\", \"smax\", \"smin\", \"gbrd\", \"dewp\", \"tmax\", \n",
        "               \"dmax\", \"tmin\", \"dmin\", \"hmdy\", \"hmax\",\n",
        "               \"hmin\", \"wdsp\", \"wdct\", \"gust\", \"temp\"]\n",
        "            \n",
        "    # STUDENT TODO:\n",
        "    \n",
        "    # Perform a left join between left_df and right_df on the 'wsid' and 'mdct' columns\n",
        "    merged_df = left_df.merge(right_df, how='left', on=['wsid','mdct'], indicator=True)\n",
        "    # retain only the rows which have values from both left_df and right_df\n",
        "    merged_df = merged_df[merged_df['_merge'] == 'both']\n",
        "    # For variables in 'columns', subtract the \"_y\" columns from their corresponding \"_x\" columns\n",
        "    x_columns = [col+'_x' for col in columns]\n",
        "    y_columns = [col+'_y' for col in columns]\n",
        "    merged_df[columns] = merged_df[x_columns] - merged_df[y_columns].values\n",
        "    # Drop ['_merge', 'mdct', 'wsid'] and the columns with \"_x\" and \"_y\" in their name from merged_df.\n",
        "    merged_df.drop(columns=x_columns+y_columns+['_merge', 'mdct', 'wsid'], inplace=True)"
      ],
      "execution_count": 17,
      "outputs": []
    },
    {
      "cell_type": "code",
      "metadata": {
        "id": "ohBRyxPOB66V",
        "colab": {
          "base_uri": "https://localhost:8080/"
        },
        "outputId": "1afcb10b-3a93-430c-9e2d-e4f183053764"
      },
      "source": [
        "# PennGrader Grading Cell\n",
        "if NOTEBOOK:\n",
        "    grader.grade(test_case_id = 'test_shift', answer = merged_df.describe())"
      ],
      "execution_count": 18,
      "outputs": [
        {
          "output_type": "stream",
          "name": "stdout",
          "text": [
            "Correct! You earned 10/10 points. You are a star!\n",
            "\n",
            "Your submission has been successfully recorded in the gradebook.\n"
          ]
        }
      ]
    },
    {
      "cell_type": "markdown",
      "metadata": {
        "id": "6RmOwYxMz6Va"
      },
      "source": [
        "### **1.2.4. [4 pts]** \n",
        "\n",
        "We have created a copy of `merged_df` for you (`final_cleaned_df`).\n",
        "\n",
        "1. Replace any negative `temp` value (`temp` < 0) in `final_cleaned_df` with 0.\n",
        "2. Replace any non-negative `temp` value (`temp` >= 0) in `final_cleaned_df` with 1."
      ]
    },
    {
      "cell_type": "code",
      "metadata": {
        "id": "7Rnanafi14Nn"
      },
      "source": [
        "if NOTEBOOK:\n",
        "    final_cleaned_df = merged_df.copy()\n",
        "    # STUDENT TODO:\n",
        "    final_cleaned_df['temp'].mask(final_cleaned_df['temp'] >= 0, 1, inplace=True)\n",
        "    final_cleaned_df['temp'].mask(final_cleaned_df['temp'] < 0, 0, inplace=True)"
      ],
      "execution_count": 19,
      "outputs": []
    },
    {
      "cell_type": "code",
      "metadata": {
        "id": "JO-aV5PNChDO",
        "colab": {
          "base_uri": "https://localhost:8080/"
        },
        "outputId": "7db87f15-6840-4061-f1fd-7b0e1eb6534d"
      },
      "source": [
        "# PennGrader Grading Cell\n",
        "if NOTEBOOK:\n",
        "    grader.grade(test_case_id = 'test_temp', answer = final_cleaned_df.describe())"
      ],
      "execution_count": 20,
      "outputs": [
        {
          "output_type": "stream",
          "name": "stdout",
          "text": [
            "Correct! You earned 4/4 points. You are a star!\n",
            "\n",
            "Your submission has been successfully recorded in the gradebook.\n"
          ]
        }
      ]
    },
    {
      "cell_type": "markdown",
      "metadata": {
        "id": "Fz_bGjWTOewG"
      },
      "source": [
        "# **2. [25 pts] AdaBoost**"
      ]
    },
    {
      "cell_type": "markdown",
      "metadata": {
        "id": "VYgUBn3BX9ol"
      },
      "source": [
        "## **2.1.  [3 pts] Logistic regression with sample weights**\n",
        "\n",
        "As you will have learnt from the lectures, AdaBoost fits weak learners (here, logistic regression model)  in each iteration, to a dataset with weights $w_i$ attached to each sample $(x_i, y_i)$. The loss function now becomes:\n",
        "\n",
        "> $\n",
        "\\mathcal{L}({\\theta}) = -\\sum_{i =1}^N w_{i} \\times [ y_i\\log(h_{{\\theta}}({x}_i)) + (1 - y_i)\\log(1 - h_{{\\theta}}({x}_i))]\n",
        "$\n",
        "\n",
        "where $h_\\theta(x)$ is the logistic regression hypothesis function.\n",
        "\n",
        "The gradient of this weighted loss function with respect to the weight $\\theta_j$ is given by:\n",
        "\n",
        "> $\\frac{\\partial \\mathcal{L}({\\theta})}{\\partial \\theta_j} = \\sum_{i=1}^{N}w_{i}(h_{{\\theta}}({x}_i) - y_i)x_{ij}$\n",
        "\n",
        "Using this information, complete the `compute_gradient` method in the `LogisticRegression` class to account for sample weights."
      ]
    },
    {
      "cell_type": "code",
      "metadata": {
        "id": "Rpa6o-m5hS0T"
      },
      "source": [
        "import numpy as np\n",
        "from numpy.linalg import norm"
      ],
      "execution_count": 21,
      "outputs": []
    },
    {
      "cell_type": "code",
      "metadata": {
        "id": "h1PEAbJ7-Q4r"
      },
      "source": [
        "class LogisticRegression:\n",
        "    \"\"\"\n",
        "    Logistic Regression (aka logit, MaxEnt) classifier.\n",
        "\n",
        "    Parameters\n",
        "    ----------\n",
        "    alpha: float, default=0.1\n",
        "        Learning rate\n",
        "    tol : float, default=0.01\n",
        "        Tolerance for stopping criteria\n",
        "    max_iter : int, default=1000\n",
        "        Maximum number of iterations of gradient descent\n",
        "\n",
        "    Attributes\n",
        "    ----------\n",
        "    theta_ : numpy.ndarray of shape (D + 1,)\n",
        "        The value of the coefficients after gradient descent has converged\n",
        "        or the number of iterations hit the maximum limit\n",
        "    converged_: boolean\n",
        "        Boolean value indicating whether gradient descent converged or not\n",
        "    \"\"\"\n",
        "\n",
        "    def __init__(self, alpha=0.1, tol=0.01, max_iter=1000):\n",
        "\n",
        "        self.alpha = alpha\n",
        "        self.tol = tol\n",
        "        self.max_iter = max_iter\n",
        "\n",
        "        self.theta_ = None\n",
        "        self.converged_ = False\n",
        "\n",
        "    def compute_gradient(self, theta, X, y, sample_weight):\n",
        "        \"\"\"\n",
        "        Compute the gradient of the cost function.\n",
        "\n",
        "        Parameters\n",
        "        ----------\n",
        "        theta: numpy.ndarray of shape (D + 1,)\n",
        "            The coefficients\n",
        "        X: numpy.ndarray of shape (N, D + 1)\n",
        "            The features matrix\n",
        "        y: numpy.ndarray of shape (N,)\n",
        "            The target variable array\n",
        "        sample_weight: numpy.ndarray of shape (N,)\n",
        "            The sample weight array\n",
        "\n",
        "        Returns\n",
        "        -------\n",
        "        gradient: numpy.ndarray of shape (D + 1,)\n",
        "            The gradient values\n",
        "        \"\"\"\n",
        "\n",
        "        sigmoid = lambda x: 1 / (1 + np.exp(-x))\n",
        "        y_hat = sigmoid(X.dot(theta))\n",
        "\n",
        "        # STUDENT TODO: Compute the gradient\n",
        "        grad = np.transpose(X)@((y_hat - y)*sample_weight)\n",
        "        return grad\n",
        "        # STUDENT TODO END\n",
        "\n",
        "    def fit(self, X, y, sample_weight):\n",
        "        \"\"\"\n",
        "        Compute the coefficients using gradient descent and store them as theta_.\n",
        "\n",
        "        Parameters\n",
        "        ----------\n",
        "        X: numpy.ndarray of shape (N, D)\n",
        "            The features matrix\n",
        "        y: numpy.ndarray of shape (N,)\n",
        "            The target variable array\n",
        "        sample_weight: numpy.ndarray of shape (N,)\n",
        "            The sample weight array\n",
        "\n",
        "        Returns\n",
        "        -------\n",
        "        Nothing\n",
        "        \"\"\"\n",
        "\n",
        "        N, D = X.shape\n",
        "\n",
        "        # Adding a column of ones at the beginning for the bias term\n",
        "        ones_col = np.ones((N, 1))\n",
        "        X = np.hstack((ones_col, X))\n",
        "\n",
        "        # Initializing the weights\n",
        "        theta_old = np.zeros((D + 1,))\n",
        "        theta_new = theta_old.copy()\n",
        "\n",
        "        for i in range(self.max_iter):\n",
        "            theta_new = theta_old - self.alpha * self.compute_gradient(theta_old, X, y, sample_weight)\n",
        "\n",
        "            if norm(theta_new - theta_old) / (norm(theta_old) + self.tol) <= self.tol:\n",
        "                self.converged_ = True\n",
        "                break\n",
        "            \n",
        "            theta_old = theta_new.copy()\n",
        "\n",
        "        self.theta_ = theta_new\n",
        "\n",
        "    def predict_proba(self, X):\n",
        "        \"\"\"\n",
        "        Predict the probabilities that the data points in X belong to class 1.\n",
        "\n",
        "        Parameters\n",
        "        ----------\n",
        "        X: numpy.ndarray of shape (N, D)\n",
        "            The features matrix\n",
        "\n",
        "        Returns\n",
        "        -------\n",
        "        y_hat: numpy.ndarray of shape (N,)\n",
        "            The predicted probabilities that the data points in X belong to class 1\n",
        "        \"\"\"\n",
        "\n",
        "        N = X.shape[0]\n",
        "        \n",
        "        # Adding a column of ones at the beginning for the bias term\n",
        "        ones_col = np.ones((N, 1))\n",
        "        X = np.hstack((ones_col, X))\n",
        "\n",
        "        sigmoid = lambda x: 1 / (1 + np.exp(-x))\n",
        "        y_hat = sigmoid(X.dot(self.theta_))\n",
        "        return y_hat\n",
        "\n",
        "    def predict(self, X):\n",
        "        \"\"\"\n",
        "        Predict the classes of the data points in X.\n",
        "\n",
        "        Parameters\n",
        "        ----------\n",
        "        X: numpy.ndarray of shape (N, D)\n",
        "            The features matrix\n",
        "\n",
        "        Returns\n",
        "        -------\n",
        "        y_pred: numpy.ndarray of shape (N,)\n",
        "            The predicted class of the data points in X\n",
        "        \"\"\"\n",
        "\n",
        "        y_hat = self.predict_proba(X)\n",
        "        y_pred = y_hat.copy()\n",
        "        y_pred[y_pred >= 0.5] = 1\n",
        "        y_pred[y_pred < 0.5] = 0\n",
        "        return y_pred"
      ],
      "execution_count": 22,
      "outputs": []
    },
    {
      "cell_type": "markdown",
      "metadata": {
        "id": "UMnnQw5BVv-J"
      },
      "source": [
        "### Test case for the `compute_gradient` method"
      ]
    },
    {
      "cell_type": "code",
      "metadata": {
        "id": "EWn_IBKZ9NWv"
      },
      "source": [
        "def test_compute_gradient(StudentLogisticRegression):\n",
        "    \n",
        "    student_lr_clf = StudentLogisticRegression()\n",
        "    np.random.seed(0)\n",
        "    theta_tc = np.random.randn(2)\n",
        "    X_tc = np.random.randn(100, 2)\n",
        "    y_tc = np.random.randint(0, 2, 100)\n",
        "    sample_weight_tc = np.random.uniform(0, 1, 100)\n",
        "    student_ans = student_lr_clf.compute_gradient(theta_tc, X_tc, y_tc, sample_weight_tc)\n",
        "    required_ans = np.array([12.903225675830651, -1.0829605960182223])\n",
        "    \n",
        "    assert np.linalg.norm(student_ans - required_ans) < 1e-2 * required_ans.size\n",
        "\n",
        "if NOTEBOOK:\n",
        "    test_compute_gradient(LogisticRegression)"
      ],
      "execution_count": 23,
      "outputs": []
    },
    {
      "cell_type": "code",
      "metadata": {
        "id": "NNfmQsI99Rgz",
        "colab": {
          "base_uri": "https://localhost:8080/"
        },
        "outputId": "e44a9783-4e48-4058-adff-eb9414068568"
      },
      "source": [
        "# PennGrader Grading Cell\n",
        "if NOTEBOOK:\n",
        "    grader.grade(test_case_id = 'test_compute_gradient_autograder', answer = LogisticRegression)"
      ],
      "execution_count": 24,
      "outputs": [
        {
          "output_type": "stream",
          "name": "stdout",
          "text": [
            "Correct! You earned 3/3 points. You are a star!\n",
            "\n",
            "Your submission has been successfully recorded in the gradebook.\n"
          ]
        }
      ]
    },
    {
      "cell_type": "markdown",
      "metadata": {
        "id": "UTuNHGX35ulA"
      },
      "source": [
        "## **2.2. [20 pts] AdaBoostClassifier Implementation**\n",
        "\n",
        "In this section, you will be implementing the AdaBoost classifier with the logistic regression weak learner from above.\n",
        "\n",
        "### **2.2.1. [12 pts] Follow the hints in the `fit` method in the `AdaBoostClassifier` class to implement the following algorithm.**\n",
        "\n",
        "Use the following Adaboost pseudocode as a reference.\n",
        "\n",
        "**INPUT:**\n",
        "\n",
        "1. training data $X, y = \\{(x_{i}, y_{i})\\}_{i=1}^N$\n",
        "\n",
        "2. number of iterations $T$\n",
        "\n",
        "**ALGORITHM:**\n",
        "\n",
        "1.   Initialize $N$ uniform weights, i.e., $w_{1} = [1/N, 1/N, ..., 1/N]$\n",
        "\n",
        "2.   `For` $t = 1, 2, ... T$:\n",
        "\n",
        "> 2.1. Train model $h_t$ on $X$ and $y$ with instance weights $w_{t}$\n",
        "\n",
        "> 2.2. Compute the weighted training error rate of $h_{t}$: $\\epsilon_{t} = \\sum_{i: y_i \\ne h_t(x_i)} w_{t,i}$\n",
        "\n",
        "> 2.3. If $\\epsilon_{t} > 0.5$, flip $h_t$'s predictions\n",
        "\n",
        "> 2.4. Set $\\beta_{t} = \\frac{1}{2}\\text{ln}\\left(\\frac{1 - \\epsilon_t}{\\epsilon_t}\\right)$\n",
        "\n",
        "> 2.5. Update all instance weights: $w_{t + 1,i} = w_{t,i}\\times\\text{exp}(-\\beta_{t}y_{i}h_{t}(x_{i}))$ $\\forall i = 1, 2, ..., N$\n",
        "\n",
        "> 2.6. Normalize $w_{t+1}$ such that the elements sum to 1\n",
        "\n",
        "> `End For`\n",
        "\n",
        "### **2.2.2. [8 pts] Follow the hints in the `predict` method in the `AdaBoostClassifier` class for obtaining the predictions of the trained AdaBoost classifier.**\n",
        "\n",
        "> $H(x) = \\text{sign}\\left(\\sum_{t=1}^{T}\\beta_{t}h_{t}(x)\\right)$"
      ]
    },
    {
      "cell_type": "code",
      "metadata": {
        "id": "l-ep_MeohVZM"
      },
      "source": [
        "class AdaBoostClassifier:\n",
        "    \"\"\"\n",
        "    AdaBoost classifier based on logistic regression\n",
        "\n",
        "    Parameters\n",
        "    ----------\n",
        "    T: int, default=100\n",
        "        The number of logistic regression models in the boosting model\n",
        "\n",
        "    Attributes\n",
        "    ----------\n",
        "    beta_arr_ : list of length T\n",
        "        The list of beta values in the boosting model\n",
        "\n",
        "    h_arr_: list of length T\n",
        "        The list of logistic regression models in the boosting model\n",
        "    \"\"\"\n",
        "\n",
        "    def __init__(self, T=100):\n",
        "\n",
        "        self.T = T\n",
        "\n",
        "        self.beta_arr_ = []\n",
        "        self.h_arr_ = []\n",
        "\n",
        "    def fit(self, X, y):\n",
        "        \"\"\"\n",
        "        Train the logistic regression models (h) and compute their coefficients (beta), \n",
        "        and store them in h_arr_ and beta_arr_ respectively.\n",
        "\n",
        "        Parameters\n",
        "        ----------\n",
        "        X: numpy.ndarray of shape (N, D)\n",
        "            The features matrix\n",
        "        y: numpy.ndarray of shape (N,)\n",
        "            The target variable array\n",
        "\n",
        "        Returns\n",
        "        -------\n",
        "        Nothing\n",
        "        \"\"\"\n",
        "\n",
        "        N = X.shape[0]\n",
        "\n",
        "        # STUDENT TODO: Initialize w with appropriate values\n",
        "        w = np.array([1/N for i in range(N)])\n",
        "        # STUDENT TODO END\n",
        "\n",
        "        y_ = y.copy()\n",
        "        # STUDENT TODO: Update y_ such that the 0's in y_ are replaced by -1\n",
        "        y_ = np.where(y_ == 0, -1, y_)\n",
        "        # STUDENT TODO END\n",
        "\n",
        "        for t in range(self.T):\n",
        "            h = LogisticRegression()\n",
        "\n",
        "            # STUDENT TODO: Fit h to X and y using w as the sample weights\n",
        "            h.fit(X, y, w)\n",
        "            # STUDENT TODO END\n",
        "\n",
        "            # STUDENT TODO: Obtain the predictions from h and compute epsilon\n",
        "            y_pred = h.predict(X)\n",
        "            epsilon = np.sum(np.where(y_pred == y, 0, w))\n",
        "            # STUDENT TODO END\n",
        "\n",
        "            # STUDENT TODO: If epsilon > 0.5:\n",
        "            # 1. flip the predictions, i.e., replace 1's with 0's and 0's with 1's\n",
        "            # 2. invert the model (h), i.e., make it predict 1 for what it predicted 0 earlier and vice-versa (clue: think about modifying h.theta_)        \n",
        "            if epsilon > 0.5:\n",
        "              y_pred = 1 - y_pred\n",
        "              h.theta_ = - h.theta_\n",
        "            # STUDENT TODO END\n",
        "\n",
        "            self.h_arr_.append(h)\n",
        "\n",
        "            if epsilon == 0:\n",
        "                beta = np.inf\n",
        "                self.beta_arr_.append(beta)\n",
        "                break\n",
        "            \n",
        "            # STUDENT TODO: Compute beta\n",
        "            beta = (1/2) * np.log((1-epsilon)/epsilon)\n",
        "            # STUDENT TODO END\n",
        "\n",
        "            self.beta_arr_.append(beta)\n",
        "            \n",
        "            y_pred_ = y_pred.copy()\n",
        "\n",
        "            # STUDENT TODO: Update y_pred_ such that the 0's in y_pred_ are replaced by -1\n",
        "            y_pred_ = np.where(y_pred_ == 0, -1, y_pred_)\n",
        "            # STUDENT TODO END\n",
        "\n",
        "            # STUDENT TODO: Update w and normalize it such that the values in w sum to 1\n",
        "            w = w*np.exp(-beta*y_*y_pred_)\n",
        "            w = w/np.sum(w)\n",
        "            # STUDENT TODO END\n",
        "\n",
        "    def predict(self, X):\n",
        "        \"\"\"\n",
        "        Predict the classes of the data points in X.\n",
        "\n",
        "        Parameters\n",
        "        ----------\n",
        "        X: numpy.ndarray of shape (N, D)\n",
        "            The features matrix\n",
        "\n",
        "        Returns\n",
        "        -------\n",
        "        y_pred: numpy.ndarray of shape (N,)\n",
        "            The predicted class of the data points in X\n",
        "        \"\"\"\n",
        "        \n",
        "        N = X.shape[0]\n",
        "        \n",
        "        # Initialize the summation of beta times h for each x_i \n",
        "        sum_beta_times_h = np.zeros((N,))\n",
        "\n",
        "        for t in range(len(self.h_arr_)):\n",
        "            \n",
        "            # STUDENT TODO: Obtain the predictions of the t-th model in self.h_arr_\n",
        "            # Replace the 0's in the array with -1\n",
        "            y_p = self.h_arr_[t].predict(X)\n",
        "            y_p = np.where(y_p == 0, -1, y_p)\n",
        "            # STUDENT TODO END\n",
        "\n",
        "            # STUDENT TODO: Update sum_beta_times_h\n",
        "            sum_beta_times_h = sum_beta_times_h + self.beta_arr_[t]*y_p\n",
        "            # STUDENT TODO END\n",
        "\n",
        "        # STUDENT TODO: Create an array `y_pred` for the final predictions\n",
        "        # Fill 0's and 1's in `y_pred` depending on the sum_beta_time_h value in the corresponding location \n",
        "        y_pred = np.where(sum_beta_times_h >= 0, 1, sum_beta_times_h)\n",
        "        y_pred = np.where(y_pred < 0, 0, y_pred)\n",
        "        return y_pred\n",
        "        # STUDENT TODO END\n"
      ],
      "execution_count": 25,
      "outputs": []
    },
    {
      "cell_type": "markdown",
      "metadata": {
        "id": "EICaCxuHUY2j"
      },
      "source": [
        "### Test case for the `fit` method"
      ]
    },
    {
      "cell_type": "code",
      "metadata": {
        "id": "w30orkoA8w5A"
      },
      "source": [
        "def test_adaboost_fit(StudentAdaBoostClassifier):\n",
        "\n",
        "    T = 4\n",
        "    N = 100\n",
        "    D = 2\n",
        "\n",
        "    student_ab_clf = StudentAdaBoostClassifier(T=T)\n",
        "    np.random.seed(0)\n",
        "    X_tc = np.random.randn(N, D)\n",
        "    y_tc = np.random.randint(0, 2, N)\n",
        "    student_ab_clf.fit(X_tc, y_tc)\n",
        "\n",
        "    beta_arr_student_ans = student_ab_clf.beta_arr_\n",
        "    beta_arr_required_ans = np.array([0.08017132503758954, 0.046732864002838985, \n",
        "                                      0.022808008179707476, 0.07012335626140642])\n",
        "    assert np.linalg.norm(beta_arr_student_ans - beta_arr_required_ans) < 1e-2 * beta_arr_required_ans.size\n",
        "\n",
        "    h_arr_student_ans = np.zeros([T, D + 1])\n",
        "\n",
        "    for indx, h in enumerate(student_ab_clf.h_arr_):\n",
        "        h_arr_student_ans[indx] = h.theta_\n",
        "\n",
        "    h_arr_required_ans = np.array([[-0.01514967, -0.01713051,  0.21344566],\n",
        "                                   [-0.01738886, -0.00656722,  0.12035635],\n",
        "                                   [-0.0132557,  -0.00428943, 0.06616284],\n",
        "                                   [-0.01037174, -0.00334141,  0.03943088]])\n",
        "\n",
        "    assert np.linalg.norm(h_arr_student_ans - h_arr_required_ans) < 1e-2 * h_arr_required_ans.size\n",
        "\n",
        "if NOTEBOOK:\n",
        "    test_adaboost_fit(AdaBoostClassifier)"
      ],
      "execution_count": 27,
      "outputs": []
    },
    {
      "cell_type": "code",
      "metadata": {
        "id": "u89ffT3LWtLJ",
        "colab": {
          "base_uri": "https://localhost:8080/"
        },
        "outputId": "578d29c5-8c8b-4f0f-d839-ff68696bd779"
      },
      "source": [
        "# PennGrader Grading Cell\n",
        "if NOTEBOOK:\n",
        "    grader.grade(test_case_id = 'test_adaboost_fit_autograder', answer = AdaBoostClassifier)"
      ],
      "execution_count": 28,
      "outputs": [
        {
          "output_type": "stream",
          "name": "stdout",
          "text": [
            "Correct! You earned 12/12 points. You are a star!\n",
            "\n",
            "Your submission has been successfully recorded in the gradebook.\n"
          ]
        }
      ]
    },
    {
      "cell_type": "markdown",
      "metadata": {
        "id": "_6NG8KfQUg1c"
      },
      "source": [
        "### Test case for the `predict` method"
      ]
    },
    {
      "cell_type": "code",
      "metadata": {
        "id": "WGB1aPLgWtfT"
      },
      "source": [
        "def test_adaboost_predict(StudentAdaBoostClassifier):\n",
        "\n",
        "    T = 4\n",
        "    N = 100\n",
        "    D = 2\n",
        "\n",
        "    student_ab_clf = StudentAdaBoostClassifier(T=T)\n",
        "    np.random.seed(0)\n",
        "    X_tc = np.random.randn(N, D)\n",
        "    y_tc = np.random.randint(0, 2, N)\n",
        "    student_ab_clf.fit(X_tc, y_tc)\n",
        "\n",
        "    student_ans = student_ab_clf.predict(X_tc)\n",
        "    required_ans = [1, 1, 0, 0, 1, 1, 0, 1, 0, 0, 1, 0, 0, 0, 1, 1, 0, 1, 1, 0, \n",
        "                    0, 1, 0, 1, 0, 1, 0, 1, 1, 0, 0, 0, 0, 1, 0, 0, 0, 0, 0, 0, \n",
        "                    1, 0, 1, 0, 1, 1, 1, 1, 1, 1, 0, 1, 1, 0, 1, 1, 1, 1, 0, 1, \n",
        "                    0, 1, 0, 1, 1, 1, 0, 1, 0, 0, 1, 1, 1, 1, 0, 1, 0, 0, 0, 0, \n",
        "                    1, 0, 1, 0, 1, 1, 0, 1, 0, 0, 0, 0, 0, 0, 1, 1, 0, 0, 1, 1]\n",
        "\n",
        "    assert np.mean(student_ans == required_ans) >= 0.98\n",
        "\n",
        "if NOTEBOOK:\n",
        "    test_adaboost_predict(AdaBoostClassifier)"
      ],
      "execution_count": 29,
      "outputs": []
    },
    {
      "cell_type": "code",
      "metadata": {
        "id": "7pixKpOEbXxX",
        "colab": {
          "base_uri": "https://localhost:8080/"
        },
        "outputId": "249bcf52-3ee7-431c-b4cb-8fa2c2fd3b51"
      },
      "source": [
        "# PennGrader Grading Cell\n",
        "if NOTEBOOK:\n",
        "    grader.grade(test_case_id = 'test_adaboost_predict_autograder', answer = AdaBoostClassifier)"
      ],
      "execution_count": 30,
      "outputs": [
        {
          "output_type": "stream",
          "name": "stdout",
          "text": [
            "Correct! You earned 8/8 points. You are a star!\n",
            "\n",
            "Your submission has been successfully recorded in the gradebook.\n"
          ]
        }
      ]
    },
    {
      "cell_type": "markdown",
      "metadata": {
        "id": "_sFtGKi_WQBm"
      },
      "source": [
        "## **2.3. [2 pts] AdaBoost on the dataset**\n",
        "\n",
        "Follow the hints in the `adaboost_on_dataset` method in the below cell to run `AdaBoostClassifier` on the dataset you prepared in section 1."
      ]
    },
    {
      "cell_type": "code",
      "metadata": {
        "id": "gwXKNBEiYPX3"
      },
      "source": [
        "if NOTEBOOK:\n",
        "    test_df = pd.read_csv(\"test_student.csv\").drop(columns=[\"Unnamed: 0\"])\n",
        "\n",
        "def adaboost_on_dataset():\n",
        "    \"\"\"\n",
        "    Trains the AdaBoostClassifier on a real-world dataset.\n",
        "\n",
        "    Parameters\n",
        "    ----------\n",
        "    Nothing\n",
        "\n",
        "    Returns\n",
        "    -------\n",
        "    y_test_pred: numpy.ndarray\n",
        "        The predicted classes of the datapoints in test_df\n",
        "    \"\"\"\n",
        "\n",
        "    # STUDENT TODO START: Initialize X_train and y_train with appropriate values (clue: use .iloc followed by .values of the DataFrame class)\n",
        "    X_train = final_cleaned_df.iloc[:, :-1].values\n",
        "    y_train = final_cleaned_df.iloc[:, -1].values\n",
        "    # STUDENT TODO END\n",
        "\n",
        "    # STUDENT TODO START: Initialize X_test\n",
        "    X_test = test_df.values\n",
        "    # STUDENT TODO END\n",
        "    \n",
        "    scaler = StandardScaler()\n",
        "    # STUDENT TODO START: Scale the features of X_train and X_test using scaler\n",
        "    X_train_sc = scaler.fit_transform(X_train)\n",
        "    X_test_sc = scaler.fit_transform(X_test)\n",
        "    # STUDENT TODO END\n",
        "\n",
        "    clf = AdaBoostClassifier(T=10)\n",
        "    # STUDENT TODO START: Now fit clf to the entire training data, i.e., X_train and y_train after feature scaling\n",
        "    clf.fit(X_train_sc, y_train)\n",
        "    # STUDENT TODO END\n",
        "\n",
        "    # STUDENT TODO START: Predict the classes of the datapoints in X_test and return the result\n",
        "    y_test_pred = clf.predict(X_test_sc)\n",
        "    return y_test_pred\n",
        "    # STUDENT TODO END"
      ],
      "execution_count": 31,
      "outputs": []
    },
    {
      "cell_type": "code",
      "metadata": {
        "id": "h20BZarho6w_",
        "colab": {
          "base_uri": "https://localhost:8080/"
        },
        "outputId": "33337ede-3879-4452-c864-871e2a44ecd0"
      },
      "source": [
        "# PennGrader Grading Cell\n",
        "if NOTEBOOK:\n",
        "    y_test_pred = adaboost_on_dataset()\n",
        "    grader.grade(test_case_id = 'test_adaboost_on_dataset_autograder', answer = y_test_pred)"
      ],
      "execution_count": 32,
      "outputs": [
        {
          "output_type": "stream",
          "name": "stdout",
          "text": [
            "Correct! You earned 2/2 points. You are a star!\n",
            "\n",
            "Your submission has been successfully recorded in the gradebook.\n"
          ]
        }
      ]
    },
    {
      "cell_type": "markdown",
      "metadata": {
        "id": "HK4vJh-wDbdC"
      },
      "source": [
        "# **3. [8 pts, 419-optional] XGBoost**"
      ]
    },
    {
      "cell_type": "markdown",
      "metadata": {
        "id": "TdO8f_FWRLt5"
      },
      "source": [
        "## TODOs for this section:\n",
        "- You'll use xgboost library to build a classifier for the above problem. XGBoost is a popular library for gradient boosting, and you can find its documentation [here](https://xgboost.readthedocs.io/en/latest/). \n",
        "- You need to get at least 0.75 accuracy on the test set to receive full credits from the autograder."
      ]
    },
    {
      "cell_type": "code",
      "metadata": {
        "id": "tdOEarsQ8w5L"
      },
      "source": [
        "if NOTEBOOK:\n",
        "  train_df = final_cleaned_df.copy()\n",
        "  test_df = pd.read_csv(\"test_student.csv\").drop(columns=[\"Unnamed: 0\"])"
      ],
      "execution_count": 33,
      "outputs": []
    },
    {
      "cell_type": "code",
      "metadata": {
        "id": "JimlDZbFDsX0"
      },
      "source": [
        "if NOTEBOOK:\n",
        "    import xgboost as xgb\n",
        "    \n",
        "    # STUDENT TODO STARTS: \n",
        "    # 1. Fit an xgboost classifier to the training data (train_df, target variable is temp) \n",
        "    # 2. Obtain the predictions of the trained model on test_df in the variable y_test_pred\n",
        "    # 3. Tune the hyperparameters such that you pass the autograder threshold accuracy of 0.75\n",
        "    X_train = final_cleaned_df.iloc[:, :-1].values\n",
        "    y_train = final_cleaned_df.iloc[:, -1].values\n",
        "    X_test = test_df.values\n",
        "    clf = xgb.XGBClassifier()\n",
        "    clf.fit(X_train, y_train)\n",
        "    y_test_pred = clf.predict(X_test)\n",
        "    # STUDENT TODO ENDS"
      ],
      "execution_count": 35,
      "outputs": []
    },
    {
      "cell_type": "code",
      "source": [
        "# PennGrader Grading Cell\n",
        "if NOTEBOOK:\n",
        "    grader.grade(test_case_id = 'test_xgboost', answer = y_test_pred)"
      ],
      "metadata": {
        "id": "dGs2eXAYnjK8",
        "colab": {
          "base_uri": "https://localhost:8080/"
        },
        "outputId": "9de97343-0b1b-41a5-fa15-d762937fa5b2"
      },
      "execution_count": 36,
      "outputs": [
        {
          "output_type": "stream",
          "name": "stdout",
          "text": [
            "Correct! You earned 8/8 points. You are a star!\n",
            "\n",
            "Your submission has been successfully recorded in the gradebook.\n"
          ]
        }
      ]
    },
    {
      "cell_type": "markdown",
      "metadata": {
        "id": "KD6VKdQIwcxg"
      },
      "source": [
        "## Submit to Gradescope\n",
        "Congratulations! You've finished the homework. Don't forget to submit your final notebook on [Gradescope](gradescope.com)."
      ]
    }
  ]
}