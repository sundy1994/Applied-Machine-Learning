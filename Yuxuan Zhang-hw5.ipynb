{
  "cells": [
    {
      "cell_type": "markdown",
      "metadata": {
        "id": "qs0yamHN-dY0"
      },
      "source": [
        "# **CIS 419/519 Spring 2022 - Homework 5**\n",
        "\n",
        "**Before starting, you must click on the \"Copy To Drive\" option in the top bar. Go to File --> Save a Copy to Drive. This is the master notebook so <u>you will not be able to save your changes without copying it </u>! Once you click on that, make sure you are working on that version of the notebook so that your work is saved** "
      ]
    },
    {
      "cell_type": "code",
      "execution_count": 1,
      "metadata": {
        "colab": {
          "base_uri": "https://localhost:8080/"
        },
        "id": "yz4CPNEHjINs",
        "outputId": "e06bc3de-e3ab-4072-80a6-867257550b5d"
      },
      "outputs": [
        {
          "output_type": "stream",
          "name": "stdout",
          "text": [
            "Collecting pandas==1.1.5\n",
            "  Downloading pandas-1.1.5-cp37-cp37m-manylinux1_x86_64.whl (9.5 MB)\n",
            "\u001b[K     |████████████████████████████████| 9.5 MB 5.4 MB/s \n",
            "\u001b[?25hRequirement already satisfied: pytz>=2017.2 in /usr/local/lib/python3.7/dist-packages (from pandas==1.1.5) (2018.9)\n",
            "Requirement already satisfied: numpy>=1.15.4 in /usr/local/lib/python3.7/dist-packages (from pandas==1.1.5) (1.21.5)\n",
            "Requirement already satisfied: python-dateutil>=2.7.3 in /usr/local/lib/python3.7/dist-packages (from pandas==1.1.5) (2.8.2)\n",
            "Requirement already satisfied: six>=1.5 in /usr/local/lib/python3.7/dist-packages (from python-dateutil>=2.7.3->pandas==1.1.5) (1.15.0)\n",
            "Installing collected packages: pandas\n",
            "  Attempting uninstall: pandas\n",
            "    Found existing installation: pandas 1.3.5\n",
            "    Uninstalling pandas-1.3.5:\n",
            "      Successfully uninstalled pandas-1.3.5\n",
            "Successfully installed pandas-1.1.5\n"
          ]
        }
      ],
      "source": [
        "# Restart the runtime after running this cell everytime you open the notebook\n",
        "!pip install pandas==1.1.5"
      ]
    },
    {
      "cell_type": "code",
      "execution_count": 2,
      "metadata": {
        "id": "Rb-WLp5Z-cdy"
      },
      "outputs": [],
      "source": [
        "import random \n",
        "import numpy as np\n",
        "import pandas as pd\n",
        "import os\n",
        "import sys\n",
        "import matplotlib.pyplot as plt\n",
        "from numpy.linalg import *\n",
        "np.random.seed(42)  # don't change this line\n",
        "\n",
        "import dill\n",
        "import base64"
      ]
    },
    {
      "cell_type": "code",
      "execution_count": 3,
      "metadata": {
        "colab": {
          "base_uri": "https://localhost:8080/"
        },
        "id": "O2VtEzsZ-loR",
        "outputId": "43e0eae6-43a7-4647-8084-264d801bb20d"
      },
      "outputs": [
        {
          "output_type": "stream",
          "name": "stdout",
          "text": [
            "[INFO, OK] Google Colab.\n"
          ]
        }
      ],
      "source": [
        "# For autogreader only, do not modify this cell. \n",
        "# True for Google Colab, False for autograder\n",
        "NOTEBOOK = (os.getenv('IS_AUTOGRADER') is None)\n",
        "if NOTEBOOK:\n",
        "    print(\"[INFO, OK] Google Colab.\")\n",
        "else:\n",
        "    print(\"[INFO, OK] Autograder.\")"
      ]
    },
    {
      "cell_type": "markdown",
      "metadata": {
        "id": "cjjXBdEb-p8K"
      },
      "source": [
        "# **PennGrader Setup**\n",
        "\n",
        "First, you'll need to set up the PennGrader, an autograder we are going to use throughout the semester. The PennGrader will automatically grade your answer and provide you with an instant feedback. Unless otherwise stated, you can resubmit up to a reasonable number of attempts (e.g. 100 attemptes per day). **We will only record your latest score in our backend database**. \n",
        "\n",
        "After finishing each homework assignment, you must submit your iPython notebook to gradescope before the homework deadline. Gradescope will then retrive and display your scores from our backend database. "
      ]
    },
    {
      "cell_type": "code",
      "execution_count": 4,
      "metadata": {
        "id": "6GCTLN4G-nK2"
      },
      "outputs": [],
      "source": [
        "%%capture\n",
        "!pip3 install penngrader --upgrade"
      ]
    },
    {
      "cell_type": "code",
      "execution_count": 5,
      "metadata": {
        "id": "QLnoPRci-sTC"
      },
      "outputs": [],
      "source": [
        "from penngrader.grader import *"
      ]
    },
    {
      "cell_type": "code",
      "execution_count": 6,
      "metadata": {
        "id": "qu0XYZHO-t8J"
      },
      "outputs": [],
      "source": [
        "#PLEASE ENSURE YOUR PENN-ID IS ENTERED CORRECTLY. IF NOT, THE AUTOGRADER WON'T KNOW WHO \n",
        "#TO ASSIGN POINTS TO YOU IN OUR BACKEND\n",
        "STUDENT_ID = 87030462          # YOUR PENN-ID GOES HERE AS AN INTEGER#"
      ]
    },
    {
      "cell_type": "markdown",
      "metadata": {
        "id": "tIDTGGbo-xkf"
      },
      "source": [
        "Run the following cell to initialize the autograder. This autograder will let you submit your code directly from this notebook and immidiately get a score.\n",
        "\n",
        "**NOTE:** Remember we store your submissions and check against other student's submissions... so, not that you would, but no cheating."
      ]
    },
    {
      "cell_type": "code",
      "execution_count": 7,
      "metadata": {
        "colab": {
          "base_uri": "https://localhost:8080/"
        },
        "id": "bw_QDnZk-vvI",
        "outputId": "4784807d-896b-449c-d14a-0b78a7016e60"
      },
      "outputs": [
        {
          "output_type": "stream",
          "name": "stdout",
          "text": [
            "PennGrader initialized with Student ID: 87030462\n",
            "\n",
            "Make sure this correct or we will not be able to store your grade\n"
          ]
        }
      ],
      "source": [
        "grader = PennGrader(homework_id = 'CIS_519_Spring22_HW5', student_id = STUDENT_ID)"
      ]
    },
    {
      "cell_type": "code",
      "execution_count": 8,
      "metadata": {
        "id": "f0_ydbgD0Kvf"
      },
      "outputs": [],
      "source": [
        "# A helper function for grading utils\n",
        "def grader_serialize(obj):        # A helper function\n",
        "    '''Dill serializes Python object into a UTF-8 string'''\n",
        "    byte_serialized = dill.dumps(obj, recurse = True)\n",
        "    return base64.b64encode(byte_serialized).decode(\"utf-8\")"
      ]
    },
    {
      "cell_type": "markdown",
      "metadata": {
        "id": "oQCyLhELJ7LX"
      },
      "source": [
        "#### **NOTE 1. Results of sections marked as \"manually graded\" should be submitted along with the written homework solutions.**\n",
        "\n",
        "#### **NOTE 2. If you are running into a `__builtins__' error, it's likely because you're using a function call of the form numpy.ndarray.mean(), like a.mean(). This does not play nice with PennGrader unfortunately. Please use the function call numpy.mean(a) instead.**"
      ]
    },
    {
      "cell_type": "markdown",
      "metadata": {
        "id": "LcrJaJ73Rk9v"
      },
      "source": [
        "#1.NLP Section"
      ]
    },
    {
      "cell_type": "markdown",
      "metadata": {
        "id": "Yp9rryptRoLR"
      },
      "source": [
        "#### Stanford Sentiment Treebank(SST)\n",
        "\n",
        "We'll introduce the [Stanford Sentiment Treebank](https://nlp.stanford.edu/sentiment/index.html) (SST) dataset, and use a Naive Bayes model as a simple baseline. The SST was introduced by [(Socher et al. 2013)](http://nlp.stanford.edu/~socherr/EMNLP2013_RNTN.pdf) and it consists of approximately 10,000 sentences from movie reviews. It consists of 11,855 sentences drawn from a corpus of movie reviews (originally from Rotten Tomatoes), each labeled with sentiment on a five-point scale ans is a widely used dataset as a benchmark for text classification.\n",
        "\n",
        "An example of the five-point scale is:\n",
        "```\n",
        "sentence: [A warm , funny , engaging film .]\n",
        "label:    4 (very positive)\n",
        "```\n",
        "\n",
        "**Note:** Unlike most classification datasets, SST is also a _treebank_, which means each sentence is associated with a tree structure that decomposes it into subphrases. So for the example above, we'd also have sentiment labels for `[warm , funny]` and `[engaging film .]` and so on. The tree structure will comes in handy for complex NLP tasks and we will be using it briefly to analyze an example that has negation. The data is distributed as serialized trees in [S-expression](https://en.wikipedia.org/wiki/S-expression) form, like this:\n",
        "```\n",
        "(4 (4 (2 A) (4 (3 (3 warm) (2 ,)) (3 funny))) (3 (2 ,) (3 (4 (4 engaging) (2 film)) (2 .))))\n",
        "```\n",
        "\n",
        "We've downladed the dataset and parse the S-expressions into a dataframe.\n",
        "\n"
      ]
    },
    {
      "cell_type": "code",
      "execution_count": 9,
      "metadata": {
        "colab": {
          "base_uri": "https://localhost:8080/"
        },
        "id": "FByUmOl14eyC",
        "outputId": "3cf1e9fc-eca7-473d-ce68-a767c79c36b0"
      },
      "outputs": [
        {
          "output_type": "stream",
          "name": "stdout",
          "text": [
            "Collecting wget\n",
            "  Downloading wget-3.2.zip (10 kB)\n",
            "Building wheels for collected packages: wget\n",
            "  Building wheel for wget (setup.py) ... \u001b[?25l\u001b[?25hdone\n",
            "  Created wheel for wget: filename=wget-3.2-py3-none-any.whl size=9675 sha256=259533715210a4ee2033f7b4d224a6d9ffab343e5d9befe05731944dff415bf8\n",
            "  Stored in directory: /root/.cache/pip/wheels/a1/b6/7c/0e63e34eb06634181c63adacca38b79ff8f35c37e3c13e3c02\n",
            "Successfully built wget\n",
            "Installing collected packages: wget\n",
            "Successfully installed wget-3.2\n"
          ]
        }
      ],
      "source": [
        "!pip3 install wget"
      ]
    },
    {
      "cell_type": "code",
      "execution_count": 10,
      "metadata": {
        "id": "Wothm2Pot6-Z"
      },
      "outputs": [],
      "source": [
        "from __future__ import division\n",
        "import os, sys, re, json, time, datetime, shutil\n",
        "import itertools, collections\n",
        "from importlib import reload\n",
        "\n",
        "# NLTK, NumPy, and Pandas.\n",
        "import nltk\n",
        "from nltk.tree import Tree\n",
        "import numpy as np\n",
        "from numpy import random as rd\n",
        "import random\n",
        "import pandas as pd"
      ]
    },
    {
      "cell_type": "code",
      "execution_count": 11,
      "metadata": {
        "id": "pdl0NfUrJHxO"
      },
      "outputs": [],
      "source": [
        "import os\n",
        "import collections\n",
        "import re\n",
        "import time\n",
        "import itertools\n",
        "from collections import defaultdict, Counter"
      ]
    },
    {
      "cell_type": "code",
      "execution_count": 12,
      "metadata": {
        "id": "ay1YROpJAZ_i"
      },
      "outputs": [],
      "source": [
        "# Constants for use by other modules.\n",
        "START_TOKEN = u\"<s>\"\n",
        "END_TOKEN   = u\"</s>\"\n",
        "UNK_TOKEN   = u\"<unk>\""
      ]
    },
    {
      "cell_type": "markdown",
      "metadata": {
        "id": "1ma4E29Xe8Hs"
      },
      "source": [
        "#### Required files\n",
        "[train parquet file](https://www.cis.upenn.edu/~myatskar/teaching/cis519/a5/train.parquet)\n",
        "\n",
        "[dev parquet file](https://www.cis.upenn.edu/~myatskar/teaching/cis519/a5/dev.parquet)\n",
        "\n",
        "[test parquet file](https://www.cis.upenn.edu/~myatskar/teaching/cis519/a5/test.parquet)\n",
        "\n",
        "[tokens in training data](https://www.cis.upenn.edu/~myatskar/teaching/cis519/a5/train_tokens.txt)"
      ]
    },
    {
      "cell_type": "code",
      "execution_count": 13,
      "metadata": {
        "colab": {
          "base_uri": "https://localhost:8080/"
        },
        "id": "LumyzFXKpDIa",
        "outputId": "8fa06702-7b3b-49a4-cfb8-124a3b2974e6"
      },
      "outputs": [
        {
          "output_type": "stream",
          "name": "stdout",
          "text": [
            "--2022-04-09 15:59:46--  https://www.cis.upenn.edu/~myatskar/teaching/cis519/a5/train_tokens.txt\n",
            "Resolving www.cis.upenn.edu (www.cis.upenn.edu)... 158.130.69.163, 2607:f470:8:64:5ea5::d\n",
            "Connecting to www.cis.upenn.edu (www.cis.upenn.edu)|158.130.69.163|:443... connected.\n",
            "HTTP request sent, awaiting response... 200 OK\n",
            "Length: 886453 (866K) [text/plain]\n",
            "Saving to: ‘train_tokens.txt’\n",
            "\n",
            "train_tokens.txt    100%[===================>] 865.68K  4.97MB/s    in 0.2s    \n",
            "\n",
            "2022-04-09 15:59:46 (4.97 MB/s) - ‘train_tokens.txt’ saved [886453/886453]\n",
            "\n",
            "--2022-04-09 15:59:46--  https://www.cis.upenn.edu/~myatskar/teaching/cis519/a5/train.parquet\n",
            "Resolving www.cis.upenn.edu (www.cis.upenn.edu)... 158.130.69.163, 2607:f470:8:64:5ea5::d\n",
            "Connecting to www.cis.upenn.edu (www.cis.upenn.edu)|158.130.69.163|:443... connected.\n",
            "HTTP request sent, awaiting response... 200 OK\n",
            "Length: 2893816 (2.8M)\n",
            "Saving to: ‘train.parquet’\n",
            "\n",
            "train.parquet       100%[===================>]   2.76M  13.2MB/s    in 0.2s    \n",
            "\n",
            "2022-04-09 15:59:46 (13.2 MB/s) - ‘train.parquet’ saved [2893816/2893816]\n",
            "\n",
            "--2022-04-09 15:59:46--  https://www.cis.upenn.edu/~myatskar/teaching/cis519/a5/dev.parquet\n",
            "Resolving www.cis.upenn.edu (www.cis.upenn.edu)... 158.130.69.163, 2607:f470:8:64:5ea5::d\n",
            "Connecting to www.cis.upenn.edu (www.cis.upenn.edu)|158.130.69.163|:443... connected.\n",
            "HTTP request sent, awaiting response... 200 OK\n",
            "Length: 317137 (310K)\n",
            "Saving to: ‘dev.parquet’\n",
            "\n",
            "dev.parquet         100%[===================>] 309.70K  --.-KB/s    in 0.1s    \n",
            "\n",
            "2022-04-09 15:59:47 (2.62 MB/s) - ‘dev.parquet’ saved [317137/317137]\n",
            "\n",
            "--2022-04-09 15:59:47--  https://www.cis.upenn.edu/~myatskar/teaching/cis519/a5/test.parquet\n",
            "Resolving www.cis.upenn.edu (www.cis.upenn.edu)... 158.130.69.163, 2607:f470:8:64:5ea5::d\n",
            "Connecting to www.cis.upenn.edu (www.cis.upenn.edu)|158.130.69.163|:443... connected.\n",
            "HTTP request sent, awaiting response... 200 OK\n",
            "Length: 850723 (831K)\n",
            "Saving to: ‘test.parquet’\n",
            "\n",
            "test.parquet        100%[===================>] 830.78K  --.-KB/s    in 0.1s    \n",
            "\n",
            "2022-04-09 15:59:47 (5.71 MB/s) - ‘test.parquet’ saved [850723/850723]\n",
            "\n"
          ]
        }
      ],
      "source": [
        "!wget  -c  https://www.cis.upenn.edu/~myatskar/teaching/cis519/a5/train_tokens.txt\n",
        "!wget  -c  https://www.cis.upenn.edu/~myatskar/teaching/cis519/a5/train.parquet\n",
        "!wget  -c  https://www.cis.upenn.edu/~myatskar/teaching/cis519/a5/dev.parquet\n",
        "!wget  -c  https://www.cis.upenn.edu/~myatskar/teaching/cis519/a5/test.parquet"
      ]
    },
    {
      "cell_type": "markdown",
      "metadata": {
        "id": "AG1RbvIgdCuz"
      },
      "source": [
        "If the cells above fails to download all the files, rerun a couple of times or download them and add them manually."
      ]
    },
    {
      "cell_type": "code",
      "execution_count": 14,
      "metadata": {
        "id": "v0JC3vd0cvfG"
      },
      "outputs": [],
      "source": [
        "train_file = \"train.parquet\" \n",
        "dev_file = \"dev.parquet\" \n",
        "test_file = \"test.parquet\" \n",
        "vocab_file = \"train_tokens.txt\" "
      ]
    },
    {
      "cell_type": "markdown",
      "metadata": {
        "id": "olCRGZcIJuEf"
      },
      "source": [
        "Some helper code to download and process data"
      ]
    },
    {
      "cell_type": "code",
      "execution_count": 15,
      "metadata": {
        "cellView": "form",
        "id": "fDhs_mpQAQIt"
      },
      "outputs": [],
      "source": [
        "#@title\n",
        "class SSTDataset(object):\n",
        "\n",
        "    Example_fields = [\"tokens\", \"ids\", \"label\", \"is_root\", \"root_id\"]\n",
        "    Example = collections.namedtuple(\"Example\", Example_fields)\n",
        "\n",
        "\n",
        "    def canonicalize(self, raw_tokens):\n",
        "        wordset=(self.vocab.wordset if self.vocab else None)\n",
        "        return canonicalize_words(raw_tokens, wordset=wordset)\n",
        "\n",
        "    def __init__(self,train_file,dev_file,test_file,vocab_file,V=20000):\n",
        "        self.vocab = None\n",
        "        self.train = pd.read_parquet(train_file)\n",
        "        self.dev = pd.read_parquet(dev_file)\n",
        "        self.test = pd.read_parquet(test_file)\n",
        "        train_words =[]\n",
        "        with open(vocab_file) as f:\n",
        "            train_words = f.readlines()\n",
        "        train_words = [w.strip() for w in train_words]\n",
        "        # # Build vocabulary over training set\n",
        "        self.vocab = Vocabulary(train_words, size=V)\n",
        "        print(\"Train set has {:,} words\".format(self.vocab.size))\n",
        "        self.target_names = [0,1]\n",
        "\n",
        "    def get_filtered_split(self, split='train',is_root = True):\n",
        "        df = getattr(self, split)\n",
        "        if is_root:\n",
        "            df = df[df.is_root]\n",
        "        return df\n",
        "\n",
        "    def as_padded_array(self, split='train', max_len=40, pad_id=0,is_root = True):\n",
        "        df = self.get_filtered_split(split,is_root)\n",
        "        x, ns = pad_np_array(df.ids, max_len=max_len, pad_id=pad_id)\n",
        "        y = np.empty((1,1))\n",
        "        if split != 'test':\n",
        "            y  = np.array(df.label, dtype=np.int32)\n",
        "        return x, ns, y\n",
        "\n",
        "    def as_sparse_bow(self, split='train',is_root = True):\n",
        "        from scipy import sparse\n",
        "        df = self.get_filtered_split(split,is_root)\n",
        "        x = id_lists_to_sparse_bow(df['ids'], self.vocab.size)\n",
        "        if split != 'test':\n",
        "            return x, np.array(df.label, dtype=np.int32)\n",
        "        return x\n",
        "\n",
        "def require_package(package_name):\n",
        "    import pkgutil\n",
        "    import subprocess\n",
        "    import sys\n",
        "    if not pkgutil.find_loader(package_name):\n",
        "        subprocess.check_call([sys.executable, '-m', 'pip', 'install', package_name])\n",
        "\n",
        "def canonicalize_digits(word):\n",
        "    if any([c.isalpha() for c in word]): return word\n",
        "    word = re.sub(\"\\d\", \"DG\", word)\n",
        "    if word.startswith(\"DG\"):\n",
        "        word = word.replace(\",\", \"\") # remove thousands separator\n",
        "    return word\n",
        "\n",
        "def canonicalize_word(word, wordset=None, digits=True):\n",
        "    word = word.lower()\n",
        "    if digits:\n",
        "        if (wordset != None) and (word in wordset): return word\n",
        "        word = canonicalize_digits(word) # try to canonicalize numbers\n",
        "    if (wordset == None) or (word in wordset):\n",
        "        return word\n",
        "    else:\n",
        "        return UNK_TOKEN\n",
        "\n",
        "def canonicalize_words(words, **kw):\n",
        "    return [canonicalize_word(word, **kw) for word in words]\n",
        "\n",
        "\n",
        "def pad_np_array(example_ids, max_len=250, pad_id=0):\n",
        "    arr = np.full([len(example_ids), max_len], pad_id, dtype=np.int32)\n",
        "    ns = np.zeros([len(example_ids)], dtype=np.int32)\n",
        "    for i, ids in enumerate(example_ids):\n",
        "        cpy_len = min(len(ids), max_len)\n",
        "        arr[i,:cpy_len] = ids[:cpy_len]\n",
        "        ns[i] = cpy_len\n",
        "    return arr, ns\n",
        "\n",
        "def id_lists_to_sparse_bow(id_lists, vocab_size):\n",
        "    from scipy import sparse\n",
        "    ii = []  # row indices (example ids)\n",
        "    jj = []  # column indices (token ids)\n",
        "    for row_id, ids in enumerate(id_lists):\n",
        "        ii.extend([row_id]*len(ids))\n",
        "        jj.extend(ids)\n",
        "    x = sparse.csr_matrix((np.ones_like(ii), (ii, jj)),\n",
        "                          shape=[len(id_lists), vocab_size])\n",
        "    return x\n",
        "\n",
        "class Vocabulary(object):\n",
        "\n",
        "    START_TOKEN = START_TOKEN\n",
        "    END_TOKEN   = END_TOKEN\n",
        "    UNK_TOKEN   = UNK_TOKEN\n",
        "\n",
        "    def __init__(self, tokens, size=None,\n",
        "                 progressbar=lambda l:l):\n",
        "        self.unigram_counts = Counter()\n",
        "        self.bigram_counts = defaultdict(lambda: Counter())\n",
        "        prev_word = None\n",
        "        for word in progressbar(tokens):  # Make a single pass through tokens\n",
        "            self.unigram_counts[word] += 1\n",
        "            self.bigram_counts[prev_word][word] += 1\n",
        "            prev_word = word\n",
        "        self.bigram_counts.default_factory = None  # make into a normal dict\n",
        "\n",
        "        # Leave space for \"<s>\", \"</s>\", and \"<unk>\"\n",
        "        top_counts = self.unigram_counts.most_common(None if size is None else (size - 3))\n",
        "        vocab = ([self.START_TOKEN, self.END_TOKEN, self.UNK_TOKEN] +\n",
        "                 [w for w,c in top_counts])\n",
        "\n",
        "        # Assign an id to each word, by frequency\n",
        "        self.id_to_word = dict(enumerate(vocab))\n",
        "        self.word_to_id = {v:k for k,v in self.id_to_word.items()}\n",
        "        self.size = len(self.id_to_word)\n",
        "        if size is not None:\n",
        "            assert(self.size <= size)\n",
        "\n",
        "        # For convenience\n",
        "        self.wordset = set(self.word_to_id.keys())\n",
        "\n",
        "        # Store special IDs\n",
        "        self.START_ID = self.word_to_id[self.START_TOKEN]\n",
        "        self.END_ID = self.word_to_id[self.END_TOKEN]\n",
        "        self.UNK_ID = self.word_to_id[self.UNK_TOKEN]\n",
        "\n",
        "    def words_to_ids(self, words):\n",
        "        return [self.word_to_id.get(w, self.UNK_ID) for w in words]\n",
        "\n",
        "    def ids_to_words(self, ids):\n",
        "        return [self.id_to_word[i] for i in ids]\n",
        "\n",
        "    def ordered_words(self):\n",
        "        \"\"\"Return a list of words, ordered by id.\"\"\"\n",
        "        return self.ids_to_words(range(self.size))\n"
      ]
    },
    {
      "cell_type": "code",
      "execution_count": 16,
      "metadata": {
        "colab": {
          "base_uri": "https://localhost:8080/"
        },
        "id": "CSRZ9eqxt6-b",
        "outputId": "750cbdf3-9f47-4830-8bd5-bb3747aaa5e0"
      },
      "outputs": [
        {
          "output_type": "stream",
          "name": "stdout",
          "text": [
            "Train set has 16,474 words\n"
          ]
        }
      ],
      "source": [
        "ds = SSTDataset(train_file,dev_file, test_file,vocab_file,V=20000)"
      ]
    },
    {
      "cell_type": "markdown",
      "metadata": {
        "id": "kY5JE1DQt6-d"
      },
      "source": [
        "A few members of the `SSTDataset()` class that we will be using are:\n",
        "- **`ds.vocab`**: a `vocabulary.Vocabulary` object managing the model vocabulary.\n",
        "- **`ds.{train,dev,test}`**: a Pandas DataFrame containing the _processed_ examples, including all subphrases. `label` is the target label, `is_root` denotes whether this example is a root node (full sentence), and `tokens` are the tokenized words from the original sentence."
      ]
    },
    {
      "cell_type": "markdown",
      "metadata": {
        "id": "nYxYNappt6-j"
      },
      "source": [
        "##  1.1 Naive Bayes Classifier [TODO: 10 pts]\n",
        "\n",
        "We're now going to build a Naive Bayes Classifer.\n",
        "\n",
        "Naive Bayes is perhaps the simplest possible classification algorithm, but it's one that still surprisingly effective for many text classification problems. Recall the following formulae:\n",
        "\n",
        "$$\n",
        " P(y = k) = \\hat{\\theta}_k = \\frac{1}{N}\\sum_{i = 1}^N \\mathbf{1}[y_i = k] $$\n",
        "\n",
        "$$ P(x_j | y = 1) = \\hat{\\theta}_{k,j} = \n",
        "\\frac{ \n",
        "\\sum_{i = 1}^N  \\sum_{j' = 1}^{n_i} \\mathbf{1}[y_i = 1 \\wedge x_{j'} = j]\n",
        "}{\n",
        "\\sum_{i = 1}^N  \\mathbf{1}[y_i = 1] \\cdot n_i\n",
        "}\n",
        "$$\n",
        "\n",
        "where $N$ is the size of the dataset, and $n_i$ is the length (number of tokens of the $i^{th}$ example. Prediction is done by computing the score:\n",
        "\n",
        "$$ \\mathrm{score}(x) = \\log \\left(\\frac{P(y = 1) \\prod_{j=1}^n P(x_j | y = 1)}{P(y = 0) \\prod_{j=1}^n P(x_j | y = 0)}\\right) $$\n",
        "\n",
        "We'll just use the [implementation from scikit-learn](http://scikit-learn.org/stable/modules/naive_bayes.html). We will be using the `scipy.sparse` matrix representation."
      ]
    },
    {
      "cell_type": "markdown",
      "metadata": {
        "id": "16q8ruRjt6-k"
      },
      "source": [
        "Note if you set `root_only=True` the dataframe will return only examples corresponding to whole sentences. If you set `root_only=False` the dataframe will return examples for all phrases."
      ]
    },
    {
      "cell_type": "code",
      "execution_count": 17,
      "metadata": {
        "id": "9SXUCz-2YeP0"
      },
      "outputs": [],
      "source": [
        "is_root = False"
      ]
    },
    {
      "cell_type": "markdown",
      "metadata": {
        "id": "yMreB9aKJ8ml"
      },
      "source": [
        "We will get the input for Naive Bayes as a \"Compressed Sparse Row\", which is one format for representing sparse matricies."
      ]
    },
    {
      "cell_type": "code",
      "execution_count": 18,
      "metadata": {
        "colab": {
          "base_uri": "https://localhost:8080/"
        },
        "id": "7yVfwropt6-j",
        "outputId": "28d3e0b1-91e8-4fc2-a258-b077c7d8171b"
      },
      "outputs": [
        {
          "output_type": "stream",
          "name": "stdout",
          "text": [
            "Training set: x = (98794, 16474) sparse, y = (98794,)\n",
            "Validation set: x = (13142, 16474) sparse, y = (13142,)\n",
            "Test set: x = (26052, 16474) sparse\n"
          ]
        }
      ],
      "source": [
        "train_x_csr, train_y = ds.as_sparse_bow(\"train\",is_root= is_root)\n",
        "dev_x_csr, dev_y = ds.as_sparse_bow(\"dev\",is_root= is_root)\n",
        "test_x_csr = ds.as_sparse_bow(\"test\",is_root= is_root)\n",
        "\n",
        "print(\"Training set: x = {:s} sparse, y = {:s}\".format(str(train_x_csr.shape), \n",
        "                                                str(train_y.shape)))\n",
        "print(\"Validation set: x = {:s} sparse, y = {:s}\".format(str(dev_x_csr.shape), \n",
        "                                                str(dev_y.shape)))\n",
        "print(\"Test set: x = {:s} sparse\".format(str(test_x_csr.shape)))"
      ]
    },
    {
      "cell_type": "markdown",
      "metadata": {
        "id": "kEb9TBlUt6-k"
      },
      "source": [
        "Implement Naive Bayes using `sklearn.naive_bayes.MultinomialNB`. \n",
        "\n",
        "For this part of the exercise, do the following:\n",
        " and evaluate accuracy on the dev set using `.predict\n",
        "\n",
        "1.   Train on the training set.\n",
        "2.   Validate the accuracy on the dev set. \n",
        "3.   Return the predictions for the test set.\n",
        "\n",
        "\n",
        "Your model should train almost instantly. On SST, Naive Bayes is actually a very strong baseline.\n",
        "\n"
      ]
    },
    {
      "cell_type": "code",
      "execution_count": 19,
      "metadata": {
        "id": "nZ26LKH_t6-l"
      },
      "outputs": [],
      "source": [
        "from sklearn.naive_bayes import MultinomialNB\n",
        "from sklearn.metrics import accuracy_score\n",
        "#Return acc and y_pred_test where acc is the accuracy for the dev set and y_pred_test is the list of predictions for the test set\n",
        "\n",
        "def Naive_Bayes(train_x_csr, train_y, dev_x_csr, dev_y, test_x_csr):\n",
        "    \"\"\"\n",
        "    Trains the Multinomial Naive Bayes Classifier\n",
        "    \n",
        "    INPUT:\n",
        "    train_x_csr - sparse matrix representation for train dataset\n",
        "    train_y     - train data labels\n",
        "    dev_x_csr   - sparse matrix representation for dev dataset\n",
        "    dev_y       - train data labels\n",
        "    test_x_csr  - sparse matrix representation for test dataset\n",
        "    \n",
        "    OUTPUT:\n",
        "    nb          - the Multinomial Naive Bayes Classifier\n",
        "    test_y_pred - the predictions for the test set\n",
        "    \n",
        "    \"\"\"\n",
        "    #### STUDENT CODE HERE ####\n",
        "    #TODO use multinomial naive bayes to train \n",
        "    # 1. Train on the training set.\n",
        "    nb = MultinomialNB()\n",
        "    nb.fit(train_x_csr, train_y)\n",
        "    # 2. Validate the accuracy on the dev set.\n",
        "    dev_y_pred = nb.predict(dev_x_csr)\n",
        "    print('Accuracy of validation set is {}' .format(accuracy_score(dev_y, dev_y_pred)) )\n",
        "    # 3. Return the predictions for the test set.\n",
        "    test_y_pred = nb.predict(test_x_csr)\n",
        "    #### END ####\n",
        "    return nb, test_y_pred"
      ]
    },
    {
      "cell_type": "code",
      "execution_count": 20,
      "metadata": {
        "colab": {
          "base_uri": "https://localhost:8080/"
        },
        "id": "w3D5kvnZeGPo",
        "outputId": "309c0460-84e7-4969-d4b0-d73f27f7e456"
      },
      "outputs": [
        {
          "output_type": "stream",
          "name": "stdout",
          "text": [
            "Accuracy of validation set is 0.8306193882209709\n"
          ]
        }
      ],
      "source": [
        "nb, test_y_pred = Naive_Bayes(train_x_csr, train_y, dev_x_csr, dev_y, test_x_csr)"
      ]
    },
    {
      "cell_type": "code",
      "execution_count": 21,
      "metadata": {
        "colab": {
          "base_uri": "https://localhost:8080/"
        },
        "id": "IKNDNZb5VCxf",
        "outputId": "39b619ed-1836-4be5-aacf-698866297f17"
      },
      "outputs": [
        {
          "output_type": "stream",
          "name": "stdout",
          "text": [
            "Correct! You earned 10/10 points. You are a star!\n",
            "\n",
            "Your submission has been successfully recorded in the gradebook.\n"
          ]
        }
      ],
      "source": [
        "# PennGrader Grading Cell\n",
        "if NOTEBOOK:\n",
        "    grader.grade(test_case_id = 'test_nb_predictions', answer = test_y_pred)"
      ]
    },
    {
      "cell_type": "markdown",
      "metadata": {
        "id": "FQNc4X5tUFiB"
      },
      "source": [
        "#### Examining featues\n",
        "Let us look at the most positive and negative features in the training set"
      ]
    },
    {
      "cell_type": "code",
      "execution_count": 22,
      "metadata": {
        "colab": {
          "base_uri": "https://localhost:8080/"
        },
        "id": "zy_cCSM5UHh7",
        "outputId": "2a31ec44-3833-4d35-97d4-787f14a8eb0c"
      },
      "outputs": [
        {
          "output_type": "stream",
          "name": "stdout",
          "text": [
            "Most negative features:\n",
            "  unfunny (-5.05)\n",
            "  poorly (-4.93)\n",
            "  pointless (-4.84)\n",
            "  tiresome (-4.62)\n",
            "  inept (-4.45)\n",
            "  unnecessary (-4.41)\n",
            "  lousy (-4.38)\n",
            "  listless (-4.38)\n",
            "  crap (-4.33)\n",
            "  unimaginative (-4.28)\n",
            "\n",
            "Most positive features:\n",
            "  stunning (4.42)\n",
            "  wonderfully (4.32)\n",
            "  detailed (4.26)\n",
            "  heartwarming (4.25)\n",
            "  thought-provoking (4.23)\n",
            "  refreshingly (4.22)\n",
            "  elegant (4.21)\n",
            "  evocative (4.18)\n",
            "  vibrant (4.05)\n",
            "  masterful (4.04)\n"
          ]
        }
      ],
      "source": [
        "w = nb.feature_log_prob_[1, :] - nb.feature_log_prob_[0, :]\n",
        "linear_weights = nb.feature_log_prob_[1, :] - nb.feature_log_prob_[0, :] \n",
        "idx_sorted = np.argsort(w)\n",
        "top_negative_features = idx_sorted[:10]\n",
        "top_positive_features = idx_sorted[-10:][::-1]\n",
        "\n",
        "\n",
        "print(\"Most negative features:\")\n",
        "for idx in top_negative_features:\n",
        "    print(\"  {:s} ({:.02f})\".format(ds.vocab.id_to_word[idx], \n",
        "                                    linear_weights[idx]))\n",
        "print(\"\")\n",
        "print(\"Most positive features:\")\n",
        "for idx in top_positive_features:\n",
        "    print(\"  {:s} ({:.02f})\".format(ds.vocab.id_to_word[idx], \n",
        "                                    linear_weights[idx]))"
      ]
    },
    {
      "cell_type": "markdown",
      "metadata": {
        "id": "K2EMoXKcUQ1G"
      },
      "source": [
        "## 1.2 [Deep Averaging Networks](https://people.cs.umass.edu/~miyyer/pubs/2015_acl_dan.pdf)\n",
        "\n",
        "We are going to implement the deep averaging networks\n",
        "\n",
        "![dan](https://miro.medium.com/max/904/1*0LezMYWUk3pXptoMdO5M_Q.png)\n",
        "\n",
        "\n",
        "Vector space models for natural language processing (NLP) represent words using low dimensional vectors called embeddings. To apply vector space\n",
        "models to sentences or documents, one must first select an appropriate composition function, which combines multiple words into a single vector.\n",
        "\n",
        "Composition functions fall into two classes: unordered and syntactic. Unordered functions treat input texts as bags of word embeddings, while syntactic functions take word order and sentence structure\n",
        "into account. Syntactic functions outperform unordered functions on many tasks. However, there is a tradeoff: syntactic functions require more training time and computing resources. \n",
        "\n",
        "The deep averaging network (DAN) is a deep unordered model which that obtains near state-of-the-art accuracies on a variety of sentence and document-level tasks with just minutes of training time on an average laptop computer. It\n",
        "works in three simple steps:\n",
        "1. Take the vector average of the embeddings\n",
        "associated with an input sequence of tokens\n",
        "2. Pass that average through one or more feedforward layers\n",
        "3. Perform (linear) classification on the final\n",
        "layer’s representation\n",
        "\n",
        "Furthermore, DANs, can be effectively trained on data that have high syntactic variance. The model works by magnifying tiny but meaningful differences in the vector average."
      ]
    },
    {
      "cell_type": "markdown",
      "metadata": {
        "id": "6S7vplWWPya4"
      },
      "source": [
        "We are going to use DANs for the same classification problem."
      ]
    },
    {
      "cell_type": "code",
      "execution_count": 23,
      "metadata": {
        "id": "WVXHs8JIQEg8"
      },
      "outputs": [],
      "source": [
        "import torch\n",
        "import torch.nn as nn\n",
        "import torch.nn.functional as F\n",
        "\n",
        "import torch.optim as optim\n",
        "from torch.utils.data import Dataset, DataLoader\n"
      ]
    },
    {
      "cell_type": "code",
      "execution_count": 24,
      "metadata": {
        "id": "WU2myqExRR1n"
      },
      "outputs": [],
      "source": [
        "import os\n",
        "import time\n",
        "import glob\n",
        "import numpy as np\n",
        "\n",
        "import sys\n",
        "from argparse import ArgumentParser"
      ]
    },
    {
      "cell_type": "markdown",
      "metadata": {
        "id": "Q5ulmPzRwr3T"
      },
      "source": [
        "### 1.2.1 [Glove Embeddings](https://nlp.stanford.edu/projects/glove/) [TODO: 5pts]\n",
        "We are downloading pretrained glove word vectors that has been trained on Common Crawl data, a snapshot of the whole web.\n",
        "These embeddings serve as excelent initilizations for embeddings our model needs.\n",
        "Downloading glove embeddings (This will take around 10 minutes) "
      ]
    },
    {
      "cell_type": "code",
      "execution_count": 25,
      "metadata": {
        "colab": {
          "base_uri": "https://localhost:8080/"
        },
        "id": "nT27aeXBVw01",
        "outputId": "768ef50b-4e68-4379-d484-b788f6b00de1"
      },
      "outputs": [
        {
          "output_type": "stream",
          "name": "stdout",
          "text": [
            "--2022-04-09 15:59:57--  https://nlp.stanford.edu/data/glove.840B.300d.zip\n",
            "Resolving nlp.stanford.edu (nlp.stanford.edu)... 171.64.67.140\n",
            "Connecting to nlp.stanford.edu (nlp.stanford.edu)|171.64.67.140|:443... connected.\n",
            "HTTP request sent, awaiting response... 301 Moved Permanently\n",
            "Location: http://downloads.cs.stanford.edu/nlp/data/glove.840B.300d.zip [following]\n",
            "--2022-04-09 15:59:57--  http://downloads.cs.stanford.edu/nlp/data/glove.840B.300d.zip\n",
            "Resolving downloads.cs.stanford.edu (downloads.cs.stanford.edu)... 171.64.64.22\n",
            "Connecting to downloads.cs.stanford.edu (downloads.cs.stanford.edu)|171.64.64.22|:80... connected.\n",
            "HTTP request sent, awaiting response... 200 OK\n",
            "Length: 2176768927 (2.0G) [application/zip]\n",
            "Saving to: ‘glove.840B.300d.zip’\n",
            "\n",
            "glove.840B.300d.zip 100%[===================>]   2.03G  5.15MB/s    in 6m 51s  \n",
            "\n",
            "2022-04-09 16:06:48 (5.06 MB/s) - ‘glove.840B.300d.zip’ saved [2176768927/2176768927]\n",
            "\n",
            "Archive:  glove.840B.300d.zip\n",
            "  inflating: glove.840B.300d.txt     \n",
            "total 7644520\n",
            "drwxr-xr-x 1 root root       4096 Apr  9 16:06 .\n",
            "drwxr-xr-x 1 root root       4096 Apr  9 15:58 ..\n",
            "drwxr-xr-x 1 root root       4096 Mar 23 14:22 sample_data\n",
            "drwxr-xr-x 4 root root       4096 Mar 23 14:21 .config\n",
            "-rw-r--r-- 1 root root     886453 Mar 21 12:34 train_tokens.txt\n",
            "-rw-r--r-- 1 root root     850723 Mar 21 12:33 test.parquet\n",
            "-rw-r--r-- 1 root root     317137 Mar 21 12:33 dev.parquet\n",
            "-rw-r--r-- 1 root root    2893816 Mar 21 12:33 train.parquet\n",
            "-rw-r--r-- 1 root root 2176768927 Oct 24  2015 glove.840B.300d.zip\n",
            "-rw-rw-r-- 1 root root 5646236541 Oct 24  2015 glove.840B.300d.txt\n"
          ]
        }
      ],
      "source": [
        "#this takes about 10 minutes to run\n",
        "!wget -nc https://nlp.stanford.edu/data/glove.840B.300d.zip\n",
        "!unzip glove.840B.300d.zip\n",
        "!ls -lat"
      ]
    },
    {
      "cell_type": "code",
      "execution_count": 26,
      "metadata": {
        "id": "gukyScOlS6Ri"
      },
      "outputs": [],
      "source": [
        "glove_file = \"glove.840B.300d.txt\""
      ]
    },
    {
      "cell_type": "code",
      "execution_count": 27,
      "metadata": {
        "colab": {
          "base_uri": "https://localhost:8080/"
        },
        "id": "MpUv8X36MEru",
        "outputId": "ab1cfe24-3d3d-4af9-fe4c-662228778040"
      },
      "outputs": [
        {
          "output_type": "stream",
          "name": "stdout",
          "text": [
            "Training set: x = (98794, 40) sparse, ns=(98794,), y = (98794,)\n",
            "Validation set: x = (13142, 40) sparse,ns=(13142,), y = (13142,)\n",
            "Test set:     x = (26052, 40) sparse,ns=(26052,)\n"
          ]
        }
      ],
      "source": [
        "train_x, train_ns, train_y = ds.as_padded_array(\"train\",is_root = is_root)\n",
        "dev_x, dev_ns, dev_y = ds.as_padded_array(\"dev\",is_root = is_root)\n",
        "test_x, test_ns,_  = ds.as_padded_array(\"test\",is_root = is_root)\n",
        "\n",
        "print(\"Training set: x = {:s} sparse, ns={:s}, y = {:s}\".format(str(train_x.shape), str(train_ns.shape),\n",
        "                                                str(train_y.shape)))\n",
        "print(\"Validation set: x = {:s} sparse,ns={:s}, y = {:s}\".format(str(dev_x.shape), str(dev_ns.shape),\n",
        "                                                str(dev_y.shape)))\n",
        "print(\"Test set:     x = {:s} sparse,ns={:s}\".format(str(test_x.shape), str(test_ns.shape)))"
      ]
    },
    {
      "cell_type": "code",
      "execution_count": 28,
      "metadata": {
        "colab": {
          "base_uri": "https://localhost:8080/"
        },
        "id": "qu-xCT7dIfwD",
        "outputId": "e76dfa12-17f6-41ce-e59f-c323329d34a9"
      },
      "outputs": [
        {
          "output_type": "stream",
          "name": "stdout",
          "text": [
            ", -0.082752 0.67204 -0.14987 -0.064983 0.056491 0.40228 0.0027747 -0.3311 -0.30691 2.0817 0.031819 0.013643 0.30265 0.0071297 -0.5819 -0.2774 -0.062254 1.1451 -0.24232 0.1235 -0.12243 0.33152 -0.006162 -0.30541 -0.13057 -0.054601 0.037083 -0.070552 0.5893 -0.30385 0.2898 -0.14653 -0.27052 0.37161 0.32031 -0.29125 0.0052483 -0.13212 -0.052736 0.087349 -0.26668 -0.16897 0.015162 -0.0083746 -0.14871 0.23413 -0.20719 -0.091386 0.40075 -0.17223 0.18145 0.37586 -0.28682 0.37289 -0.16185 0.18008 0.3032 -0.13216 0.18352 0.095759 0.094916 0.008289 0.11761 0.34046 0.03677 -0.29077 0.058303 -0.027814 0.082941 0.1862 -0.031494 0.27985 -0.074412 -0.13762 -0.21866 0.18138 0.040855 -0.113 0.24107 0.3657 -0.27525 -0.05684 0.34872 0.011884 0.14517 -0.71395 0.48497 0.14807 0.62287 0.20599 0.58379 -0.13438 0.40207 0.18311 0.28021 -0.42349 -0.25626 0.17715 -0.54095 0.16596 -0.036058 0.08499 -0.64989 0.075549 -0.28831 0.40626 -0.2802 0.094062 0.32406 0.28437 -0.26341 0.11553 0.071918 -0.47215 -0.18366 -0.34709 0.29964 -0.66514 0.002516 -0.42333 0.27512 0.36012 0.16311 0.23964 -0.05923 0.3261 0.20559 0.038677 -0.045816 0.089764 0.43151 -0.15954 0.08532 -0.26572 -0.15001 0.084286 -0.16714 -0.43004 0.060807 0.13121 -0.24112 0.66554 0.4453 -0.18019 -0.13919 0.56252 0.21457 -0.46443 -0.012211 0.029988 -0.051094 -0.20135 0.80788 0.47377 -0.057647 0.46216 0.16084 -0.20954 -0.05452 0.15572 -0.13712 0.12972 -0.011936 -0.003378 -0.13595 -0.080711 0.20065 0.054056 0.046816 0.059539 0.046265 0.17754 -0.31094 0.28119 -0.24355 0.085252 -0.21011 -0.19472 0.0027297 -0.46341 0.14789 -0.31517 -0.065939 0.036106 0.42903 -0.33759 0.16432 0.32568 -0.050392 -0.054297 0.24074 0.41923 0.13012 -0.17167 -0.37808 -0.23089 -0.019477 -0.29291 -0.30824 0.30297 -0.22659 0.081574 -0.18516 -0.21408 0.40616 -0.28974 0.074174 -0.17795 0.28595 -0.039626 -0.2339 -0.36054 -0.067503 -0.091065 0.23438 -0.0041331 0.003232 0.0072134 0.008697 0.21614 0.049904 0.35582 0.13748 0.073361 0.14166 0.2412 -0.013322 0.15613 0.083381 0.088146 -0.019357 0.43795 0.083961 0.45309 -0.50489 -0.10865 -0.2527 -0.18251 0.20441 0.13319 0.1294 0.050594 -0.15612 -0.39543 0.12538 0.24881 -0.1927 -0.31847 -0.12719 0.4341 0.31177 -0.0040946 -0.2094 -0.079961 0.1161 -0.050794 0.015266 -0.2803 -0.12486 0.23587 0.2339 -0.14023 0.028462 0.56923 -0.1649 -0.036429 0.010051 -0.17107 -0.042608 0.044965 -0.4393 -0.26137 0.30088 -0.060772 -0.45312 -0.19076 -0.20288 0.27694 -0.060888 0.11944 0.62206 -0.19343 0.47849 -0.30113 0.059389 0.074901 0.061068 -0.4662 0.40054 -0.19099 -0.14331 0.018267 -0.18643 0.20709 -0.35598 0.05338 -0.050821 -0.1918 -0.37846 -0.06589\n",
            ". 0.012001 0.20751 -0.12578 -0.59325 0.12525 0.15975 0.13748 -0.33157 -0.13694 1.7893 -0.47094 0.70434 0.26673 -0.089961 -0.18168 0.067226 0.053347 1.5595 -0.2541 0.038413 -0.01409 0.056774 0.023434 0.024042 0.31703 0.19025 -0.37505 0.035603 0.1181 0.012032 -0.037566 -0.5046 -0.049261 0.092351 0.11031 -0.073062 0.33994 0.28239 0.13413 0.070128 -0.022099 -0.28103 0.49607 -0.48693 -0.090964 -0.1538 -0.38011 -0.014228 -0.19392 -0.11068 -0.014088 -0.17906 0.24509 -0.16878 -0.15351 -0.13808 0.02151 0.13699 0.0068061 -0.14915 -0.38169 0.12727 0.44007 0.32678 -0.46117 0.068687 0.34747 0.18827 -0.31837 0.4447 -0.2095 -0.26987 0.48945 0.15388 0.05295 -0.049831 0.11207 0.14881 -0.37003 0.30777 -0.33865 0.045149 -0.18987 0.26634 -0.26401 -0.47556 0.68381 -0.30653 0.24606 0.31611 -0.071098 0.030417 0.088119 0.045025 0.20125 -0.21618 -0.36371 -0.25948 -0.42398 -0.14305 -0.10208 0.21498 -0.21924 -0.17935 0.21546 0.13801 0.24504 -0.2559 0.054815 0.21307 0.2564 -0.25673 0.17961 -0.47638 -0.25181 -0.0091498 -0.054362 -0.21007 0.12597 -0.40795 -0.021164 0.20585 0.18925 -0.0051896 -0.51394 0.28862 -0.077748 -0.27676 0.46567 -0.14225 -0.17879 -0.4357 -0.32481 0.15034 -0.058367 0.49652 0.20472 0.019866 0.13326 0.12823 -1.0177 0.29007 0.28995 0.029994 -0.10763 0.28665 -0.24387 0.22905 -0.26249 -0.069269 -0.17889 0.21936 0.15146 0.04567 -0.050497 0.071482 -0.1027 -0.080705 0.30296 0.031302 0.26613 -0.0060951 0.10313 -0.39987 -0.043945 -0.057625 0.08702 -0.098152 0.22835 -0.005211 0.038075 0.01591 -0.20622 0.021853 0.0040426 -0.043063 -0.002294 -0.26097 -0.25802 -0.28158 -0.23118 -0.010404 -0.30102 -0.4042 0.014653 -0.10445 0.30377 -0.20957 0.3119 0.068272 0.1008 0.010423 0.54011 0.29865 0.12653 0.013761 0.21738 -0.39521 0.066633 0.50327 0.14913 -0.11554 0.010042 0.095698 0.16607 -0.18808 0.055019 0.026715 -0.3164 -0.046583 -0.051591 0.023475 -0.11007 0.085642 0.28394 0.040497 0.071986 0.14157 -0.021199 0.44718 0.20088 -0.12964 -0.067183 0.47614 0.13394 -0.17287 -0.37324 -0.17285 0.02683 -0.1316 0.09116 -0.46487 0.1274 -0.090159 -0.10552 0.068006 -0.13381 0.17056 0.089509 -0.23133 -0.27572 0.061534 -0.051646 0.28377 0.25286 -0.24139 -0.19905 0.12049 -0.1011 0.27392 0.27843 0.26449 -0.18292 -0.048961 0.19198 0.17192 0.33659 -0.20184 -0.34305 -0.24553 -0.15399 0.3945 0.22839 -0.25753 -0.25675 -0.37332 -0.23884 -0.048816 0.78323 0.18851 -0.26477 0.096566 0.062658 -0.30668 -0.43334 0.10006 0.21136 0.039459 -0.11077 0.24421 0.60942 -0.46646 0.086385 -0.39702 -0.23363 0.021307 -0.10778 -0.2281 0.50803 0.11567 0.16165 -0.066737 -0.29556 0.022612 -0.28135 0.0635 0.14019 0.13871 -0.36049 -0.035\n",
            "the 0.27204 -0.06203 -0.1884 0.023225 -0.018158 0.0067192 -0.13877 0.17708 0.17709 2.5882 -0.35179 -0.17312 0.43285 -0.10708 0.15006 -0.19982 -0.19093 1.1871 -0.16207 -0.23538 0.003664 -0.19156 -0.085662 0.039199 -0.066449 -0.04209 -0.19122 0.011679 -0.37138 0.21886 0.0011423 0.4319 -0.14205 0.38059 0.30654 0.020167 -0.18316 -0.0065186 -0.0080549 -0.12063 0.027507 0.29839 -0.22896 -0.22882 0.14671 -0.076301 -0.1268 -0.0066651 -0.052795 0.14258 0.1561 0.05551 -0.16149 0.09629 -0.076533 -0.049971 -0.010195 -0.047641 -0.16679 -0.2394 0.0050141 -0.049175 0.013338 0.41923 -0.10104 0.015111 -0.077706 -0.13471 0.119 0.10802 0.21061 -0.051904 0.18527 0.17856 0.041293 -0.014385 -0.082567 -0.035483 -0.076173 -0.045367 0.089281 0.33672 -0.22099 -0.0067275 0.23983 -0.23147 -0.88592 0.091297 -0.012123 0.013233 -0.25799 -0.02972 0.016754 0.01369 0.32377 0.039546 0.042114 -0.088243 0.30318 0.087747 0.16346 -0.40485 -0.043845 -0.040697 0.20936 -0.77795 0.2997 0.2334 0.14891 -0.39037 -0.053086 0.062922 0.065663 -0.13906 0.094193 0.10344 -0.2797 0.28905 -0.32161 0.020687 0.063254 -0.23257 -0.4352 -0.017049 -0.32744 -0.047064 -0.075149 -0.18788 -0.015017 0.029342 -0.3527 -0.044278 -0.13507 -0.11644 -0.1043 0.1392 0.0039199 0.37603 0.067217 -0.37992 -1.1241 -0.057357 -0.16826 0.03941 0.2604 -0.023866 0.17963 0.13553 0.2139 0.052633 -0.25033 -0.11307 0.22234 0.066597 -0.11161 0.062438 -0.27972 0.19878 -0.36262 -1.0006e-05 -0.17262 0.29166 -0.15723 0.054295 0.06101 -0.39165 0.2766 0.057816 0.39709 0.025229 0.24672 -0.08905 0.15683 -0.2096 -0.22196 0.052394 -0.01136 0.050417 -0.14023 -0.042825 -0.031931 -0.21336 -0.20402 -0.23272 0.07449 0.088202 -0.11063 -0.33526 -0.014028 -0.29429 -0.086911 -0.1321 -0.43616 0.20513 0.0079362 0.48505 0.064237 0.14261 -0.43711 0.12783 -0.13111 0.24673 -0.27496 0.15896 0.43314 0.090286 0.24662 0.066463 -0.20099 0.1101 0.03644 0.17359 -0.15689 -0.086328 -0.17316 0.36975 -0.40317 -0.064814 -0.034166 -0.013773 0.062854 -0.17183 -0.12366 -0.034663 -0.22793 -0.23172 0.239 0.27473 0.15332 0.10661 -0.060982 -0.024805 -0.13478 0.17932 -0.37374 -0.02893 -0.11142 -0.08389 -0.055932 0.068039 -0.10783 0.1465 0.094617 -0.084554 0.067429 -0.3291 0.034082 -0.16747 -0.25997 -0.22917 0.020159 -0.02758 0.16136 -0.18538 0.037665 0.57603 0.20684 0.27941 0.16477 -0.018769 0.12062 0.069648 0.059022 -0.23154 0.24095 -0.3471 0.04854 -0.056502 0.41566 -0.43194 0.4823 -0.051759 -0.27285 -0.25893 0.16555 -0.1831 -0.06734 0.42457 0.010346 0.14237 0.25939 0.17123 -0.13821 -0.066846 0.015981 -0.30193 0.043579 -0.043102 0.35025 -0.19681 -0.4281 0.16899 0.22511 -0.28557 -0.1028 -0.018168 0.11407 0.13015 -0.18317 0.1323\n",
            "and -0.18567 0.066008 -0.25209 -0.11725 0.26513 0.064908 0.12291 -0.093979 0.024321 2.4926 -0.017916 -0.071218 -0.24782 -0.26237 -0.2246 -0.21961 -0.12927 1.0867 -0.66072 -0.031617 -0.057328 0.056903 -0.27939 -0.39825 0.14251 -0.085146 -0.14779 0.055067 -0.0028687 -0.20917 -0.070735 0.22577 -0.15881 -0.10395 0.09711 -0.56251 -0.32929 -0.20853 0.0098711 0.049777 0.0014883 0.15884 0.042771 -0.0026956 -0.02462 -0.19213 -0.22556 0.10838 0.090086 -0.13291 0.32559 -0.17038 -0.1099 -0.23986 -0.024289 0.014656 -0.237 0.084828 -0.35982 -0.076746 0.048909 0.11431 -0.21013 0.24765 -0.017531 -0.14028 0.046191 0.22972 0.1175 0.12724 0.012992 0.4587 0.41085 0.039106 0.15713 -0.18376 0.26834 0.056662 0.16844 -0.053788 -0.091892 0.11193 -0.08681 -0.13324 0.15062 -0.31733 -0.22078 0.25038 0.34131 0.36419 -0.089514 -0.22193 0.24471 0.040091 0.47798 -0.029996 0.0019212 0.063511 -0.20417 -0.26478 0.20649 0.015573 -0.27722 -0.18861 -0.10289 -0.49773 0.14986 -0.010877 0.25085 -0.28117 0.18966 -0.065879 0.094753 -0.15338 -0.055071 -0.36747 0.24993 0.096527 0.23538 0.18405 0.052859 0.22967 0.12582 0.15536 -0.17275 0.33946 -0.10049 0.074948 -0.093575 -0.04049 -0.016922 -0.0058039 -0.18108 0.19537 0.45178 0.10965 0.2337 -0.09905 -0.078633 0.21678 -0.71231 -0.099759 0.33333 -0.1646 -0.091688 0.21056 0.023669 0.028922 0.1199 -0.12512 -0.026037 -0.062217 0.55816 0.0050273 -0.30888 0.038611 0.17568 -0.11163 -0.10815 -0.19444 0.29433 0.14519 -0.042878 0.18534 0.018891 -0.61883 0.13352 0.036007 0.33995 0.22109 -0.079328 0.071319 0.17678 0.16378 -0.23142 -0.1434 -0.098122 -0.019286 0.2356 -0.34013 -0.061007 -0.23208 -0.31152 0.10063 -0.15957 0.20183 -0.016345 -0.12303 0.022667 -0.20986 -0.20127 -0.087883 0.064731 0.10195 -0.1786 0.33056 0.21407 -0.32165 -0.17106 0.19407 -0.38618 -0.2148 -0.052254 0.023175 0.47389 0.18612 0.12711 0.20855 -0.10256 -0.12016 -0.40488 0.029695 -0.027419 -0.0085227 -0.11415 0.081134 -0.17228 0.19142 0.026514 0.043789 -0.12399 0.13354 0.10112 0.081682 -0.15085 0.0075806 -0.18971 0.24669 0.22491 0.35553 -0.3277 -0.21821 0.1402 0.28604 0.055226 -0.086544 0.02111 -0.19236 0.074245 0.076782 0.00081666 0.034097 -0.57719 0.10657 0.28134 -0.11964 -0.68281 -0.32893 -0.24442 -0.025847 0.0091273 0.2025 -0.050959 -0.11042 0.010962 0.076773 0.40048 -0.40739 -0.44773 0.31954 -0.036326 -0.012789 -0.17282 0.1476 0.2356 0.080642 -0.36528 -0.0083443 0.6239 -0.24379 0.019917 -0.28803 -0.010494 0.038412 -0.11718 -0.072462 0.16381 0.38488 -0.029783 0.23444 0.4532 0.14815 -0.027021 -0.073181 -0.1147 -0.0054545 0.47796 0.090912 0.094489 -0.36882 -0.59396 -0.097729 0.20072 0.17055 -0.0047356 -0.039709 0.32498 -0.023452 0.12302 0.3312\n",
            "to 0.31924 0.06316 -0.27858 0.2612 0.079248 -0.21462 -0.10495 0.15495 -0.03353 2.4834 -0.50904 0.08749 0.21426 0.22151 -0.25234 -0.097544 -0.1927 1.3606 -0.11592 -0.10383 0.21929 0.11997 -0.11063 0.14212 -0.16643 0.21815 0.0042086 -0.070012 -0.23532 -0.26518 0.031248 0.16669 -0.089777 0.20059 0.31614 -0.5583 0.075735 0.27635 0.12741 -0.18185 -0.12722 0.024686 -0.077233 -0.48998 0.020355 0.0039164 0.1215 0.089723 -0.078975 0.081443 -0.099087 -0.055621 0.10737 -0.0044042 0.48496 0.11717 -0.017329 0.109 -0.35558 0.051084 0.15714 0.17961 -0.29711 0.033645 -0.025792 -0.013931 -0.23 -0.040306 0.22282 -0.013544 0.011554 0.3911 0.26533 -0.31012 0.40539 -0.042975 0.020811 -0.33033 0.19573 -0.037958 0.10274 -0.0013581 -0.44505 0.077886 0.08511 -0.20285 -0.19481 0.056933 0.53105 0.034154 -0.56996 -0.18469 0.093403 0.28044 -0.23349 0.10938 -0.014288 -0.274 0.034196 -0.098479 0.13268 0.19437 0.13463 -0.099059 0.040324 -0.66272 0.3571 0.15429 0.18598 0.087542 0.080538 -0.25121 0.24155 0.1783 0.036011 -0.027677 0.21161 -0.29107 -0.0083456 0.11317 0.31064 -0.10693 -0.27367 -0.039785 0.039881 0.034462 -0.16518 0.16115 0.060826 0.3075 -0.22398 0.14619 -0.2661 0.49732 -0.13996 -0.24287 0.039469 -0.084495 -0.24315 0.070701 -1.0136 -0.21733 -0.36878 -0.24973 0.17472 -0.011592 0.068561 -0.090411 0.21878 -0.2639 0.11904 0.14285 -0.18707 -0.13474 -0.13232 -0.26553 0.22947 -0.018215 0.0067383 -0.1019 0.10053 -0.1127 -0.13295 0.15951 0.14906 -0.095578 0.26992 0.011057 0.056568 0.021386 0.20215 0.00048589 0.5336 -0.22947 0.29275 0.17378 0.25423 -0.10976 0.058816 0.014616 -0.04306 0.10732 -0.028149 -0.19181 0.1025 -0.063892 0.012737 -0.12913 0.015037 0.26562 -0.017049 -0.060716 -0.094919 0.017775 0.13221 0.1683 -0.19323 -0.17612 0.075506 0.18939 0.12508 -0.1988 -0.16017 -0.21092 0.46933 0.044747 0.098349 0.011637 0.22281 -0.010837 -0.04833 -0.47335 -0.36811 -0.13592 -0.15086 0.25416 0.069531 0.14211 -0.26703 -0.1259 0.12076 -0.26117 0.033024 -0.034398 -0.13968 0.13446 -0.16709 0.15002 -0.13724 0.091226 -0.27718 0.020098 0.26919 0.43016 0.094019 -0.085496 -0.25192 -0.11645 -0.039734 0.0046738 0.54178 -0.16636 0.34546 0.098501 0.47819 -0.38428 -0.3238 -0.14822 -0.47817 0.16704 -0.064505 0.11834 -0.3448 0.096891 0.32309 0.41471 0.19463 -0.20891 -0.12223 -0.058298 -0.20268 0.2948 0.043397 0.10112 0.27177 -0.52124 -0.073794 0.044808 0.41388 0.088782 0.62255 -0.072391 0.090129 0.15428 0.023163 -0.13028 0.061762 0.33803 -0.091581 0.21039 0.05108 0.19184 0.10444 0.2138 -0.35091 -0.23702 0.038399 -0.10031 0.18359 0.025178 -0.12977 0.3713 0.18888 -0.0042738 -0.10645 -0.2581 -0.044629 0.082745 0.097801 0.25045\n",
            "of 0.060216 0.21799 -0.04249 -0.38618 -0.15388 0.034635 0.22243 0.21718 0.0068483 2.4375 -0.27418 0.13572 0.31086 -0.063206 0.00038225 -0.18597 -0.19333 1.4447 -0.38541 -0.28549 0.075627 -0.036799 -0.46068 -0.016835 0.19821 -0.092746 0.18954 -0.00032648 -0.17081 0.50359 0.46256 0.26901 -0.12256 0.24713 0.069305 -0.20777 -0.4456 0.30223 -0.0098344 0.32772 0.11038 0.41271 -0.15854 -0.056983 0.38918 -0.21158 -0.13307 0.40406 0.1749 0.053949 0.10984 -0.18476 -0.054014 0.040112 -0.10175 0.12662 0.069709 -0.24071 -0.20995 -0.051381 0.28219 0.18598 -0.5018 0.27572 -0.18497 -0.18399 0.15696 -0.038444 -0.52238 0.22753 0.048672 -0.078837 0.065448 0.18399 0.40211 -0.12745 -0.12302 0.31072 0.099588 0.036047 -0.25946 0.36128 0.12748 -0.18667 0.16502 -0.3912 -0.67549 0.11291 0.040743 0.034973 -0.04091 -0.039791 -0.40544 -0.015867 0.10239 0.046868 -0.082776 0.015132 -0.14899 -0.25125 0.25244 -0.11851 -0.34127 0.016516 0.30405 -0.541 0.305 0.39065 0.42362 -0.41721 -0.054247 -0.26014 -0.14048 -0.14166 -0.02105 0.050822 -0.078053 0.45922 0.17598 -0.0157 0.09118 0.034263 -0.49995 0.028574 0.12068 0.19781 -0.013025 -0.22418 0.12503 0.14653 -0.23085 0.21987 -0.059321 -0.088169 -0.1252 0.0075112 -0.22421 0.6214 0.2009 -0.02899 -0.65073 0.0053506 -0.12073 0.20988 -0.1684 0.041826 0.054582 0.35247 0.2006 0.031903 -0.053307 -0.44009 0.22495 -0.30616 -0.32855 -0.015779 -0.13913 0.34309 -0.13569 -0.22276 0.14295 0.05501 -0.10616 0.23597 -0.20701 -0.30963 0.13528 -0.16144 0.29108 0.12301 0.2365 -0.26153 0.31022 0.20612 -0.19885 0.10971 -0.0018054 0.14621 0.15177 -0.4468 0.0067433 -0.028784 0.13821 -0.16566 -0.45517 0.016623 0.10703 -0.48399 0.040033 0.049625 -0.26454 -0.1468 0.13651 0.15261 0.067522 0.50405 -0.18848 0.15256 -0.26997 0.055578 0.047077 -0.17848 -0.33567 -0.03148 0.19107 0.18818 0.18778 0.18313 -0.364 -0.0054127 -0.15763 0.16386 -0.084828 -0.19838 -0.40454 0.41031 -0.41393 0.029771 0.10544 -0.11295 -0.068076 -0.22372 -0.19084 -0.080269 -0.38345 0.064712 0.23111 0.21408 0.28038 0.14221 -0.20696 0.015874 -0.14112 0.089859 -0.21533 -0.020105 0.22703 0.083425 -0.2958 0.018036 0.19885 0.17794 0.13688 -0.10302 0.029651 0.051271 -0.14787 -0.41824 0.019828 -0.26385 -0.074654 -0.015718 0.48094 0.12492 -0.11409 0.58127 0.095836 -0.095912 -0.057435 0.13883 0.10307 0.081362 -0.4669 0.50705 0.021685 -0.071623 -0.063827 -0.11154 0.61792 -0.56329 0.023565 0.18041 -0.2578 -0.50956 0.14737 -0.033317 -0.037053 0.24062 0.12641 -0.027091 0.4039 -0.02836 -0.022235 -0.11493 -0.2285 -0.05746 0.2952 -0.21914 -0.13307 -0.23647 -0.42484 0.11606 0.0048131 -0.39629 -0.26823 0.3292 -0.17597 0.11709 -0.16692 -0.094085\n",
            "a 0.043798 0.024779 -0.20937 0.49745 0.36019 -0.37503 -0.052078 -0.60555 0.036744 2.2085 -0.23389 -0.06836 -0.22355 -0.053989 -0.15198 -0.17319 0.053355 1.6485 -0.047991 -0.085311 -0.15712 -0.64425 -0.39819 0.278 0.15364 0.031678 0.055414 0.015939 0.31851 -0.058979 0.038584 0.1077 0.1041 -0.077346 0.37396 -0.21482 0.3832 -0.27737 -0.18352 -0.83838 0.34124 0.58164 0.18543 -0.31028 0.17666 -0.069421 -0.34422 -0.13665 -0.10823 0.23637 -0.32923 0.61348 0.1972 0.087123 0.10785 0.3073 0.13757 0.30809 0.24331 -0.29422 -0.0098214 0.55675 -0.04888 0.099468 0.30543 -0.37597 -0.19525 0.046246 -0.036675 0.34023 0.14905 0.0978 -0.26664 0.056834 -0.043201 -0.23338 0.13111 -0.35742 -0.3607 0.30997 -0.19727 -0.1432 -0.16747 0.00042435 -0.1512 0.067562 -0.38644 0.025349 0.24918 -0.23955 -0.15615 0.49868 0.0082758 -0.1912 -0.14906 0.48757 -0.015281 0.010196 0.37642 -0.01946 -0.27835 0.16355 -0.24127 -0.21405 -0.21562 -0.79697 0.34321 0.093209 0.073977 -0.27147 0.20539 0.15061 0.020734 0.11267 0.028714 0.2967 -0.21267 0.43214 0.12788 0.29249 0.19056 -0.29113 -0.11382 -0.038242 -0.2029 0.18301 -0.16661 -0.27116 0.0012685 0.071704 -0.18583 0.08985 -0.039895 0.39479 0.0053211 -0.00061548 -0.27082 -0.089782 -0.2879 -0.14865 -1.3746 0.16515 0.20598 0.15252 0.034723 -0.38531 -0.094574 -0.19871 0.50239 -0.28702 -0.088727 0.056881 0.13634 0.19034 -0.19353 0.40506 -0.19317 0.22908 0.10055 -0.26895 -0.034727 -0.08401 0.057806 0.011076 -0.043349 -0.26917 -0.19333 0.22181 0.26123 -0.11761 0.10092 -0.15078 0.47153 0.11253 -0.26749 -0.038785 -0.03652 -0.089248 -0.24427 -0.041381 -0.021785 -0.35738 -0.063409 -0.53983 -0.010112 0.00041238 -0.097049 0.42628 -0.21349 -0.41055 -0.2494 -0.033571 -0.4954 0.15557 0.19882 0.10498 -0.24372 0.11429 -0.039279 -0.36258 0.10318 0.129 -0.41785 -0.041607 0.33522 0.073186 0.13362 0.010812 0.052645 0.18801 -0.30185 0.20333 -0.32258 -0.24673 0.21124 0.79132 -0.41539 0.3622 0.099852 -0.035378 -0.0419 -0.13851 -0.063255 0.13635 0.090863 -0.3994 0.099062 0.3221 -0.12256 -0.085906 -0.10218 0.2635 -0.18689 -0.1856 -0.43923 -0.325 -0.1991 0.17831 -0.27283 0.33473 0.082382 0.12825 0.39275 -0.034929 0.16148 -0.026713 0.40129 -0.39503 -0.064823 -0.08982 -0.066592 -0.34537 0.046283 0.36837 -0.024573 0.32213 0.30641 -0.28112 0.0066449 0.087743 -0.03417 0.60373 0.4212 -0.073349 0.26682 -0.1586 0.23765 -0.0062604 0.15236 -0.23409 0.31634 -0.08786 -0.15747 -0.24955 -0.18766 -0.096743 -0.27994 -0.24334 0.32643 0.29906 0.42763 0.22266 -0.17464 -0.019916 -0.31206 -0.34009 -0.14993 -0.28818 0.1475 -0.040503 -0.10347 0.0033634 0.2176 -0.20409 0.092415 0.080421 -0.061246 -0.30099 -0.14584 0.28188\n",
            "in 0.089187 0.25792 0.26282 -0.029365 0.47187 -0.10389 -0.10013 0.08123 0.20883 2.5726 -0.67854 0.036121 0.13085 0.0012462 0.14769 0.26926 0.37144 1.3501 -0.11326 -0.23036 -0.26575 -0.18077 0.092455 -0.16215 0.15003 -0.34547 0.072295 0.40659 0.010021 -0.0079257 -0.11435 0.017008 -0.29789 0.19079 0.37112 -0.26588 0.16212 0.065469 -0.31781 -0.03226 0.081969 0.3445 -0.17362 -0.35745 0.054487 0.39941 0.13699 -0.022066 0.11025 -0.41898 0.1276 -0.095869 -0.17944 -0.17443 0.27302 -0.19464 0.26747 -0.28241 0.1638 -0.11518 0.013196 -0.10616 -0.36093 0.023634 0.13464 0.021652 -0.27094 -0.018737 0.10017 0.36071 -0.093951 0.47634 0.12874 0.0011868 0.1377 -0.14034 -0.1887 -0.16405 -0.15349 0.32347 -0.17616 0.3523 -0.023531 -0.19121 -0.054809 -0.099521 -0.30056 0.36632 -0.21509 0.074123 -0.20267 0.1286 -0.38111 -0.025482 0.45103 0.088633 0.36288 -0.23406 -0.086024 -0.50604 0.034242 0.43998 -0.083023 -0.11969 0.68686 -0.34115 0.21228 0.40039 0.26367 -0.37144 0.16206 -0.42854 0.078658 -0.2905 0.21727 -0.27484 0.35887 0.27055 -0.11326 -0.14848 -0.0050659 -0.076862 0.078621 -0.24922 0.42026 -0.069698 0.071595 0.0071665 0.27473 -0.15664 0.25713 -0.058461 -0.29733 -0.090996 0.5246 0.14889 -0.20883 -0.13004 -0.20022 0.4503 -0.34654 -0.26007 0.35247 -0.34757 0.033738 0.19907 -0.32912 -0.084689 0.65319 0.20954 0.079274 0.1086 0.0026466 -0.12843 -0.22811 0.051501 -0.27429 0.14505 -0.1843 -0.34825 -0.11701 0.34034 0.075848 0.08239 -0.39188 -0.022312 -0.080373 0.14477 0.29701 -0.10523 0.092893 0.029813 -0.11761 0.16308 0.098382 0.46152 -0.162 -0.2456 0.20293 -0.11344 0.057902 -0.19528 -0.20141 -0.22874 -0.014101 0.2637 -0.10028 -0.051896 0.18859 -0.17767 -0.11556 0.121 0.17303 0.11773 0.034837 0.28485 -0.30447 0.061024 -0.26442 -0.081135 -0.044524 -0.036931 -0.15217 0.29175 0.44926 -0.28875 0.33193 -0.01242 -0.18805 -0.19832 -0.19736 0.26893 0.11106 -0.67383 -0.1518 -0.16615 -0.16563 0.0093671 -0.15945 -0.33468 0.22038 -0.16724 -0.1535 -0.61782 -0.17258 0.088928 0.019411 0.18296 0.32967 -0.0024906 -0.09208 0.514 0.0042484 -0.084377 -0.71448 -0.22148 -0.04835 0.043761 -0.29376 -0.22287 0.18001 0.072197 0.46499 0.056466 0.40844 -0.23641 -0.038946 0.087363 -0.21901 -0.3231 -0.19989 -0.3128 -0.067656 -0.22596 0.090926 0.28365 0.31462 0.46082 -0.024871 -0.14605 0.30454 0.17704 -0.011311 0.26807 -0.032461 -0.16644 -0.15313 -0.20426 -0.3082 -0.2459 0.085848 -0.11767 -0.063056 -0.18133 -0.18629 -0.17694 0.29618 0.35987 0.0020102 0.38616 0.36712 -0.055112 -0.34733 -0.072678 -0.051119 -0.29069 0.053598 0.019587 0.16808 -0.27456 -0.097179 -0.054541 0.19229 -0.48128 -0.20304 0.19368 -0.32546 0.14421 -0.169 0.26501\n",
            "\" -0.075242 0.57337 -0.31908 -0.18484 0.88867 -0.27381 0.077588 0.13905 -0.47746 1.4442 -0.56159 0.085829 0.27504 0.1567 0.088067 0.038404 0.13146 0.80903 -0.16476 -0.26437 -0.25213 -0.10082 0.23976 -0.0017618 -0.14791 -0.042768 0.087014 0.4747 -0.0018207 -0.38313 -0.18743 -0.17626 -0.31186 0.11831 0.23195 -0.19336 -0.54827 -0.11649 -0.23389 -0.04854 -0.31656 0.04927 0.0074875 -0.3366 0.39277 -0.25234 -0.24983 0.19855 -0.038369 -0.13467 -0.11403 0.37989 -0.16665 -0.090585 0.22177 0.28434 0.25214 -0.03522 -0.0362 0.092851 -0.1177 -0.1239 0.75229 -0.33378 0.27406 -0.14008 0.12932 -0.081124 -0.23386 0.53654 0.45947 -0.14284 0.080147 0.12924 -0.24142 -0.50243 -0.16263 0.22523 0.528 0.089438 0.010835 -0.15715 -0.49085 -0.30451 -0.06281 -0.033262 -0.34762 -0.61321 0.12422 0.52602 -0.14759 -0.29829 -0.28189 -0.075447 -0.52833 0.20302 -0.36833 -0.095067 0.49005 -0.28781 -0.15406 0.2827 -0.085221 -0.24289 -0.22717 0.71889 -0.32832 0.1002 0.20946 0.59244 -0.41214 0.62329 -0.026238 -0.17192 0.49179 -0.0016847 -0.11607 -0.24131 0.11644 -0.1921 0.03934 -0.084155 -0.0996 0.022975 -0.31975 -0.050044 0.52722 0.2252 0.016595 0.20643 -0.0098633 0.31594 -0.078281 0.12947 -0.062864 0.52739 -0.09028 0.14762 0.043752 0.41388 -1.2517 0.16028 0.029431 0.37164 -0.14389 -0.090422 0.33523 0.65587 0.029611 -0.31848 0.15365 0.080007 -0.30963 -0.082044 0.25966 0.070255 -0.56391 -0.70405 -0.16871 0.025228 -0.31917 0.095542 0.03875 -0.27151 -0.45413 -0.27367 0.15582 -0.23491 0.017226 -0.12817 0.19779 -0.070536 -0.46543 -0.30177 0.126 0.28083 0.27455 -0.097111 -0.097692 -0.49537 -0.34073 -0.22939 -0.14542 0.036665 -0.71022 0.3501 -0.23481 0.73786 -0.1357 -0.15819 -0.25091 0.1612 -0.17855 0.19617 0.13535 0.29201 -0.33659 -0.34374 0.022833 0.72946 -0.14079 -0.23412 -0.23124 0.043603 -0.14916 -0.13349 0.26499 -0.072018 0.26515 -0.11531 -0.049195 -0.3157 0.16259 -0.21417 0.26391 0.19793 -0.14555 0.1195 -0.6928 -0.50451 0.21449 0.49722 -0.15937 0.07369 0.28543 -0.16188 0.043208 0.089521 -0.061378 0.005429 0.23594 -0.16455 0.6693 -0.68702 -0.02823 0.30058 -0.053056 -0.35263 -0.21279 0.2776 -0.067762 0.045954 0.23585 -0.18751 0.13449 -0.10923 -0.010326 -0.3995 -0.44222 0.0080668 0.094805 -0.10209 -0.17181 -0.15658 -0.12305 0.61632 0.050099 0.018423 -0.204 0.090514 0.19061 0.022614 0.28797 0.14858 0.18576 -0.025255 -0.061938 -0.20647 0.43831 -0.16193 0.013259 -0.40052 -0.20146 -0.42659 0.38983 -0.084942 0.13971 0.011352 0.025489 0.25282 -0.10832 -0.081995 0.29953 -0.22407 -0.11489 -0.37855 -0.52748 -0.17067 0.16029 0.29872 -0.035604 -0.022669 0.42531 0.063414 0.36213 -0.2128 -0.22615 0.328 -0.10934 -0.37948\n",
            ": 0.008746 0.33214 -0.29175 -0.15119 -0.41842 -0.23931 -0.23458 -0.055618 -0.09896 0.75175 -0.66615 -0.10734 0.021663 -0.12194 0.022265 0.029731 0.036949 1.3326 -0.10886 -0.22681 -0.28436 0.021524 0.22749 -0.093169 -0.11529 0.51138 0.13868 -0.10885 -0.11482 -0.0074179 0.16234 0.0082633 -0.0023698 -0.39662 0.29591 0.22499 -0.46529 0.40232 0.027284 0.14321 0.034624 0.36936 -0.37351 0.22866 -0.29724 0.28951 -0.44012 0.47265 -0.070029 0.54446 0.30543 0.28181 0.063914 -0.30986 -0.40254 -0.032463 -0.39762 0.45387 0.075187 0.068059 0.12686 0.056289 0.29042 0.2362 0.34559 -0.14253 -0.016066 -0.058892 0.22277 0.31318 -0.37625 -0.044296 -0.017026 0.14938 0.87661 0.30364 -0.57488 -0.075509 -0.14493 0.16592 -0.67818 0.45022 -0.23441 -0.077216 0.32643 -0.1757 -0.0067939 -0.51045 0.56891 0.16143 0.18519 0.037305 -0.4579 -0.12869 0.19132 -0.38693 -0.1352 0.050239 0.36475 -0.061642 -0.181 -0.19424 0.46758 -0.25859 0.00027713 1.8061 -0.031111 -0.253 -0.043878 0.33484 0.21194 -0.16946 -0.012677 0.10138 -0.067128 0.2808 0.16923 -0.30368 -0.36514 0.18905 -0.36382 0.25917 0.18678 -0.054908 -0.068399 -0.083712 0.56264 -0.058912 -0.11257 -0.47151 0.62617 0.16101 0.17465 0.29054 -0.17968 0.17995 -0.28868 0.14772 -0.15869 0.12875 -0.050562 0.12813 0.018328 0.087067 -0.42093 0.26649 0.033762 0.46031 0.091036 -0.23591 0.37056 0.061394 -0.1232 -0.3872 0.31078 -0.40397 0.21185 0.14069 -0.32281 0.052793 -0.34045 -0.75221 -0.063703 0.094202 -0.45663 -0.53987 0.48825 -0.18757 -0.19803 0.40647 -0.24817 0.22975 0.21493 -0.48105 0.20716 0.32023 0.63723 -0.069866 0.3692 -0.15806 0.15572 0.36047 -0.010431 -0.27427 -0.087574 -0.37989 -0.1767 0.13558 0.056266 0.10345 -0.40615 0.11801 -0.32919 0.14333 -0.30102 -0.10898 -0.25298 0.33375 0.27642 0.71642 -0.091013 -0.002913 -0.19669 -0.39123 -0.056526 -0.1143 -0.28571 0.17814 -0.038271 -0.19628 -0.0057383 -0.68218 0.55404 -0.31276 -0.11263 -0.16157 -0.40151 0.40366 -0.21163 0.13927 0.32245 0.65676 0.039262 0.1051 -0.40708 -0.061696 0.30114 0.14276 0.24082 -0.29747 0.047918 0.3043 -0.15456 -0.27875 -0.39602 0.26501 -0.19017 0.054386 0.31772 0.44834 0.18064 -0.27069 0.15007 -0.037164 0.35867 0.25197 -0.42951 -0.080519 0.18769 0.35934 -0.12622 -0.034525 -0.44941 -0.27189 0.1923 0.3202 0.085719 -0.31613 0.12747 0.41687 -0.033986 0.16322 0.093101 0.012885 -0.13576 -0.50731 0.34072 0.01102 0.33894 0.043664 -0.22551 0.067386 -0.0061831 -0.10494 0.059349 0.43297 0.55025 0.30155 -0.1616 0.18268 -0.27236 -0.027163 0.61137 0.0027296 0.13913 0.051779 -0.19778 -0.03439 -0.088886 -0.096511 0.33936 -0.041628 -0.5592 0.22176 -0.41515 0.70059 -0.21371 -0.28677 -0.22663 -0.05087\n"
          ]
        }
      ],
      "source": [
        "#look at the format of the file\n",
        "!head glove.840B.300d.txt"
      ]
    },
    {
      "cell_type": "markdown",
      "metadata": {
        "id": "JFe9SkOcYugK"
      },
      "source": [
        "#### Get Glove embeddings\n",
        "In this section we want to populate the `glove` dictionary with a mapping of word to the embedding. Remember: the embedding should be an `np.array` of type `np.float` The glove dictionary should only have words that are present in the train vocabulary. \n",
        "\n",
        "\n",
        "Hint: \n",
        " \n",
        "\n",
        "For getting the word and corresponding embedding from the glove file, remember refer to the above structure of the word to embedding mapping."
      ]
    },
    {
      "cell_type": "code",
      "execution_count": 29,
      "metadata": {
        "id": "4RNiORwiYTzi"
      },
      "outputs": [],
      "source": [
        "#takes about 1 minute to read through the whole file and find the words we need. \n",
        "def get_glove_mapping(vocab, file):\n",
        "    \"\"\"\n",
        "    Gets the mapping of words from the vocabulary to pretrained embeddings\n",
        "    \n",
        "    INPUT:\n",
        "    vocab       - set of vocabulary words\n",
        "    file        - file with pretrained embeddings\n",
        "\n",
        "    OUTPUT:\n",
        "    glove_map   - mapping of words in the vocabulary to the pretrained embedding\n",
        "    \n",
        "    \"\"\"\n",
        "    \n",
        "    glove_map = {}\n",
        "    with open(file,'rb') as fi:\n",
        "        for l in fi:\n",
        "            try:\n",
        "                #### STUDENT CODE HERE ####\n",
        "                words = l.split()\n",
        "                word = words[0].decode('UTF-8')\n",
        "                if word in vocab:\n",
        "                  vectors = np.asarray(words[1:], 'float32')\n",
        "                  glove_map[word] = vectors\n",
        "                #### STUDENT CODE ENDS HERE ####\n",
        "            except:\n",
        "                #some lines have urls, we don't need them.\n",
        "                pass\n",
        "    return glove_map"
      ]
    },
    {
      "cell_type": "code",
      "execution_count": 30,
      "metadata": {
        "id": "kYettRoymWTz"
      },
      "outputs": [],
      "source": [
        "vocab_set = set(ds.vocab.ordered_words())\n",
        "glove_map = get_glove_mapping(vocab_set,glove_file)"
      ]
    },
    {
      "cell_type": "code",
      "execution_count": 31,
      "metadata": {
        "id": "2K5Mm5a2bpda"
      },
      "outputs": [],
      "source": [
        "def test_glove_embedding(glove_map):\n",
        "    assert(len(glove_map.keys()) == 15505)\n",
        "    assert(\"November\" not in glove_map.keys())\n",
        "\n",
        "if NOTEBOOK:\n",
        "    test_glove_embedding(glove_map)"
      ]
    },
    {
      "cell_type": "code",
      "execution_count": 32,
      "metadata": {
        "colab": {
          "base_uri": "https://localhost:8080/"
        },
        "id": "nGPjrf8rd__p",
        "outputId": "5decbdbf-5edd-4d24-b05d-9020df460582"
      },
      "outputs": [
        {
          "output_type": "stream",
          "name": "stdout",
          "text": [
            "Correct! You earned 2/2 points. You are a star!\n",
            "\n",
            "Your submission has been successfully recorded in the gradebook.\n"
          ]
        }
      ],
      "source": [
        "# PennGrader Grading Cell\n",
        "if NOTEBOOK:\n",
        "    grader.grade(test_case_id = 'test_glove_embedding', answer = list(glove_map.keys()))"
      ]
    },
    {
      "cell_type": "markdown",
      "metadata": {
        "id": "HoZuTVB9mcZb"
      },
      "source": [
        "#### Dimensions required for the weight matrix\n",
        "\n",
        "Fill in the dimensions required for weight matrix"
      ]
    },
    {
      "cell_type": "code",
      "execution_count": 33,
      "metadata": {
        "id": "djhLc9X_Z2E0"
      },
      "outputs": [],
      "source": [
        "d_out = len(ds.target_names)  #number of outputs\n",
        "n_embed = ds.vocab.size #size of the dictionary of embeddings\n",
        "d_embed = 300 # the size of each embedding vector\n",
        "dims =(d_out,n_embed,d_embed)"
      ]
    },
    {
      "cell_type": "code",
      "execution_count": 34,
      "metadata": {
        "id": "Qr6jSgYPdJeM"
      },
      "outputs": [],
      "source": [
        "def test_dimensions(dims):\n",
        "    d_out,n_embed,d_embed = dims \n",
        "    assert(n_embed == 16474)\n",
        "    assert(d_out == 2)\n",
        "    assert(d_embed == 300)\n",
        "    \n",
        "if NOTEBOOK:\n",
        "    test_dimensions(dims)"
      ]
    },
    {
      "cell_type": "code",
      "execution_count": 35,
      "metadata": {
        "colab": {
          "base_uri": "https://localhost:8080/"
        },
        "id": "K3g0z7Y7e0MA",
        "outputId": "418559e8-04f9-4c8a-a759-2e329d0d5008"
      },
      "outputs": [
        {
          "output_type": "stream",
          "name": "stdout",
          "text": [
            "Correct! You earned 1/1 points. You are a star!\n",
            "\n",
            "Your submission has been successfully recorded in the gradebook.\n"
          ]
        }
      ],
      "source": [
        "# PennGrader Grading Cell\n",
        "if NOTEBOOK:\n",
        "    grader.grade(test_case_id = 'test_dimensions', answer = dims)"
      ]
    },
    {
      "cell_type": "markdown",
      "metadata": {
        "id": "ct2rwpFxlytq"
      },
      "source": [
        "#### Initializing the weight matrix\n",
        "\n",
        "Create a weight_matrix for the parameters to be learnt. Initialize the weight matrix for a particular id with the glove embedding for the same id. If you do not find a particular word, initialize the weight matrix with `np.random.normal`\n",
        "\n",
        "Hint: `ds.vocab.ordered_words()` can give you the mapping of id to words. `glove` has the embeddings you need."
      ]
    },
    {
      "cell_type": "code",
      "execution_count": 36,
      "metadata": {
        "id": "MMIZjt4HYuJB"
      },
      "outputs": [],
      "source": [
        "def get_weight_matrix(n_embed, d_embed, glove_map):\n",
        "    \"\"\"\n",
        "    Initialize the weight matrix\n",
        "    \n",
        "    INPUT:\n",
        "    n_embed         - size of the dictionary of embeddings\n",
        "    d_embed         - the size of each embedding vector\n",
        "\n",
        "    OUTPUT:\n",
        "    weights_matrix  - matrix of mapping from word id to embedding \n",
        "    \n",
        "    \"\"\"\n",
        "    #### STUDENT CODE HERE ####\n",
        "    weights_matrix = np.zeros((n_embed, d_embed))\n",
        "    for i, word in enumerate(ds.vocab.ordered_words()):\n",
        "      if word in glove_map.keys():\n",
        "        weights_matrix[i] = glove_map[word]\n",
        "      else:\n",
        "        weights_matrix[i] = np.random.normal()\n",
        "    #### STUDENT CODE ENDS HERE ####\n",
        "    return weights_matrix"
      ]
    },
    {
      "cell_type": "code",
      "execution_count": 37,
      "metadata": {
        "id": "rotHEiIqm2sV"
      },
      "outputs": [],
      "source": [
        "weights_matrix = get_weight_matrix(n_embed, d_embed, glove_map)\n",
        "weight_data = (weights_matrix.shape, weights_matrix[:155])"
      ]
    },
    {
      "cell_type": "code",
      "execution_count": 38,
      "metadata": {
        "id": "H-Na6gvrdoMN"
      },
      "outputs": [],
      "source": [
        "def test_weight_matrix(weight_data):\n",
        "    mat1 = [-0.18994 ,  0.11016 , -0.46874 ,  0.24375 ,  0.18241 ,  0.2649  ,\n",
        "       -0.025122, -0.58228 , -0.23545 ,  0.20763 ]\n",
        "    shape = (16474, 300)\n",
        "    for i in range(0,10):\n",
        "        if abs(mat1[i] - weight_data[1][150][200+i])>= 0.002:\n",
        "            assert(mat1[i] != weight_data[1][150][200+i])\n",
        "        if shape != weight_data[0]:\n",
        "            assert(shape != weight_data[0])\n",
        "\n",
        "if NOTEBOOK:\n",
        "    test_weight_matrix(weight_data)"
      ]
    },
    {
      "cell_type": "code",
      "execution_count": 39,
      "metadata": {
        "colab": {
          "base_uri": "https://localhost:8080/"
        },
        "id": "2NHXsYBHgxya",
        "outputId": "e70ae6f9-f933-4f01-d483-e628799ffc41"
      },
      "outputs": [
        {
          "output_type": "stream",
          "name": "stdout",
          "text": [
            "Correct! You earned 2/2 points. You are a star!\n",
            "\n",
            "Your submission has been successfully recorded in the gradebook.\n"
          ]
        }
      ],
      "source": [
        "# PennGrader Grading Cell\n",
        "if NOTEBOOK:\n",
        "    grader.grade(test_case_id = 'test_weight_matrix', answer = weight_data)"
      ]
    },
    {
      "cell_type": "markdown",
      "metadata": {
        "id": "Z6rGLI6jm-0g"
      },
      "source": [
        "#### Creating Embedding Layer\n",
        "Use the weight matrix to create the embedding layer by using `nn.Embedding`."
      ]
    },
    {
      "cell_type": "code",
      "execution_count": 81,
      "metadata": {
        "id": "4XGB1pAabQAf"
      },
      "outputs": [],
      "source": [
        "def create_emb_layer(weights_matrix, non_trainable=False):\n",
        "    \"\"\"\n",
        "    Create the embedding layer\n",
        "    \n",
        "    INPUT:\n",
        "    weights_matrix  - matrix of mapping from word id to embedding\n",
        "    non_trainable   - Flag for whether the weight matrix should be trained. \n",
        "                      If it is set to True, don't update the gradients\n",
        "\n",
        "    OUTPUT:\n",
        "    emb_layer       - embedding layer \n",
        "    \n",
        "    \"\"\"\n",
        "    #### STUDENT CODE HERE ####\n",
        "    num_embeddings, embedding_dim = weights_matrix.shape\n",
        "    emb_layer = nn.Embedding(num_embeddings, embedding_dim)\n",
        "    emb_layer.load_state_dict({'weight': torch.from_numpy(weights_matrix)})\n",
        "    if non_trainable:\n",
        "      emb_layer.weight.requires_grad = False\n",
        "    #### STUDENT CODE ENDS HERE ####\n",
        "\n",
        "    return emb_layer"
      ]
    },
    {
      "cell_type": "markdown",
      "metadata": {
        "id": "FI5HX8dGNQyR"
      },
      "source": [
        "#### Defining the Dataloader "
      ]
    },
    {
      "cell_type": "markdown",
      "metadata": {
        "id": "v2Z4YahqYBBw"
      },
      "source": [
        "For the ease of batch processing, we are defining the following to use the functionality of the Dataloader in Pytorch. \n",
        "\n",
        "Note: The process of creating a mask for the word dropout."
      ]
    },
    {
      "cell_type": "code",
      "execution_count": 41,
      "metadata": {
        "id": "tOubHTzb8CS2"
      },
      "outputs": [],
      "source": [
        "class SSTpytorchDataset(Dataset):\n",
        "    def __init__(self, sst_ds, word_dropout = 0.3, split='train'):\n",
        "        super(SSTpytorchDataset, self).__init__()\n",
        "        assert split in ['train', 'test', 'dev'], \"Error!\"\n",
        "        self.ds = sst_ds\n",
        "        self.split = split\n",
        "        self.word_dropout = word_dropout\n",
        "        self.data_x, self.data_ns, self.data_y = self.ds.as_padded_array(split,is_root =is_root)\n",
        "        self.mask = np.zeros_like(self.data_x)\n",
        "\n",
        "    def __len__(self):\n",
        "        return self.data_x.shape[0]\n",
        "    \n",
        "    def __getitem__(self, idx):\n",
        "        if torch.is_tensor(idx):\n",
        "            idx = idx.tolist()\n",
        "        y = 2\n",
        "        if self.split != 'test':\n",
        "            y = self.data_y[idx]\n",
        "\n",
        "        #Returning the mask for the dataloader\n",
        "\n",
        "        mask = np.zeros(len(self.data_x[idx]))\n",
        "        sentl = self.data_ns[idx]\n",
        "        total_dropped = 0\n",
        "        for j in range(0,sentl):\n",
        "            mask[j] = 1\n",
        "            if self.split == 'train': \n",
        "                rv = random.random()\n",
        "                if rv  < self.word_dropout: \n",
        "                    mask[j] = 0 \n",
        "                    total_dropped+=1\n",
        "        if total_dropped >= sentl: \n",
        "            mask[0] = 1\n",
        "        for i in range(sentl,len(self.data_x[idx])):\n",
        "            mask[i] = 0\n",
        "        self.mask[idx] = mask        \n",
        "        return self.data_x[idx], self.data_ns[idx], self.mask[idx], y\n",
        "        "
      ]
    },
    {
      "cell_type": "markdown",
      "metadata": {
        "id": "uKlnbGShNCDV"
      },
      "source": [
        "### 1.2.2 Training [TODO: 20 pts]"
      ]
    },
    {
      "cell_type": "markdown",
      "metadata": {
        "id": "QnSMLJcrsYC0"
      },
      "source": [
        "####  Masked Averaging\n",
        "\n",
        "In this section, you will need to compute the average word embedding of tokens in the input. One complication is that sentences come in different lengths, and we will need to keep track of this to correctly average. \n",
        "\n",
        "When a sentence is input into our network, it is mapped to list of token ids, up to some maximum length. We construct a matrix, M, where each row corresponds to a sentence, and entries correspond to integers representing tokens. Some sentences are, of course, shorter than this maximum length. For these sentences, we fill in the remaining elements of M with a pad index, up to the max length. This is a special pad index indicating we are beyond the end of a sentence. The dataloader takes care of this for you. When averaging, we need to ignore these elements. \n",
        "\n",
        "Irrespective of if a token is pad or a real token, the first step is to look up an embedding for the index in our embedding table (the first line of the forward method). At this point we will have retrieved some vectors that correspond to the pad tokens as well. We need to ignore these, and only average vectors that correspond to non-pad symbols. \n",
        "\n",
        "To help do so, often NLP applications will introduce a mask as part of the input. The mask is a binary vector for every sentence, where each position encodes whether the token is really from the sentence, or instead should be ignored. The shape of the mask is batch_size by maximum_length. Again, the dataloader has taken care of this for you. Your job will be to use this mask to ignore the embeddings components we don't want to average over.\n",
        "\n",
        "You have to perform the following steps:\n",
        "\n",
        "1. Change the view of the mask so it extends to the embeddings size. It started batch_size by maximum_length, but we need it to be batch_size by max_length by embed_dimension. The expand function will help.\n",
        "2. Pointwise multiply the expanded mask with the embeddings, to eliminate the tokens that aren't in the mask, and sum the rest (this is the `numerator` of our average). Remeber the mask is a binary vector, so the zeros correspond to elements we don't want in our average. The output of this sum should be batch_size by embed_dimension.\n",
        "4. Calculate the number of words in each sentence (this is the `denominator` of our average)\n",
        "3. return `x = numerator/denoninator` , the average\n",
        "\n",
        "Note: You can look at [expand](https://pytorch.org/docs/stable/generated/torch.Tensor.expand.html) in pytorch. "
      ]
    },
    {
      "cell_type": "markdown",
      "metadata": {
        "id": "M0aq_l_f4xiv"
      },
      "source": [
        "#### Defining the architecture for Deep Averaging Networks"
      ]
    },
    {
      "cell_type": "code",
      "execution_count": 42,
      "metadata": {
        "id": "1q7oqyrCP8fK"
      },
      "outputs": [],
      "source": [
        "import random as random\n",
        "\n",
        "class DAN(nn.Module):\n",
        "\n",
        "    def __init__(self,\n",
        "                 n_embed=20000,\n",
        "                 d_embed=300,\n",
        "                 d_hidden=100,\n",
        "                 d_out=2,\n",
        "                 layer_dropout = 0.2,\n",
        "                 word_dropout = 0.3,\n",
        "                 embeddings=None,\n",
        "                 depth = 0):\n",
        "        super(DAN, self).__init__()\n",
        "\n",
        "        self.device = torch.device('cuda' if torch.cuda.is_available() else 'cpu')\n",
        "        self.embed = create_emb_layer(weights_matrix,False)\n",
        "\n",
        "        self.fc_out = nn.Linear(d_hidden, d_out)\n",
        "        self.word_dropout = word_dropout\n",
        "\n",
        "    def masked_mean(self,v, mask):\n",
        "        \"\"\"\n",
        "        Create the masked mean\n",
        "        \n",
        "        INPUT:\n",
        "        v       - input\n",
        "        mask    - mask that has 0 and 1 for all the tokens in the input\n",
        "                  0 corresponds to a token we should not include in the average and 1 otherwise\n",
        "\n",
        "        OUTPUT:\n",
        "        x       - average  \n",
        "        \n",
        "        \"\"\"\n",
        "        (batch, max_sent, d_embed ) = v.size() #these values we will be useful for expanding the mask      \n",
        "        #### STUDENT CODE HERE ####\n",
        "        # 1. Change the view of the mask so it extends to the embeddings size. \n",
        "        #   It started batch_size by maximum_length, but we need it to be batch_size by max_length by embed_dimension. \n",
        "        expanded_mask = mask.unsqueeze_(-1).expand(batch, max_sent, d_embed)\n",
        "\n",
        "        # 2. Pointwise multiply the expanded mask with the embeddings, (this is the numerator of our average). \n",
        "        #   The output of this sum should be batch_size by embed_dimension.\n",
        "        numerator = torch.sum(torch.mul(v, expanded_mask), dim=1)\n",
        "\n",
        "        # 3. Calculate the number of words in each sentence (this is the denominator of our average)\n",
        "        denominator = torch.sum((expanded_mask == 1), dim=1)\n",
        "\n",
        "        # 4. return x = numerator/denoninator , the average\n",
        "        x = numerator/denominator\n",
        "        #### STUDENT CODE ENDS HERE ####\n",
        "        return x\n",
        "\n",
        "    def forward(self, text_ids, mask):\n",
        "        embeddings = self.embed(text_ids) #this is a matrix of embeddings, one for each id, of size batch_size X max_sent_size X embedding dimension\n",
        "        avg = self.masked_mean(embeddings,mask) #should return the average of the embeddings, ignoring the embeddings corresponding to the pad token\n",
        "        output = self.fc_out(avg) #final classification layer\n",
        "        return output"
      ]
    },
    {
      "cell_type": "markdown",
      "metadata": {
        "id": "JmdzEvd2Nc2M"
      },
      "source": [
        "#### Training Loop"
      ]
    },
    {
      "cell_type": "code",
      "execution_count": 46,
      "metadata": {
        "id": "4MLxfgD7M-aI"
      },
      "outputs": [],
      "source": [
        "criterion = nn.CrossEntropyLoss()\n",
        "\n",
        "batch_size = 64\n",
        "epochs = 3\n",
        "dev_every = 100\n",
        "lr = 0.001\n",
        "save_path = \"best_model\"\n",
        "drop_out = 0\n",
        "word_dropout = 0.01\n",
        "weight_decay = 1e-5"
      ]
    },
    {
      "cell_type": "code",
      "execution_count": 47,
      "metadata": {
        "id": "HK3X1nSxCB8g"
      },
      "outputs": [],
      "source": [
        "\n",
        "def train(lr = .005, drop_out = 0, word_dropout = .3, batch_size = 16, weight_decay = 1e-5,args = None):\n",
        "    if args is not None:\n",
        "      drop_out = args[\"drop_out\"]\n",
        "      drop_out = args[\"drop_out\"]\n",
        "\n",
        "    device = torch.device('cuda' if torch.cuda.is_available() else 'cpu')\n",
        "    trainset = SSTpytorchDataset(ds, word_dropout, 'train')\n",
        "    testset = SSTpytorchDataset(ds, word_dropout, 'test')\n",
        "    devset = SSTpytorchDataset(ds, word_dropout, 'dev')\n",
        "\n",
        "    train_iter = DataLoader(trainset, batch_size, shuffle=True, num_workers=0)\n",
        "    test_iter = DataLoader(testset, batch_size, shuffle=False, num_workers=0)\n",
        "    dev_iter = DataLoader(devset, batch_size, shuffle=False, num_workers=0)\n",
        "    \n",
        "    model = DAN(n_embed=n_embed, d_embed=d_embed, d_hidden=300, d_out=d_out, layer_dropout=drop_out, word_dropout = word_dropout )\n",
        "    model.to(device)\n",
        "\n",
        "    optimizer = optim.AdamW(model.parameters(), lr=lr, weight_decay = weight_decay)\n",
        "\n",
        "\n",
        "    acc, val_loss = evaluate(dev_iter, model, device)\n",
        "    best_acc = acc\n",
        "\n",
        "    print(\n",
        "        'epoch |   %        |  loss  |  avg   |val loss|   acc   |  best  | time | save |')\n",
        "    print(\n",
        "        'val   |            |        |        | {:.4f} | {:.4f} | {:.4f} |      |      |'.format(\n",
        "            val_loss, acc, best_acc))\n",
        "\n",
        "    iterations = 0\n",
        "    last_val_iter = 0\n",
        "    train_loss = 0\n",
        "    start = time.time()\n",
        "    _save_ckp = ''\n",
        "    for epoch in range(epochs):\n",
        "        # train_iter.init_epoch()\n",
        "        n_correct, n_total, train_loss = 0, 0, 0\n",
        "        last_val_iter = 0\n",
        "        for batch_idx, batch in enumerate(train_iter):\n",
        "            # switch model to training mode, clear gradient accumulators\n",
        "            model.train();\n",
        "            optimizer.zero_grad()\n",
        "\n",
        "            iterations += 1\n",
        "\n",
        "            data, ns, mask, label = batch\n",
        "            \n",
        "            data = data.to(device)\n",
        "            label = label.to(device).long()\n",
        "            mask = mask.to(device).long()\n",
        "            mask.requires_grad = False\n",
        "\n",
        "            answer = model(data,mask)\n",
        "            loss = criterion(answer, label)\n",
        "\n",
        "            loss.backward();\n",
        "            optimizer.step()\n",
        "\n",
        "            train_loss += loss.item()\n",
        "            print('\\r {:4d} | {:4d}/{} | {:.4f} | {:.4f} |'.format(\n",
        "                epoch, batch_size * (batch_idx + 1), len(trainset), loss.item(),\n",
        "                       train_loss / (iterations - last_val_iter)), end='')\n",
        "\n",
        "            if iterations > 0 and iterations % dev_every == 0:\n",
        "                acc, val_loss= evaluate(dev_iter, model, device)\n",
        "\n",
        "                if acc > best_acc:\n",
        "                    best_acc = acc\n",
        "                    torch.save(model.state_dict(), save_path)\n",
        "                    _save_ckp = '*'\n",
        "\n",
        "                print(\n",
        "                    ' {:.4f} | {:.4f} | {:.4f} | {:.2f} | {:4s} |'.format(\n",
        "                        val_loss, acc, best_acc, (time.time() - start) / 60,\n",
        "                        _save_ckp))\n",
        "\n",
        "                train_loss = 0\n",
        "                last_val_iter = iterations\n",
        "    model.load_state_dict(torch.load(save_path)) #this will be the best model\n",
        "    test_y_pred = evaluate(test_iter,model, device,\"test\")\n",
        "    print(\"\\nValidation Accuracy : \", evaluate(dev_iter,model, device))\n",
        "    return best_acc, test_y_pred\n"
      ]
    },
    {
      "cell_type": "code",
      "execution_count": 48,
      "metadata": {
        "id": "jaMw5RMINjZd"
      },
      "outputs": [],
      "source": [
        "\n",
        "def evaluate(loader, model, device, split = \"dev\"):\n",
        "    model.eval()\n",
        "    n_correct, n = 0, 0\n",
        "    losses = []\n",
        "    y_pred = []\n",
        "    with torch.no_grad():\n",
        "        for batch_idx, batch in enumerate(loader):\n",
        "            data, ns, mask, label = batch\n",
        "            data = data.to(device)\n",
        "            label = label.to(device).long()\n",
        "            mask = mask.to(device).long()\n",
        "            answer = model(data,mask)\n",
        "            if split != \"test\":\n",
        "                n_correct += (torch.max(answer, 1)[1].view(label.size()) == label).sum().item()\n",
        "                n += answer.shape[0]\n",
        "                loss = criterion(answer, label)\n",
        "                losses.append(loss.data.cpu().numpy())\n",
        "            else:\n",
        "                y_pred.extend(torch.max(answer, 1)[1].view(label.size()).tolist())\n",
        "    if split != \"test\":\n",
        "        acc = 100. * n_correct / n\n",
        "        loss = np.mean(losses)\n",
        "        return acc, loss\n",
        "    else:\n",
        "        return y_pred\n"
      ]
    },
    {
      "cell_type": "markdown",
      "metadata": {
        "id": "tFF_2GQXhqGz"
      },
      "source": [
        "Run this to get the validation accuracy on the dev dataset and the predictions of the test dataset."
      ]
    },
    {
      "cell_type": "code",
      "execution_count": 82,
      "metadata": {
        "colab": {
          "base_uri": "https://localhost:8080/"
        },
        "id": "x7FkX-MDokS7",
        "outputId": "086a70ef-45b0-4341-ab48-8e68eb6888e3"
      },
      "outputs": [
        {
          "output_type": "stream",
          "name": "stdout",
          "text": [
            "epoch |   %        |  loss  |  avg   |val loss|   acc   |  best  | time | save |\n",
            "val   |            |        |        | 0.6832 | 56.5820 | 56.5820 |      |      |\n",
            "    0 | 6400/98794 | 0.4561 | 0.5377 | 0.4638 | 77.6898 | 77.6898 | 0.02 | *    |\n",
            "    0 | 12800/98794 | 0.3843 | 0.4114 | 0.3896 | 84.5153 | 84.5153 | 0.05 | *    |\n",
            "    0 | 19200/98794 | 0.3153 | 0.3534 | 0.3577 | 84.2261 | 84.5153 | 0.07 | *    |\n",
            "    0 | 25600/98794 | 0.2901 | 0.3179 | 0.3386 | 85.5654 | 85.5654 | 0.10 | *    |\n",
            "    0 | 32000/98794 | 0.3087 | 0.2963 | 0.3292 | 85.5654 | 85.5654 | 0.12 | *    |\n",
            "    0 | 38400/98794 | 0.2537 | 0.2883 | 0.3339 | 85.3447 | 85.5654 | 0.14 | *    |\n",
            "    0 | 44800/98794 | 0.2557 | 0.2689 | 0.3227 | 85.2229 | 85.5654 | 0.17 | *    |\n",
            "    0 | 51200/98794 | 0.2444 | 0.2701 | 0.3138 | 86.0904 | 86.0904 | 0.19 | *    |\n",
            "    0 | 57600/98794 | 0.2493 | 0.2556 | 0.3188 | 85.5425 | 86.0904 | 0.21 | *    |\n",
            "    0 | 64000/98794 | 0.2080 | 0.2531 | 0.3159 | 85.4969 | 86.0904 | 0.24 | *    |\n",
            "    0 | 70400/98794 | 0.2204 | 0.2453 | 0.3166 | 85.8089 | 86.0904 | 0.26 | *    |\n",
            "    0 | 76800/98794 | 0.3227 | 0.2551 | 0.3164 | 85.2534 | 86.0904 | 0.28 | *    |\n",
            "    0 | 83200/98794 | 0.1319 | 0.2428 | 0.3142 | 85.8012 | 86.0904 | 0.31 | *    |\n",
            "    0 | 89600/98794 | 0.2186 | 0.2495 | 0.3096 | 85.7404 | 86.0904 | 0.33 | *    |\n",
            "    0 | 96000/98794 | 0.2758 | 0.2498 | 0.3071 | 86.0752 | 86.0904 | 0.36 | *    |\n",
            "    1 | 3584/98794 | 0.2717 | 0.0070 | 0.3057 | 86.5165 | 86.5165 | 0.38 | *    |\n",
            "    1 | 9984/98794 | 0.2764 | 0.1922 | 0.3169 | 85.8393 | 86.5165 | 0.40 | *    |\n",
            "    1 | 16384/98794 | 0.1571 | 0.2009 | 0.3230 | 85.5273 | 86.5165 | 0.43 | *    |\n",
            "    1 | 22784/98794 | 0.1177 | 0.1984 | 0.3186 | 85.6719 | 86.5165 | 0.45 | *    |\n",
            "    1 | 29184/98794 | 0.2447 | 0.1853 | 0.3166 | 85.9534 | 86.5165 | 0.47 | *    |\n",
            "    1 | 35584/98794 | 0.1814 | 0.1980 | 0.3289 | 85.4436 | 86.5165 | 0.50 | *    |\n",
            "    1 | 41984/98794 | 0.2119 | 0.1983 | 0.3207 | 86.0219 | 86.5165 | 0.52 | *    |\n",
            "    1 | 48384/98794 | 0.0895 | 0.1935 | 0.3236 | 85.6491 | 86.5165 | 0.54 | *    |\n",
            "    1 | 54784/98794 | 0.2379 | 0.1981 | 0.3260 | 85.5730 | 86.5165 | 0.57 | *    |\n",
            "    1 | 61184/98794 | 0.1529 | 0.1904 | 0.3286 | 85.5730 | 86.5165 | 0.59 | *    |\n",
            "    1 | 67584/98794 | 0.1759 | 0.1848 | 0.3251 | 85.7252 | 86.5165 | 0.61 | *    |\n",
            "    1 | 73984/98794 | 0.1728 | 0.1782 | 0.3261 | 86.1437 | 86.5165 | 0.64 | *    |\n",
            "    1 | 80384/98794 | 0.1588 | 0.1968 | 0.3242 | 86.1969 | 86.5165 | 0.66 | *    |\n",
            "    1 | 86784/98794 | 0.1935 | 0.1926 | 0.3224 | 85.9382 | 86.5165 | 0.68 | *    |\n",
            "    1 | 93184/98794 | 0.1333 | 0.1856 | 0.3292 | 85.5349 | 86.5165 | 0.71 | *    |\n",
            "    2 |  768/98794 | 0.2098 | 0.0007 | 0.3251 | 86.0219 | 86.5165 | 0.73 | *    |\n",
            "    2 | 7168/98794 | 0.1293 | 0.1478 | 0.3284 | 86.0600 | 86.5165 | 0.75 | *    |\n",
            "    2 | 13568/98794 | 0.0918 | 0.1509 | 0.3275 | 86.2045 | 86.5165 | 0.78 | *    |\n",
            "    2 | 19968/98794 | 0.1618 | 0.1608 | 0.3421 | 85.4360 | 86.5165 | 0.80 | *    |\n",
            "    2 | 26368/98794 | 0.1238 | 0.1581 | 0.3471 | 85.2458 | 86.5165 | 0.82 | *    |\n",
            "    2 | 32768/98794 | 0.1603 | 0.1536 | 0.3626 | 85.0403 | 86.5165 | 0.86 | *    |\n",
            "    2 | 39168/98794 | 0.1522 | 0.1720 | 0.3543 | 85.0175 | 86.5165 | 0.89 | *    |\n",
            "    2 | 45568/98794 | 0.2438 | 0.1433 | 0.3534 | 85.2229 | 86.5165 | 0.91 | *    |\n",
            "    2 | 51968/98794 | 0.1029 | 0.1614 | 0.3561 | 85.3143 | 86.5165 | 0.93 | *    |\n",
            "    2 | 58368/98794 | 0.1294 | 0.1668 | 0.3501 | 85.8012 | 86.5165 | 0.96 | *    |\n",
            "    2 | 64768/98794 | 0.1410 | 0.1726 | 0.3660 | 85.0099 | 86.5165 | 0.98 | *    |\n",
            "    2 | 71168/98794 | 0.0945 | 0.1703 | 0.3533 | 85.1697 | 86.5165 | 1.01 | *    |\n",
            "    2 | 77568/98794 | 0.1807 | 0.1715 | 0.3571 | 85.1088 | 86.5165 | 1.03 | *    |\n",
            "    2 | 83968/98794 | 0.2653 | 0.1688 | 0.3571 | 85.1621 | 86.5165 | 1.05 | *    |\n",
            "    2 | 90368/98794 | 0.1971 | 0.1645 | 0.3577 | 85.1012 | 86.5165 | 1.08 | *    |\n",
            "    2 | 96768/98794 | 0.2625 | 0.1823 | 0.3534 | 85.6338 | 86.5165 | 1.10 | *    |\n",
            "    2 | 98816/98794 | 0.1237 | 0.1791 |\n",
            "Validation Accuracy :  (86.5165119464313, 0.3057456)\n"
          ]
        }
      ],
      "source": [
        "torch.manual_seed(1234)\n",
        "\n",
        "epochs = 3 \n",
        "dev_value, test_y_pred = train(lr, batch_size, word_dropout, batch_size, weight_decay) "
      ]
    },
    {
      "cell_type": "code",
      "execution_count": 83,
      "metadata": {
        "id": "Z1hq5605hbjx",
        "colab": {
          "base_uri": "https://localhost:8080/"
        },
        "outputId": "bf6731b3-c9c4-4188-aeb7-93e2d134ab85"
      },
      "outputs": [
        {
          "output_type": "stream",
          "name": "stdout",
          "text": [
            "Correct! You earned 20/20 points. You are a star!\n",
            "\n",
            "Your submission has been successfully recorded in the gradebook.\n"
          ]
        }
      ],
      "source": [
        "# PennGrader Grading Cell\n",
        "if NOTEBOOK:\n",
        "    grader.grade(test_case_id = 'test_dan_predictions', answer = test_y_pred)"
      ]
    },
    {
      "cell_type": "markdown",
      "metadata": {
        "id": "iR-DGV_94HJx"
      },
      "source": [
        "#2.Reinforcement Learning Section"
      ]
    },
    {
      "cell_type": "code",
      "execution_count": 51,
      "metadata": {
        "id": "mloN11-laGA6",
        "colab": {
          "base_uri": "https://localhost:8080/"
        },
        "outputId": "6f65a2bd-683e-44bd-f3a4-a3c310bf514a"
      },
      "outputs": [
        {
          "output_type": "stream",
          "name": "stdout",
          "text": [
            "\r0% [Working]\r            \rGet:1 https://cloud.r-project.org/bin/linux/ubuntu bionic-cran40/ InRelease [3,626 B]\n",
            "Ign:2 https://developer.download.nvidia.com/compute/cuda/repos/ubuntu1804/x86_64  InRelease\n",
            "Get:3 http://security.ubuntu.com/ubuntu bionic-security InRelease [88.7 kB]\n",
            "Ign:4 https://developer.download.nvidia.com/compute/machine-learning/repos/ubuntu1804/x86_64  InRelease\n",
            "Get:5 https://developer.download.nvidia.com/compute/cuda/repos/ubuntu1804/x86_64  Release [696 B]\n",
            "Hit:6 https://developer.download.nvidia.com/compute/machine-learning/repos/ubuntu1804/x86_64  Release\n",
            "Hit:7 http://archive.ubuntu.com/ubuntu bionic InRelease\n",
            "Get:8 https://developer.download.nvidia.com/compute/cuda/repos/ubuntu1804/x86_64  Release.gpg [836 B]\n",
            "Get:9 http://ppa.launchpad.net/c2d4u.team/c2d4u4.0+/ubuntu bionic InRelease [15.9 kB]\n",
            "Get:10 http://archive.ubuntu.com/ubuntu bionic-updates InRelease [88.7 kB]\n",
            "Get:11 https://cloud.r-project.org/bin/linux/ubuntu bionic-cran40/ Packages [82.3 kB]\n",
            "Hit:13 http://ppa.launchpad.net/cran/libgit2/ubuntu bionic InRelease\n",
            "Get:14 http://archive.ubuntu.com/ubuntu bionic-backports InRelease [74.6 kB]\n",
            "Get:15 http://ppa.launchpad.net/deadsnakes/ppa/ubuntu bionic InRelease [15.9 kB]\n",
            "Get:16 https://developer.download.nvidia.com/compute/cuda/repos/ubuntu1804/x86_64  Packages [952 kB]\n",
            "Get:17 http://ppa.launchpad.net/graphics-drivers/ppa/ubuntu bionic InRelease [21.3 kB]\n",
            "Get:18 http://security.ubuntu.com/ubuntu bionic-security/restricted amd64 Packages [884 kB]\n",
            "Get:19 http://security.ubuntu.com/ubuntu bionic-security/universe amd64 Packages [1,490 kB]\n",
            "Get:20 http://security.ubuntu.com/ubuntu bionic-security/main amd64 Packages [2,694 kB]\n",
            "Get:21 http://ppa.launchpad.net/c2d4u.team/c2d4u4.0+/ubuntu bionic/main Sources [1,831 kB]\n",
            "Get:22 http://archive.ubuntu.com/ubuntu bionic-updates/multiverse amd64 Packages [29.8 kB]\n",
            "Get:23 http://archive.ubuntu.com/ubuntu bionic-updates/restricted amd64 Packages [918 kB]\n",
            "Get:24 http://archive.ubuntu.com/ubuntu bionic-updates/universe amd64 Packages [2,268 kB]\n",
            "Get:25 http://ppa.launchpad.net/c2d4u.team/c2d4u4.0+/ubuntu bionic/main amd64 Packages [938 kB]\n",
            "Get:26 http://archive.ubuntu.com/ubuntu bionic-updates/main amd64 Packages [3,133 kB]\n",
            "Get:27 http://archive.ubuntu.com/ubuntu bionic-backports/universe amd64 Packages [12.9 kB]\n",
            "Get:28 http://archive.ubuntu.com/ubuntu bionic-backports/main amd64 Packages [12.2 kB]\n",
            "Get:29 http://ppa.launchpad.net/deadsnakes/ppa/ubuntu bionic/main amd64 Packages [45.2 kB]\n",
            "Get:30 http://ppa.launchpad.net/graphics-drivers/ppa/ubuntu bionic/main amd64 Packages [44.3 kB]\n",
            "Fetched 15.6 MB in 4s (3,738 kB/s)\n",
            "Reading package lists... Done\n",
            "Reading package lists... Done\n",
            "Building dependency tree       \n",
            "Reading state information... Done\n",
            "xvfb is already the newest version (2:1.19.6-1ubuntu4.10).\n",
            "0 upgraded, 0 newly installed, 0 to remove and 96 not upgraded.\n"
          ]
        }
      ],
      "source": [
        "if NOTEBOOK:\n",
        "  \"\"\"\n",
        "  installing dependencies\n",
        "  \"\"\"\n",
        "  !apt-get update\n",
        "  !apt-get -qq -y install libnvtoolsext1 > /dev/null\n",
        "  !ln -snf /usr/lib/x86_64-linux-gnu/libnvrtc-builtins.so.8.0 /usr/lib/x86_64-linux-gnu/libnvrtc-builtins.so\n",
        "  !apt-get -qq -y install xvfb freeglut3-dev ffmpeg> /dev/null\n",
        "  !pip -q install gym\n",
        "  !pip -q install pyglet\n",
        "  !pip -q install pyopengl\n",
        "  !pip -q install pyvirtualdisplay\n",
        "  !apt-get install xvfb"
      ]
    },
    {
      "cell_type": "code",
      "execution_count": 52,
      "metadata": {
        "id": "M_8V6fYxaH6x"
      },
      "outputs": [],
      "source": [
        "\"\"\"\n",
        "Imports\n",
        "\"\"\"\n",
        "\n",
        "import gym\n",
        "import numpy as np\n",
        "import math\n",
        "import matplotlib.pyplot as plt\n",
        "from collections import deque\n",
        "import random\n",
        "from gym import wrappers\n",
        "import torch\n",
        "from pyvirtualdisplay import Display\n",
        "display = Display(visible=0, size=(1024, 768))\n",
        "display.start()\n",
        "import os\n",
        "\n",
        "import matplotlib.animation\n",
        "import numpy as np\n",
        "from IPython.display import HTML"
      ]
    },
    {
      "cell_type": "code",
      "execution_count": 53,
      "metadata": {
        "id": "WR-sHW-Yae3w"
      },
      "outputs": [],
      "source": [
        "## Wrapper for Rendering the Environment\n",
        "\n",
        "class ResizeObservation(gym.Wrapper):\n",
        "    def __init__(self, env, shape):\n",
        "        super(ResizeObservation, self).__init__(env)\n",
        "        if isinstance(shape, int):\n",
        "            shape = (shape, shape)\n",
        "        assert all(x > 0 for x in shape), shape\n",
        "        self.env = env\n",
        "        self.shape = tuple(shape)\n",
        "\n",
        "    def render(self):\n",
        "\n",
        "        from PIL import Image\n",
        "        obs = self.env.render(mode = 'rgb_array')\n",
        "        im = Image.fromarray(np.uint8(obs))\n",
        "        im = im.resize(self.shape)\n",
        "        return np.asarray(im)\n",
        "\n",
        "resize_observation_shape = 100\n"
      ]
    },
    {
      "cell_type": "markdown",
      "metadata": {
        "id": "10aD0AWF5LvF"
      },
      "source": [
        "### 4.1 Discretize the state [TODO: 3pts]"
      ]
    },
    {
      "cell_type": "markdown",
      "metadata": {
        "id": "DPREgT6I5MU1"
      },
      "source": [
        "The state of Mountain Car is represented by a vector of 2 (float) values. The first element of the state vector represents the cart’s position, and the second element represents the cart’s velocity. You can use `env.observation_space.low` and `env.observation_space.high` to find out its upper and lower bound. \n",
        "\n",
        "\n",
        "As you can see the state space of the Mountain Car is continuous, which means that there are infinitely many state-action pairs , making basic Q-learning impossible to satisfy this condition. Instead, for a simple environment like Mountain Car, we can discretize the continuous state space and round the state to nearest discretization state. Then use the discretization state as the index of Q value matrix.\n",
        "\n",
        "For example, let us say you have a continuous state with range of [0.5, 1], and you want to discretize it in the range [1, 100] (only integers). You have to linearly map the continuous interval [0.5, 1] to the discrete interval [1, 100], therefore a number like .75 would go to 25. \n",
        "\n",
        "The linear mapping from a continuous value $c$ to its equivalent discrete value $d$ would be expressed as:\n",
        "\n",
        "$$d = \\text{round}\\left((c - state.minimum) * discretization scale \\right)$$"
      ]
    },
    {
      "cell_type": "code",
      "execution_count": 54,
      "metadata": {
        "id": "s8WtSP845IZQ"
      },
      "outputs": [],
      "source": [
        "def discretize(state, discretization, env):\n",
        "    \"\"\"    \n",
        "    Discretize the continuous state to a given discretization range.\n",
        "    Args:\n",
        "        state (np.array, shape=(2,)): the observation state, here it is [position, velocity]\n",
        "        discretization(np.array, shape=(2,)): the discretization ,by default, it is np.array([100,10])\n",
        "        env: the RL environment \n",
        "        \n",
        "    Returns:\n",
        "        discretized_state (np.array, shape=(2,), dtype=int): the discretized state\n",
        "    \"\"\"\n",
        "\n",
        "    ### STUDENT's TODO ###\n",
        "    low = env.observation_space.low\n",
        "    high = env.observation_space.high\n",
        "    pos = round( (state[0]-low[0]) * discretization[0])\n",
        "    vel = round( (state[1]-low[1]) * discretization[1])\n",
        "    discretized_state = np.array((pos, vel))\n",
        "\n",
        "    return discretized_state"
      ]
    },
    {
      "cell_type": "code",
      "execution_count": 55,
      "metadata": {
        "id": "-lTigjq65E3P",
        "colab": {
          "base_uri": "https://localhost:8080/"
        },
        "outputId": "5aefbad8-cd9f-43c6-b485-29e63587cb30"
      },
      "outputs": [
        {
          "output_type": "stream",
          "name": "stdout",
          "text": [
            "[176   7]\n",
            "Well done\n"
          ]
        }
      ],
      "source": [
        "def test_discretization():\n",
        "    test_state = np.array([0.556, 0.6])\n",
        "    discretization = np.array([100, 10])\n",
        "    env = gym.make('MountainCar-v0')\n",
        "    env = ResizeObservation(env, resize_observation_shape)\n",
        "    d = discretize(test_state, discretization, env)\n",
        "    print(d)\n",
        "    if d.shape != tuple([2]) or d[0] != 176 or d[1] != 7:\n",
        "        print(\"Incorrect discretization\")\n",
        "    else:\n",
        "        print(\"Well done\")\n",
        "\n",
        "if NOTEBOOK == 1:\n",
        "    test_discretization()\n",
        "    "
      ]
    },
    {
      "cell_type": "code",
      "execution_count": 56,
      "metadata": {
        "id": "TiIhvQKp5F6a",
        "colab": {
          "base_uri": "https://localhost:8080/"
        },
        "outputId": "8f9841c0-cefe-493f-b887-c477be6be968"
      },
      "outputs": [
        {
          "output_type": "stream",
          "name": "stdout",
          "text": [
            "Correct! You earned 3/3 points. You are a star!\n",
            "\n",
            "Your submission has been successfully recorded in the gradebook.\n"
          ]
        }
      ],
      "source": [
        "# PennGrader Grading Cell\n",
        "if NOTEBOOK:\n",
        "    test = np.array([.12,.56])\n",
        "    space = np.array([6,20])\n",
        "    env = gym.make('MountainCar-v0')\n",
        "    d = discretize(test, space, env)\n",
        "    grader.grade(test_case_id = 'test_discretize', answer = d)"
      ]
    },
    {
      "cell_type": "markdown",
      "metadata": {
        "id": "p6UqMyZxa4G4"
      },
      "source": [
        "### 4.2 Choose action for a certain state [TODO: 2pts]"
      ]
    },
    {
      "cell_type": "markdown",
      "metadata": {
        "id": "GWvIaFHHa9TM"
      },
      "source": [
        "Suppose now you are already given a state and a certain Q value matrix, the naive way is just choosing the action with highest Q value. However, in the real world it's better to consider the randomness of the action while learning, it could lead to a more robust controller and also let agent explore the environment.\n",
        "\n",
        "In this part, you need to implement an **epsilon greedy strategy** to choose action for a certain state.  **Epsilon greedy strategy** means that, given a threshold epsilon (between 0 and 1), your controller would have the probability of epsilon of just outputing a random action. For the rest of the time, it chooses the action with highest Q value. \n",
        "\n",
        "Implement this strategy in the `choose_action` function."
      ]
    },
    {
      "cell_type": "code",
      "execution_count": 57,
      "metadata": {
        "id": "15YRXq2IbBWj"
      },
      "outputs": [],
      "source": [
        "def choose_action(epsilon, Q, state, env):\n",
        "    \"\"\"    \n",
        "    Choose an action according to an epsilon greedy strategy.\n",
        "    Args:\n",
        "        epsilon (float): the probability of choosing a random action\n",
        "        Q (np.array): The Q value matrix, here it is 3D for the two observation states and action states\n",
        "        state (np.array): the observation state, here it is [position, velocity]\n",
        "        env: the RL environment \n",
        "        \n",
        "    Returns:\n",
        "        action (int): the chosen action\n",
        "    \"\"\"\n",
        "    action = 0\n",
        "    random.seed(42)\n",
        "    ### STUDENT's TODO ###\n",
        "    if random.random() < epsilon:\n",
        "      action = env.action_space.sample()\n",
        "    else:\n",
        "      action = np.argmax(Q[state[0],state[1]])\n",
        "\n",
        "    return action\n"
      ]
    },
    {
      "cell_type": "code",
      "execution_count": 58,
      "metadata": {
        "id": "gsKG_0TBbKla",
        "colab": {
          "base_uri": "https://localhost:8080/"
        },
        "outputId": "be87cd23-0f7f-41d7-b86f-2d40d668c1a0"
      },
      "outputs": [
        {
          "output_type": "stream",
          "name": "stdout",
          "text": [
            "Looks nondeterministic\n",
            "Looks like the right shape\n"
          ]
        }
      ],
      "source": [
        "\n",
        "def test_choose_action_shape():\n",
        "    Q = np.random.uniform(low = -1, \n",
        "                        high = 1, \n",
        "                        size = (100, 10, env.action_space.n))\n",
        "    a = [choose_action(0.7, Q, (5, 3), env) for i in range(1000)]\n",
        "    if type(a[0]) == int and a[0] < env.action_space.n:\n",
        "        print(\"Looks like the right shape\")\n",
        "    else:\n",
        "        print(\"Incorrect return value (wrong type or higher than the number of action types)\")\n",
        "\n",
        "def test_choose_action_nondeterminacy():\n",
        "    Q = np.random.uniform(low = -1, high = 1, size = (100, 10, env.action_space.n)) #added this in myself since Q was never defined before (I think a bug?)\n",
        "    a = [choose_action(0.7, Q, (5, 3), env) for i in range(1000)]\n",
        "    if len(set(a)) > 1:\n",
        "        print(\"Looks nondeterministic\")\n",
        "    else:\n",
        "        print(\"Probably too deterministic\")\n",
        "if NOTEBOOK == 1:\n",
        "    test_choose_action_nondeterminacy()\n",
        "    test_choose_action_shape()\n"
      ]
    },
    {
      "cell_type": "code",
      "execution_count": 59,
      "metadata": {
        "id": "ruZ4eTd0ZuIP",
        "colab": {
          "base_uri": "https://localhost:8080/"
        },
        "outputId": "b4c5fea1-055b-4494-fd69-60eab8a496dd"
      },
      "outputs": [
        {
          "output_type": "stream",
          "name": "stdout",
          "text": [
            "Correct! You earned 2/2 points. You are a star!\n",
            "\n",
            "Your submission has been successfully recorded in the gradebook.\n"
          ]
        }
      ],
      "source": [
        "from numpy.random.mtrand import seed\n",
        "# PennGrader Grading Cell\n",
        "if NOTEBOOK:\n",
        "    np.random.seed(42)\n",
        "    Q = np.random.uniform(low = -1, \n",
        "                        high = 1, \n",
        "                        size = (100, 10, env.action_space.n))\n",
        "    a = [choose_action(0.7, Q, (5, 3), env) for i in range(10)]\n",
        "    grader.grade(test_case_id = 'test_choose_action', answer = a)"
      ]
    },
    {
      "cell_type": "markdown",
      "metadata": {
        "id": "vxVrMtGWf3ir"
      },
      "source": [
        "### 4.3 Decay epsilon [TODO: 1pts]"
      ]
    },
    {
      "cell_type": "markdown",
      "metadata": {
        "id": "bJXKfCpCf4U7"
      },
      "source": [
        "In the Q-learning, we want the agent to explore the environment while efficiently reach the goal. \n",
        "\n",
        "Therefore, we usually set a high epsilon at the beginning of each trajectory, and decay the epsilon in the following steps. \n",
        "\n",
        "Implement the decay epsilon function for a certain step in the `update_epsilon` function."
      ]
    },
    {
      "cell_type": "code",
      "execution_count": 60,
      "metadata": {
        "id": "muGcECXEf8g5"
      },
      "outputs": [],
      "source": [
        "def update_epsilon(epsilon, decay_rate):\n",
        "    \"\"\"\n",
        "    Decay epsilon by the specified rate. Note: it should be just one line of code.\n",
        "    \n",
        "    Args:\n",
        "        epsilon (float): the probability of choosing a random action\n",
        "        decay_rate (float): the decay rate (between 0 and 1) to scale epsilon by\n",
        "        \n",
        "    Returns:\n",
        "        updated epsilon\n",
        "    \"\"\"\n",
        "  \n",
        "    ### STUDENT's TODO ###\n",
        "    epsilon = epsilon * decay_rate\n",
        "\n",
        "    return epsilon\n"
      ]
    },
    {
      "cell_type": "code",
      "execution_count": 61,
      "metadata": {
        "id": "hQfFJt65f9Dz",
        "colab": {
          "base_uri": "https://localhost:8080/"
        },
        "outputId": "ff58754d-cb7f-473c-e2c6-ab56ff121703"
      },
      "outputs": [
        {
          "output_type": "stream",
          "name": "stdout",
          "text": [
            "Implementation of update_epsilon correct\n"
          ]
        }
      ],
      "source": [
        "def testUpdateEpsilon():\n",
        "    orig_ep = 0.51\n",
        "    decay = 0.97\n",
        "    new_ep = update_epsilon(orig_ep, decay)\n",
        "    if not type(new_ep) == float:\n",
        "        print(\"Wrong type returned\")\n",
        "    elif new_ep != 0.4947:\n",
        "        print(\"Incorrect implementation\")\n",
        "    else:\n",
        "        print(\"Implementation of update_epsilon correct\")\n",
        "\n",
        "if NOTEBOOK == 1:\n",
        "    (testUpdateEpsilon())"
      ]
    },
    {
      "cell_type": "code",
      "execution_count": 62,
      "metadata": {
        "id": "INOA03Ibf-gQ",
        "colab": {
          "base_uri": "https://localhost:8080/"
        },
        "outputId": "9d80e25e-06c9-4dd2-8184-6001c5494c91"
      },
      "outputs": [
        {
          "output_type": "stream",
          "name": "stdout",
          "text": [
            "Correct! You earned 1/1 points. You are a star!\n",
            "\n",
            "Your submission has been successfully recorded in the gradebook.\n"
          ]
        }
      ],
      "source": [
        "# PennGrader Grading Cell\n",
        "if NOTEBOOK:\n",
        "    grader.grade(test_case_id = 'test_update_epsilon', answer = update_epsilon)"
      ]
    },
    {
      "cell_type": "markdown",
      "metadata": {
        "id": "EPNHwEHTRT2L"
      },
      "source": [
        "### 2.4 Update Q Value [5 pts]\n"
      ]
    },
    {
      "cell_type": "markdown",
      "metadata": {
        "id": "21QtD2igRUup"
      },
      "source": [
        "Recall the incremental Q Value update function is:\n",
        "\n",
        "$$Q(s,a) = Q(s,a)+ \\alpha(R(s,a,s')+\\gamma\\max_{a'}Q(s',a')-Q(s,a) )$$\n",
        "\n",
        "Where $s$ is current state, $s'$ is next state, $a$ is current action, $a'$ is next possible action, $\\alpha$ is learning rate, $\\gamma$ is discount rate, $s'$ is next state. $Q(s,a)$ is Q value for a certain state and action pair, $R(s,a,s')$ is the reward of applying the state and action pair that arrive at $s'$. $Q(s',a')$ is the Q value of state action pair $(s',a')$. Implement the `update_Q` function."
      ]
    },
    {
      "cell_type": "code",
      "execution_count": 63,
      "metadata": {
        "id": "9KclPSQ9RX6U",
        "colab": {
          "base_uri": "https://localhost:8080/"
        },
        "outputId": "7f03d617-9341-42af-a559-d64f4f97d556"
      },
      "outputs": [
        {
          "output_type": "stream",
          "name": "stdout",
          "text": [
            "Q update looks correct!\n"
          ]
        }
      ],
      "source": [
        "def update_Q(Q, state_disc, next_state_disc, action, discount, learning_rate, reward, terminal):\n",
        "    \"\"\"\n",
        "    \n",
        "    Update Q values following the Q-learning update rule. \n",
        "    \n",
        "    Be sure to handle the terminal state case.\n",
        "    \n",
        "    Args:\n",
        "        Q (np.array): The Q value matrix, here it is 3D for the two observation states and action states\n",
        "        state_disc (np.array): the discretized version of the current observation state [position, velocity]\n",
        "        next_state_disc (np.array): the discretized version of the next observation state [position, velocity]\n",
        "        action (int): the chosen action\n",
        "        discount (float): the discount factor, may be referred to as gamma\n",
        "        learning_rate (float): the learning rate, may be referred to as alpha\n",
        "        reward (float): the current (immediate) reward\n",
        "        terminal (bool): flag for whether the state is terminal\n",
        "        \n",
        "    Returns:\n",
        "        Q, with the [state_disc[0], state_disc[1], action] entry updated.\n",
        "    \"\"\"    \n",
        "    ### STUDENT's TODO ###\n",
        "    if not terminal:\n",
        "      Q[state_disc[0],state_disc[1],action] = Q[state_disc[0],state_disc[1],action] + learning_rate * (reward + discount * np.max(Q[next_state_disc[0],next_state_disc[1]]) - Q[state_disc[0],state_disc[1],action])\n",
        "    return Q\n",
        "\n",
        "def test_update_Q():\n",
        "    Q = np.ones((3, 3, env.action_space.n))\n",
        "    state_disc = (2, 2)\n",
        "    next_state_disc = (2,1)\n",
        "    action = 1\n",
        "    discount = 0.9\n",
        "    learning_rate = 0.01\n",
        "    reward = 10\n",
        "    terminal = False\n",
        "    Q = update_Q(Q,state_disc,next_state_disc,action,discount,learning_rate, reward, terminal) \n",
        "    if Q.tolist() != [[[1.0, 1.0, 1.0], [1.0, 1.0, 1.0], [1.0, 1.0, 1.0]], [[1.0, 1.0, 1.0], [1.0, 1.0, 1.0], [1.0, 1.0, 1.0]], [[1.0, 1.0, 1.0], [1.0, 1.0, 1.0], [1.0, 1.099, 1.0]]]:\n",
        "        print(\"Incorrect Q update\")\n",
        "    else:\n",
        "        print(\"Q update looks correct!\")\n",
        "\n",
        "if NOTEBOOK == 1:    \n",
        "    test_update_Q()"
      ]
    },
    {
      "cell_type": "code",
      "execution_count": 64,
      "metadata": {
        "id": "qnWW61oYRgeh",
        "colab": {
          "base_uri": "https://localhost:8080/"
        },
        "outputId": "5b3fd70f-923f-4a6e-ee0b-fef18cd90354"
      },
      "outputs": [
        {
          "output_type": "stream",
          "name": "stdout",
          "text": [
            "Correct! You earned 5/5 points. You are a star!\n",
            "\n",
            "Your submission has been successfully recorded in the gradebook.\n"
          ]
        }
      ],
      "source": [
        "# PennGrader Grading Cell\n",
        "if NOTEBOOK:\n",
        "    grader.grade(test_case_id = 'test_update_Q_backend', answer = (update_Q, env.action_space.n))"
      ]
    },
    {
      "cell_type": "markdown",
      "metadata": {
        "id": "5upsphRjXZnu"
      },
      "source": [
        "###2.5 Main Q-learning Loop"
      ]
    },
    {
      "cell_type": "code",
      "execution_count": 65,
      "metadata": {
        "id": "6NQ4KG3NYjHl"
      },
      "outputs": [],
      "source": [
        "class ResizeObservation(gym.Wrapper):\n",
        "    def __init__(self, env, shape):\n",
        "        super(ResizeObservation, self).__init__(env)\n",
        "        if isinstance(shape, int):\n",
        "            shape = (shape, shape)\n",
        "        assert all(x > 0 for x in shape), shape\n",
        "        self.env = env\n",
        "        self.shape = tuple(shape)\n",
        "\n",
        "    def render(self):\n",
        "\n",
        "        from PIL import Image\n",
        "        obs = self.env.render(mode = 'rgb_array')\n",
        "        im = Image.fromarray(np.uint8(obs))\n",
        "        im = im.resize(self.shape)\n",
        "        return np.asarray(im)"
      ]
    },
    {
      "cell_type": "markdown",
      "metadata": {
        "id": "acmiigM1XagE"
      },
      "source": [
        "You have implemented all the untility functions for Q-learning. We've provided you the code for the main Q-learning loop, please carefully go through the next cell."
      ]
    },
    {
      "cell_type": "code",
      "execution_count": 66,
      "metadata": {
        "id": "O6BxOuusXcAT"
      },
      "outputs": [],
      "source": [
        "def Qlearning(Q, discretization, env, learning_rate, discount, epsilon, decay_rate, max_episodes=5000):\n",
        "    \"\"\"\n",
        "    \n",
        "    The main Q-learning function, utilizing the functions implemented above.\n",
        "          \n",
        "    \"\"\"\n",
        "    reward_list = []\n",
        "    position_list = []\n",
        "    success_list = []\n",
        "    success = 0 # count of number of successes reached \n",
        "    frames = []\n",
        "  \n",
        "    for i in range(max_episodes):\n",
        "        # Initialize parameters\n",
        "        done = False # indicates whether the episode is done\n",
        "        terminal = False # indicates whether the episode is done AND the car has reached the flag (>=0.5 position)\n",
        "        tot_reward = 0 # sum of total reward over a single\n",
        "        state = env.reset() # initial environment state\n",
        "        state_disc = discretize(state,discretization,env)\n",
        "\n",
        "        while done != True:             \n",
        "            # Determine next action \n",
        "            action = choose_action(epsilon, Q, state_disc, env)                                      \n",
        "            # Get next_state, reward, and done using env.step(), see http://gym.openai.com/docs/#environments for reference\n",
        "            if i==1 or i==(max_episodes-1):\n",
        "               frames.append(env.render())\n",
        "            next_state, reward, done, _ = env.step(action) \n",
        "            # Discretize next state \n",
        "            next_state_disc = discretize(next_state,discretization,env)\n",
        "            # Update terminal\n",
        "            terminal = done and next_state[0]>=0.5\n",
        "            # Update Q\n",
        "            Q = update_Q(Q,state_disc,next_state_disc,action,discount,learning_rate, reward, terminal)  \n",
        "            # Update tot_reward, state_disc, and success (if applicable)\n",
        "            tot_reward += reward\n",
        "            state_disc = next_state_disc\n",
        "\n",
        "            if terminal: success +=1 \n",
        "            \n",
        "        epsilon = update_epsilon(epsilon, decay_rate) #Update level of epsilon using update_epsilon()\n",
        "\n",
        "        # Track rewards\n",
        "        reward_list.append(tot_reward)\n",
        "        position_list.append(next_state[0])\n",
        "        success_list.append(success/(i+1))\n",
        "\n",
        "        if (i+1) % 100 == 0:\n",
        "            print('Episode: ', i+1, 'Average Reward over 100 Episodes: ',np.mean(reward_list))\n",
        "            reward_list = []\n",
        "                \n",
        "    env.close()\n",
        "    \n",
        "    return Q, position_list, success_list, frames"
      ]
    },
    {
      "cell_type": "markdown",
      "metadata": {
        "id": "ImCUNOzKXh6s"
      },
      "source": [
        "### 2.6 Define Params and Launch Q-learning [5 pts]"
      ]
    },
    {
      "cell_type": "markdown",
      "metadata": {
        "id": "Pf1d3MeCXijE"
      },
      "source": [
        "This is the main function for launching the Q-learning. You can run this cell to train the Q-learning without modifying anything and results would be saved to `./expert_Q.npy`. \n",
        "\n",
        "\n"
      ]
    },
    {
      "cell_type": "code",
      "execution_count": 67,
      "metadata": {
        "id": "aCUKXBQxXrgx",
        "colab": {
          "base_uri": "https://localhost:8080/"
        },
        "outputId": "fb974677-4339-48e8-bab9-7f98c2732d4b"
      },
      "outputs": [
        {
          "output_type": "stream",
          "name": "stdout",
          "text": [
            "Episode:  100 Average Reward over 100 Episodes:  -200.0\n",
            "Episode:  200 Average Reward over 100 Episodes:  -200.0\n",
            "Episode:  300 Average Reward over 100 Episodes:  -200.0\n",
            "Episode:  400 Average Reward over 100 Episodes:  -200.0\n",
            "Episode:  500 Average Reward over 100 Episodes:  -199.28\n",
            "Episode:  600 Average Reward over 100 Episodes:  -195.25\n",
            "Episode:  700 Average Reward over 100 Episodes:  -195.68\n",
            "Episode:  800 Average Reward over 100 Episodes:  -199.2\n",
            "Episode:  900 Average Reward over 100 Episodes:  -186.02\n",
            "Episode:  1000 Average Reward over 100 Episodes:  -195.06\n",
            "Episode:  1100 Average Reward over 100 Episodes:  -189.66\n",
            "Episode:  1200 Average Reward over 100 Episodes:  -194.8\n",
            "Episode:  1300 Average Reward over 100 Episodes:  -191.31\n",
            "Episode:  1400 Average Reward over 100 Episodes:  -178.6\n",
            "Episode:  1500 Average Reward over 100 Episodes:  -187.51\n",
            "Episode:  1600 Average Reward over 100 Episodes:  -198.14\n",
            "Episode:  1700 Average Reward over 100 Episodes:  -167.06\n",
            "Episode:  1800 Average Reward over 100 Episodes:  -190.69\n",
            "Episode:  1900 Average Reward over 100 Episodes:  -199.06\n",
            "Episode:  2000 Average Reward over 100 Episodes:  -167.59\n",
            "Episode:  2100 Average Reward over 100 Episodes:  -154.05\n",
            "Episode:  2200 Average Reward over 100 Episodes:  -179.52\n",
            "Episode:  2300 Average Reward over 100 Episodes:  -167.62\n",
            "Episode:  2400 Average Reward over 100 Episodes:  -156.06\n",
            "Episode:  2500 Average Reward over 100 Episodes:  -183.98\n",
            "Episode:  2600 Average Reward over 100 Episodes:  -178.49\n",
            "Episode:  2700 Average Reward over 100 Episodes:  -173.0\n",
            "Episode:  2800 Average Reward over 100 Episodes:  -167.96\n",
            "Episode:  2900 Average Reward over 100 Episodes:  -176.66\n",
            "Episode:  3000 Average Reward over 100 Episodes:  -187.5\n",
            "Episode:  3100 Average Reward over 100 Episodes:  -161.17\n",
            "Episode:  3200 Average Reward over 100 Episodes:  -159.74\n",
            "Episode:  3300 Average Reward over 100 Episodes:  -156.05\n",
            "Episode:  3400 Average Reward over 100 Episodes:  -165.31\n",
            "Episode:  3500 Average Reward over 100 Episodes:  -147.66\n",
            "Episode:  3600 Average Reward over 100 Episodes:  -152.57\n",
            "Episode:  3700 Average Reward over 100 Episodes:  -163.61\n",
            "Episode:  3800 Average Reward over 100 Episodes:  -156.62\n",
            "Episode:  3900 Average Reward over 100 Episodes:  -154.48\n",
            "Episode:  4000 Average Reward over 100 Episodes:  -155.74\n",
            "Episode:  4100 Average Reward over 100 Episodes:  -161.27\n",
            "Episode:  4200 Average Reward over 100 Episodes:  -155.26\n",
            "Episode:  4300 Average Reward over 100 Episodes:  -156.03\n",
            "Episode:  4400 Average Reward over 100 Episodes:  -179.53\n",
            "Episode:  4500 Average Reward over 100 Episodes:  -163.89\n",
            "Episode:  4600 Average Reward over 100 Episodes:  -162.8\n",
            "Episode:  4700 Average Reward over 100 Episodes:  -151.98\n",
            "Episode:  4800 Average Reward over 100 Episodes:  -153.09\n",
            "Episode:  4900 Average Reward over 100 Episodes:  -151.31\n",
            "Episode:  5000 Average Reward over 100 Episodes:  -149.93\n",
            "Episode:  5100 Average Reward over 100 Episodes:  -145.51\n",
            "Episode:  5200 Average Reward over 100 Episodes:  -140.79\n",
            "Episode:  5300 Average Reward over 100 Episodes:  -142.97\n",
            "Episode:  5400 Average Reward over 100 Episodes:  -139.82\n",
            "Episode:  5500 Average Reward over 100 Episodes:  -145.49\n",
            "Episode:  5600 Average Reward over 100 Episodes:  -152.84\n",
            "Episode:  5700 Average Reward over 100 Episodes:  -148.85\n",
            "Episode:  5800 Average Reward over 100 Episodes:  -151.01\n",
            "Episode:  5900 Average Reward over 100 Episodes:  -149.95\n",
            "Episode:  6000 Average Reward over 100 Episodes:  -187.76\n",
            "Episode:  6100 Average Reward over 100 Episodes:  -165.25\n",
            "Episode:  6200 Average Reward over 100 Episodes:  -142.49\n",
            "Episode:  6300 Average Reward over 100 Episodes:  -142.65\n",
            "Episode:  6400 Average Reward over 100 Episodes:  -140.22\n",
            "Episode:  6500 Average Reward over 100 Episodes:  -139.74\n",
            "Episode:  6600 Average Reward over 100 Episodes:  -135.63\n",
            "Episode:  6700 Average Reward over 100 Episodes:  -138.85\n",
            "Episode:  6800 Average Reward over 100 Episodes:  -150.74\n",
            "Episode:  6900 Average Reward over 100 Episodes:  -153.44\n",
            "Episode:  7000 Average Reward over 100 Episodes:  -157.37\n",
            "Episode:  7100 Average Reward over 100 Episodes:  -181.39\n",
            "Episode:  7200 Average Reward over 100 Episodes:  -170.2\n",
            "Episode:  7300 Average Reward over 100 Episodes:  -154.24\n",
            "Episode:  7400 Average Reward over 100 Episodes:  -149.04\n",
            "Episode:  7500 Average Reward over 100 Episodes:  -144.87\n",
            "Episode:  7600 Average Reward over 100 Episodes:  -148.94\n",
            "Episode:  7700 Average Reward over 100 Episodes:  -140.18\n",
            "Episode:  7800 Average Reward over 100 Episodes:  -148.93\n",
            "Episode:  7900 Average Reward over 100 Episodes:  -173.84\n",
            "Episode:  8000 Average Reward over 100 Episodes:  -173.64\n",
            "Episode:  8100 Average Reward over 100 Episodes:  -162.7\n",
            "Episode:  8200 Average Reward over 100 Episodes:  -162.65\n",
            "Episode:  8300 Average Reward over 100 Episodes:  -165.78\n",
            "Episode:  8400 Average Reward over 100 Episodes:  -168.14\n",
            "Episode:  8500 Average Reward over 100 Episodes:  -173.86\n",
            "Episode:  8600 Average Reward over 100 Episodes:  -156.82\n",
            "Episode:  8700 Average Reward over 100 Episodes:  -152.39\n",
            "Episode:  8800 Average Reward over 100 Episodes:  -148.88\n",
            "Episode:  8900 Average Reward over 100 Episodes:  -153.98\n",
            "Episode:  9000 Average Reward over 100 Episodes:  -160.18\n",
            "Looks like you're learning nicely!\n"
          ]
        }
      ],
      "source": [
        "# Initialize Mountain Car Environment\n",
        "env = gym.make('MountainCar-v0')\n",
        "\n",
        "env = ResizeObservation(env,100) #Resize observations\n",
        "\n",
        "env.seed(42)\n",
        "np.random.seed(42)\n",
        "env.reset()\n",
        "\n",
        "#Student TODO\n",
        "# Parameters    \n",
        "learning_rate = 0.09\n",
        "discount = 0.99\n",
        "epsilon = 0.01\n",
        "decay_rate = 0.1\n",
        "max_episodes = 9000\n",
        "discretization = np.array([10,100])\n",
        "\n",
        "\n",
        "#InitQ\n",
        "num_states = (env.observation_space.high - env.observation_space.low)*discretization\n",
        "#Size of discretized state space \n",
        "num_states = np.round(num_states, 0).astype(int) + 1\n",
        "# Initialize Q table\n",
        "Q = np.random.uniform(low = -1, \n",
        "                      high = 1, \n",
        "                      size = (num_states[0], num_states[1], env.action_space.n))\n",
        "\n",
        "\n",
        "def test_Q_learning(successes):\n",
        "    # Run Q Learning by calling your Qlearning() function\n",
        "    if np.mean(successes[-1]) < 0.7:\n",
        "        print(\"Your Q-learning algorithm isn't producing good enough results!\")\n",
        "    else:\n",
        "        print(\"Looks like you're learning nicely!\")\n",
        "\n",
        "if NOTEBOOK == 1:\n",
        "    Q, position, successes, frames = Qlearning(Q, discretization, env, learning_rate, discount, epsilon, decay_rate, max_episodes)\n",
        "    np.save('./expert_Q.npy',Q) #Save the expert\n",
        "    test_Q_learning(successes)"
      ]
    },
    {
      "cell_type": "code",
      "execution_count": 68,
      "metadata": {
        "id": "LrHvrN6eYPAn",
        "colab": {
          "base_uri": "https://localhost:8080/"
        },
        "outputId": "b269176c-9731-4fa3-f882-f09f61bae238"
      },
      "outputs": [
        {
          "output_type": "stream",
          "name": "stdout",
          "text": [
            "Correct! You earned 5/5 points. You are a star!\n",
            "\n",
            "Your submission has been successfully recorded in the gradebook.\n"
          ]
        }
      ],
      "source": [
        "# PennGrader Grading Cell\n",
        "if NOTEBOOK:\n",
        "    grader.grade(test_case_id = 'test_successes', answer = successes)"
      ]
    },
    {
      "cell_type": "markdown",
      "metadata": {
        "id": "HWwTx91qXtkW"
      },
      "source": [
        "### 2.7 Visualization Results\n"
      ]
    },
    {
      "cell_type": "code",
      "execution_count": 69,
      "metadata": {
        "id": "IJNh1NcDXzIP",
        "colab": {
          "base_uri": "https://localhost:8080/",
          "height": 573
        },
        "outputId": "f9d9f2e6-a67b-4955-9d35-29262803e70a"
      },
      "outputs": [
        {
          "output_type": "display_data",
          "data": {
            "text/plain": [
              "<Figure size 432x288 with 1 Axes>"
            ],
            "image/png": "[encoded data removed]"
          },
          "metadata": {
            "needs_background": "light"
          }
        },
        {
          "output_type": "display_data",
          "data": {
            "text/plain": [
              "<Figure size 432x288 with 1 Axes>"
            ],
            "image/png": "[encoded data removed]"
          },
          "metadata": {
            "needs_background": "light"
          }
        }
      ],
      "source": [
        "import pandas as pd\n",
        "from PIL import Image \n",
        "\n",
        "if NOTEBOOK == 1:\n",
        "    plt.plot(successes)\n",
        "    plt.xlabel('Episode')\n",
        "    plt.ylabel('% of Episodes with Success')\n",
        "    plt.title('% Successes')\n",
        "    plt.show()\n",
        "    plt.close()\n",
        "\n",
        "    p = pd.Series(position)\n",
        "    ma = p.rolling(3).mean()\n",
        "    plt.plot(p, alpha=0.8)\n",
        "    plt.plot(ma)\n",
        "    plt.xlabel('Episode')\n",
        "    plt.ylabel('Position')\n",
        "    plt.title('Car Final Position')\n",
        "    plt.show()"
      ]
    },
    {
      "cell_type": "code",
      "execution_count": 70,
      "metadata": {
        "id": "Lgf0_JQFXzxI",
        "colab": {
          "base_uri": "https://localhost:8080/",
          "height": 333
        },
        "outputId": "c3f33dc5-dafe-42d8-9dc4-019fc640a87a"
      },
      "outputs": [
        {
          "output_type": "display_data",
          "data": {
            "text/plain": [
              "<Figure size 600x400 with 1 Axes>"
            ],
            "image/png": "[encoded data removed]"
          },
          "metadata": {
            "needs_background": "light"
          }
        }
      ],
      "source": [
        "#### Video plotting code #####################\n",
        "if NOTEBOOK == 1:\n",
        "  deep_frames = []\n",
        "  for obs in frames:\n",
        "    im = Image.fromarray(np.uint8(obs))\n",
        "    im = im.resize((600,400))\n",
        "    deep_frames.append(np.asarray(im))\n",
        "\n",
        "  plt.figure(figsize=(deep_frames[0].shape[1] / 72.0, deep_frames[0].shape[0] / 72.0), dpi = 72)\n",
        "  patch = plt.imshow(deep_frames[0])\n",
        "  plt.axis('off')\n",
        "  animate = lambda i: patch.set_data(deep_frames[i])\n",
        "  ani = matplotlib.animation.FuncAnimation(plt.gcf(), animate, frames=len(deep_frames), interval = 50)\n",
        "  HTML(ani.to_jshtml())\n"
      ]
    }
  ],
  "metadata": {
    "accelerator": "GPU",
    "colab": {
      "collapsed_sections": [],
      "name": "“skeleton.ipynb”的副本",
      "provenance": []
    },
    "kernelspec": {
      "display_name": "Python 3",
      "name": "python3"
    },
    "language_info": {
      "name": "python"
    }
  },
  "nbformat": 4,
  "nbformat_minor": 0
}